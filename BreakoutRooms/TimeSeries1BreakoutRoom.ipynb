{
  "cells": [
    {
      "cell_type": "markdown",
      "metadata": {
        "id": "view-in-github",
        "colab_type": "text"
      },
      "source": [
        "<a href=\"https://colab.research.google.com/github/usm-cos422-522/courseMaterials/blob/main/BreakoutRooms/TimeSeries1BreakoutRoom.ipynb\" target=\"_parent\"><img src=\"https://colab.research.google.com/assets/colab-badge.svg\" alt=\"Open In Colab\"/></a>"
      ]
    },
    {
      "cell_type": "code",
      "execution_count": null,
      "metadata": {
        "collapsed": true,
        "id": "xwPQU8_KEGVx"
      },
      "outputs": [],
      "source": [
        "import numpy as np\n",
        "import pandas as pd\n",
        "np.random.seed(12345)\n",
        "PREVIOUS_MAX_ROWS = pd.options.display.max_rows\n",
        "pd.options.display.max_rows = 20\n",
        "np.set_printoptions(precision=4, suppress=True)"
      ]
    },
    {
      "cell_type": "markdown",
      "source": [
        "Write code to create a date from the information below, then print the day before and day after the date. Post results in slack\n"
      ],
      "metadata": {
        "collapsed": false,
        "id": "ZNAJbuLbEGVz"
      }
    },
    {
      "cell_type": "code",
      "execution_count": null,
      "outputs": [],
      "source": [
        "day =11\n",
        "month=11\n",
        "year = 2011"
      ],
      "metadata": {
        "id": "2KYevHVGEGV0"
      }
    },
    {
      "cell_type": "markdown",
      "source": [
        "Write code to create a dataframe with two columns of random #s (data1, data2) which are indexed by the days in this month of  November. Also write code to find the maximum and minimum date. Post results in slack.\n",
        "\n"
      ],
      "metadata": {
        "collapsed": false,
        "id": "Ipa2MPsXEGV0"
      }
    },
    {
      "cell_type": "code",
      "execution_count": null,
      "outputs": [],
      "source": [],
      "metadata": {
        "id": "o0dykmj6EGV0"
      }
    },
    {
      "cell_type": "markdown",
      "source": [
        "Write code to create a dataframe with two columns of random #s (data1, data2) which are indexed by Fridays for the year 2021 (check book for ways of specifying this). Also write code to create two new columns with the month and day of the date index. Post results in slack\n"
      ],
      "metadata": {
        "collapsed": false,
        "id": "uUVWbn85EGV0"
      }
    },
    {
      "cell_type": "code",
      "execution_count": null,
      "outputs": [],
      "source": [],
      "metadata": {
        "id": "PU3rpc6LEGV1"
      }
    },
    {
      "cell_type": "markdown",
      "source": [
        "Using the dataframe created in the last exercise, create a new dataframe that has all the data1 values added together for each month.  Post results in slack"
      ],
      "metadata": {
        "collapsed": false,
        "id": "-ZREK0jkEGV1"
      }
    },
    {
      "cell_type": "code",
      "execution_count": null,
      "outputs": [],
      "source": [],
      "metadata": {
        "id": "uDAW93VcEGV1"
      }
    }
  ],
  "metadata": {
    "kernelspec": {
      "display_name": "Python 3",
      "language": "python",
      "name": "python3"
    },
    "language_info": {
      "codemirror_mode": {
        "name": "ipython",
        "version": 2
      },
      "file_extension": ".py",
      "mimetype": "text/x-python",
      "name": "python",
      "nbconvert_exporter": "python",
      "pygments_lexer": "ipython2",
      "version": "2.7.6"
    },
    "colab": {
      "provenance": [],
      "include_colab_link": true
    }
  },
  "nbformat": 4,
  "nbformat_minor": 0
}