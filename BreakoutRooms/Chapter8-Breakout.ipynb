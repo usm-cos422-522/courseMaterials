{
 "cells": [
  {
   "cell_type": "markdown",
   "metadata": {
    "id": "RuDQDZVw7WIG"
   },
   "source": [
    "## Chapter 8.3 : Breakout room exercises"
   ]
  },
  {
   "cell_type": "code",
   "execution_count": 14,
   "metadata": {
    "id": "Eb0bT_mX7WII"
   },
   "outputs": [],
   "source": [
    "import pandas as pd\n",
    "import numpy as np"
   ]
  },
  {
   "cell_type": "code",
   "execution_count": 15,
   "metadata": {
    "id": "KYV1J5hu7WII"
   },
   "outputs": [
    {
     "data": {
      "text/plain": "   year  quarter   realgdp  realcons  realinv  realgovt  realdpi    cpi  \\\n0  1959        1  2710.349    1707.4  286.898   470.045   1886.9  28.98   \n1  1959        2  2778.801    1733.7  310.859   481.301   1919.7  29.15   \n2  1959        3  2775.488    1751.8  289.226   491.260   1916.4  29.35   \n3  1959        4  2785.204    1753.7  299.356   484.052   1931.3  29.37   \n4  1960        1  2847.699    1770.5  331.722   462.199   1955.5  29.54   \n\n      m1  tbilrate  unemp      pop  infl  realint  \n0  139.7      2.82    5.8  177.146  0.00     0.00  \n1  141.7      3.08    5.1  177.830  2.34     0.74  \n2  140.5      3.82    5.3  178.657  2.74     1.09  \n3  140.0      4.33    5.6  179.386  0.27     4.06  \n4  139.6      3.50    5.2  180.007  2.31     1.19  ",
      "text/html": "<div>\n<style scoped>\n    .dataframe tbody tr th:only-of-type {\n        vertical-align: middle;\n    }\n\n    .dataframe tbody tr th {\n        vertical-align: top;\n    }\n\n    .dataframe thead th {\n        text-align: right;\n    }\n</style>\n<table border=\"1\" class=\"dataframe\">\n  <thead>\n    <tr style=\"text-align: right;\">\n      <th></th>\n      <th>year</th>\n      <th>quarter</th>\n      <th>realgdp</th>\n      <th>realcons</th>\n      <th>realinv</th>\n      <th>realgovt</th>\n      <th>realdpi</th>\n      <th>cpi</th>\n      <th>m1</th>\n      <th>tbilrate</th>\n      <th>unemp</th>\n      <th>pop</th>\n      <th>infl</th>\n      <th>realint</th>\n    </tr>\n  </thead>\n  <tbody>\n    <tr>\n      <th>0</th>\n      <td>1959</td>\n      <td>1</td>\n      <td>2710.349</td>\n      <td>1707.4</td>\n      <td>286.898</td>\n      <td>470.045</td>\n      <td>1886.9</td>\n      <td>28.98</td>\n      <td>139.7</td>\n      <td>2.82</td>\n      <td>5.8</td>\n      <td>177.146</td>\n      <td>0.00</td>\n      <td>0.00</td>\n    </tr>\n    <tr>\n      <th>1</th>\n      <td>1959</td>\n      <td>2</td>\n      <td>2778.801</td>\n      <td>1733.7</td>\n      <td>310.859</td>\n      <td>481.301</td>\n      <td>1919.7</td>\n      <td>29.15</td>\n      <td>141.7</td>\n      <td>3.08</td>\n      <td>5.1</td>\n      <td>177.830</td>\n      <td>2.34</td>\n      <td>0.74</td>\n    </tr>\n    <tr>\n      <th>2</th>\n      <td>1959</td>\n      <td>3</td>\n      <td>2775.488</td>\n      <td>1751.8</td>\n      <td>289.226</td>\n      <td>491.260</td>\n      <td>1916.4</td>\n      <td>29.35</td>\n      <td>140.5</td>\n      <td>3.82</td>\n      <td>5.3</td>\n      <td>178.657</td>\n      <td>2.74</td>\n      <td>1.09</td>\n    </tr>\n    <tr>\n      <th>3</th>\n      <td>1959</td>\n      <td>4</td>\n      <td>2785.204</td>\n      <td>1753.7</td>\n      <td>299.356</td>\n      <td>484.052</td>\n      <td>1931.3</td>\n      <td>29.37</td>\n      <td>140.0</td>\n      <td>4.33</td>\n      <td>5.6</td>\n      <td>179.386</td>\n      <td>0.27</td>\n      <td>4.06</td>\n    </tr>\n    <tr>\n      <th>4</th>\n      <td>1960</td>\n      <td>1</td>\n      <td>2847.699</td>\n      <td>1770.5</td>\n      <td>331.722</td>\n      <td>462.199</td>\n      <td>1955.5</td>\n      <td>29.54</td>\n      <td>139.6</td>\n      <td>3.50</td>\n      <td>5.2</td>\n      <td>180.007</td>\n      <td>2.31</td>\n      <td>1.19</td>\n    </tr>\n  </tbody>\n</table>\n</div>"
     },
     "execution_count": 15,
     "metadata": {},
     "output_type": "execute_result"
    }
   ],
   "source": [
    "data_url = \"https://raw.githubusercontent.com/wesm/pydata-book/2nd-edition/examples/macrodata.csv\"\n",
    "data_url = \"/Users/macleod/Documents/Courses/COS422/Fall 2022/Code/pydata-book/examples/macrodata.csv\"\n",
    "original_data = pd.read_csv(data_url)\n",
    "original_data.head()\n"
   ]
  },
  {
   "cell_type": "markdown",
   "source": [
    "#### Create a long version of the data with the following columns :\"realinv\", \"realgovt\", \"realdpi\"\n",
    "\n",
    "The index should be the date for the begining of the quarter\n",
    "1. Use the stack command\n",
    "2. Use the pd.melt command\n",
    "\n",
    "Display the first ten rows for the above"
   ],
   "metadata": {
    "collapsed": false
   }
  },
  {
   "cell_type": "markdown",
   "source": [
    "#### Convert the long version of the above data back to wide version using\n",
    "1. pivot\n",
    "2. pivot_table\n"
   ],
   "metadata": {
    "collapsed": false
   }
  },
  {
   "cell_type": "markdown",
   "source": [
    "#### Use pivot_table to see the average inflation and cpi by quarter"
   ],
   "metadata": {
    "collapsed": false
   }
  }
 ],
 "metadata": {
  "kernelspec": {
   "display_name": "Python 3",
   "language": "python",
   "name": "python3"
  },
  "language_info": {
   "codemirror_mode": {
    "name": "ipython",
    "version": 3
   },
   "file_extension": ".py",
   "mimetype": "text/x-python",
   "name": "python",
   "nbconvert_exporter": "python",
   "pygments_lexer": "ipython3",
   "version": "3.7.6"
  },
  "colab": {
   "provenance": [],
   "include_colab_link": true
  }
 },
 "nbformat": 4,
 "nbformat_minor": 0
}
