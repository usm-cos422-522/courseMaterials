{
 "cells": [
  {
   "cell_type": "markdown",
   "metadata": {
    "id": "view-in-github",
    "colab_type": "text"
   },
   "source": [
    "<a href=\"https://colab.research.google.com/github/usm-cos422-522/courseMaterials/blob/main/BreakoutRooms/NLP_Breakout1.ipynb\" target=\"_parent\"><img src=\"https://colab.research.google.com/assets/colab-badge.svg\" alt=\"Open In Colab\"/></a>"
   ]
  },
  {
   "cell_type": "markdown",
   "source": [
    "### NLP, Part 1 : Breakout room"
   ],
   "metadata": {
    "collapsed": false,
    "id": "rWD-PeGAF71g"
   }
  },
  {
   "cell_type": "code",
   "execution_count": null,
   "metadata": {
    "collapsed": true,
    "id": "5YXzDG6_F71g"
   },
   "outputs": [],
   "source": [
    "import nltk\n",
    "import urllib"
   ]
  },
  {
   "cell_type": "code",
   "execution_count": 1,
   "outputs": [
    {
     "ename": "NameError",
     "evalue": "name 'urllib' is not defined",
     "output_type": "error",
     "traceback": [
      "\u001B[0;31m---------------------------------------------------------------------------\u001B[0m",
      "\u001B[0;31mNameError\u001B[0m                                 Traceback (most recent call last)",
      "Cell \u001B[0;32mIn [1], line 2\u001B[0m\n\u001B[1;32m      1\u001B[0m TaleOfTwoCities_URL \u001B[38;5;241m=\u001B[39m \u001B[38;5;124m'\u001B[39m\u001B[38;5;124mhttps://www.gutenberg.org/files/98/98-0.txt\u001B[39m\u001B[38;5;124m'\u001B[39m\n\u001B[0;32m----> 2\u001B[0m file \u001B[38;5;241m=\u001B[39m \u001B[43murllib\u001B[49m\u001B[38;5;241m.\u001B[39mrequest\u001B[38;5;241m.\u001B[39murlopen(TaleOfTwoCities_URL)\n\u001B[1;32m      3\u001B[0m book \u001B[38;5;241m=\u001B[39m \u001B[38;5;28mlist\u001B[39m()\n\u001B[1;32m      4\u001B[0m \u001B[38;5;28;01mfor\u001B[39;00m line \u001B[38;5;129;01min\u001B[39;00m file:\n",
      "\u001B[0;31mNameError\u001B[0m: name 'urllib' is not defined"
     ]
    }
   ],
   "source": [
    "TaleOfTwoCities_URL = 'https://www.gutenberg.org/files/98/98-0.txt'\n",
    "file = urllib.request.urlopen(TaleOfTwoCities_URL)\n",
    "book = list()\n",
    "for line in file:\n",
    "    decoded_line = line.decode('utf-8').rstrip('\\r\\n')\n",
    "    if decoded_line != '':\n",
    "        book.append(decoded_line)"
   ],
   "metadata": {
    "id": "yA-PUmjmF71h"
   }
  },
  {
   "cell_type": "code",
   "execution_count": null,
   "outputs": [],
   "source": [
    "def find_first_location(str,str_list):\n",
    "    i = 0\n",
    "    length = len(str_list)\n",
    "    while i < length:\n",
    "        if str == str_list[i]:\n",
    "           return i\n",
    "        i = i + 1\n",
    "    return None\n",
    "\n",
    "def makeSubList(str1,str2,str_list):\n",
    "    loc1 = find_first_location(str1,str_list)\n",
    "    loc2 = find_first_location(str2,str_list)\n",
    "    if loc1 == None or loc2 == None:\n",
    "        return []\n",
    "    else:\n",
    "        return str_list[loc1:loc2]"
   ],
   "metadata": {
    "id": "oeyeJfE9F71h"
   }
  },
  {
   "cell_type": "code",
   "execution_count": null,
   "outputs": [],
   "source": [
    "first_section = makeSubList('Book the First--Recalled to Life','Book the Second--the Golden Thread',book)\n",
    "first_chapter = makeSubList('CHAPTER I.','CHAPTER II.',first_section)\n",
    "first_chapter_str = ' '.join(first_chapter[2:])"
   ],
   "metadata": {
    "id": "JnD4zrCLF71h"
   }
  },
  {
   "cell_type": "markdown",
   "source": [
    "#### Activity\n",
    "-- How many sentences in the first chapter ?\n",
    "-- How many words in the first chapter ?\n",
    "-- What is the average number of words per sentence in the first chapter ?"
   ],
   "metadata": {
    "collapsed": false,
    "id": "KV9YkOKLF71h"
   }
  },
  {
   "cell_type": "code",
   "execution_count": null,
   "outputs": [],
   "source": [],
   "metadata": {
    "id": "w3rGZbStF71h"
   }
  },
  {
   "cell_type": "markdown",
   "source": [
    "#### Activity\n",
    "-- How many sentences in the second chapter ?\n",
    "-- How many words in the second chapter ?\n",
    "-- What is the average number of words per sentence in the second chapter ?\n"
   ],
   "metadata": {
    "collapsed": false,
    "id": "uGZuAoxlF71h"
   }
  },
  {
   "cell_type": "code",
   "execution_count": null,
   "outputs": [],
   "source": [],
   "metadata": {
    "id": "2YoGJ_2UF71i"
   }
  },
  {
   "cell_type": "markdown",
   "source": [
    "#### Activity\n",
    "-- Filter out Stop words from the first sentence\n",
    "-- How many stop words were removed ?"
   ],
   "metadata": {
    "collapsed": false,
    "id": "0H04vDQJF71i"
   }
  },
  {
   "cell_type": "code",
   "execution_count": null,
   "outputs": [],
   "source": [],
   "metadata": {
    "id": "ZCh00WpWF71i"
   }
  },
  {
   "cell_type": "markdown",
   "source": [
    "#### Activity\n",
    "-- How many nouns, verbs, pronouns, adverbs are in the first sentence (include stop words)"
   ],
   "metadata": {
    "collapsed": false,
    "id": "jhSFsr8bF71i"
   }
  },
  {
   "cell_type": "code",
   "execution_count": null,
   "outputs": [],
   "source": [],
   "metadata": {
    "id": "TzQYyzJeF71i"
   }
  },
  {
   "cell_type": "markdown",
   "source": [
    "#### Activity\n",
    "-- reduce words in the first sentence to their root meaning using Porter stemming\n",
    "-- reduce words in the first sentence to their root meaning using Lancaster stemming\n",
    "-- reduce words in the first sentence to their root meaning using lemmatization\n",
    "-- which set of roots seems the most plausible ?"
   ],
   "metadata": {
    "collapsed": false,
    "id": "UwfaM_ZcF71i"
   }
  },
  {
   "cell_type": "code",
   "execution_count": null,
   "outputs": [],
   "source": [],
   "metadata": {
    "id": "ltJnDJB6F71i"
   }
  },
  {
   "cell_type": "markdown",
   "source": [
    "#### Activity\n",
    "\n",
    "Describe the class of strings matched by the following regular expressions.\n",
    "-- [a-zA-Z]+\n",
    "-- [A-Z][a-z]*\n",
    "-- p[aeiou]{,2}t\n",
    "-- \\d+(\\.\\d+)?\n",
    "-- ([^aeiou][aeiou][^aeiou])*\n",
    "-- \\w+|[^\\w\\s]+\n",
    "\n",
    "Test your answers using nltk.re_show()\n"
   ],
   "metadata": {
    "collapsed": false,
    "id": "vFKs28QbF71i"
   }
  },
  {
   "cell_type": "code",
   "execution_count": null,
   "outputs": [],
   "source": [],
   "metadata": {
    "id": "W08ncXZ6F71i"
   }
  }
 ],
 "metadata": {
  "kernelspec": {
   "display_name": "Python 3",
   "language": "python",
   "name": "python3"
  },
  "language_info": {
   "codemirror_mode": {
    "name": "ipython",
    "version": 2
   },
   "file_extension": ".py",
   "mimetype": "text/x-python",
   "name": "python",
   "nbconvert_exporter": "python",
   "pygments_lexer": "ipython2",
   "version": "2.7.6"
  },
  "colab": {
   "provenance": [],
   "include_colab_link": true
  }
 },
 "nbformat": 4,
 "nbformat_minor": 0
}
