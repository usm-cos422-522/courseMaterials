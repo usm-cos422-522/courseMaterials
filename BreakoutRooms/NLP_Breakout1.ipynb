{
 "cells": [
  {
   "cell_type": "markdown",
   "source": [
    "### NLP, Part 1 : Breakout room"
   ],
   "metadata": {
    "collapsed": false
   }
  },
  {
   "cell_type": "code",
   "execution_count": 9,
   "metadata": {
    "collapsed": true
   },
   "outputs": [],
   "source": [
    "import nltk\n",
    "import urllib"
   ]
  },
  {
   "cell_type": "code",
   "execution_count": 76,
   "outputs": [],
   "source": [
    "TaleOfTwoCities_URL = \"https://raw.githubusercontent.com/usm-cos422-522/courseMaterials/main/data/TaleOfTwoCities.txt\"\n",
    "file = urllib.request.urlopen(TaleOfTwoCities_URL)\n",
    "book = list()\n",
    "for line in file:\n",
    "    decoded_line = line.decode('utf-8').rstrip('\\r\\n')\n",
    "    if decoded_line != '':\n",
    "        book.append(decoded_line)"
   ],
   "metadata": {
    "collapsed": false
   }
  },
  {
   "cell_type": "code",
   "execution_count": 96,
   "outputs": [],
   "source": [
    "def find_first_location(str,str_list):\n",
    "    i = 0\n",
    "    length = len(str_list)\n",
    "    while i < length:\n",
    "        if str == str_list[i]:\n",
    "           return i\n",
    "        i = i + 1\n",
    "    return None\n",
    "\n",
    "def makeSubList(str1,str2,str_list):\n",
    "    loc1 = find_first_location(str1,str_list)\n",
    "    loc2 = find_first_location(str2,str_list)\n",
    "    if loc1 == None or loc2 == None:\n",
    "        return []\n",
    "    else:\n",
    "        return str_list[loc1:loc2]"
   ],
   "metadata": {
    "collapsed": false
   }
  },
  {
   "cell_type": "code",
   "execution_count": 97,
   "outputs": [],
   "source": [
    "first_section = makeSubList('Book the First--Recalled to Life','Book the Second--the Golden Thread',book)\n",
    "first_chapter = makeSubList('CHAPTER I.','CHAPTER II.',first_section)\n",
    "first_chapter_str = ' '.join(first_chapter[2:])"
   ],
   "metadata": {
    "collapsed": false
   }
  },
  {
   "cell_type": "markdown",
   "source": [
    "#### Activity\n",
    "-- How many sentences in the first chapter ?\n",
    "-- How many words in the first chapter ?\n",
    "-- What is the average number of words per sentence in the first chapter ?"
   ],
   "metadata": {
    "collapsed": false
   }
  },
  {
   "cell_type": "code",
   "execution_count": 108,
   "outputs": [],
   "source": [],
   "metadata": {
    "collapsed": false
   }
  },
  {
   "cell_type": "markdown",
   "source": [
    "#### Activity\n",
    "-- How many sentences in the second chapter ?\n",
    "-- How many words in the second chapter ?\n",
    "-- What is the average number of words per sentence in the second chapter ?\n"
   ],
   "metadata": {
    "collapsed": false
   }
  },
  {
   "cell_type": "code",
   "execution_count": 108,
   "outputs": [],
   "source": [],
   "metadata": {
    "collapsed": false
   }
  },
  {
   "cell_type": "markdown",
   "source": [
    "#### Activity\n",
    "-- Filter out Stop words from the first sentence\n",
    "-- How many stop words were removed ?"
   ],
   "metadata": {
    "collapsed": false
   }
  },
  {
   "cell_type": "code",
   "execution_count": null,
   "outputs": [],
   "source": [],
   "metadata": {
    "collapsed": false
   }
  },
  {
   "cell_type": "markdown",
   "source": [
    "#### Activity\n",
    "-- How many nouns, verbs, pronouns, adverbs are in the first sentence (include stop words)"
   ],
   "metadata": {
    "collapsed": false
   }
  },
  {
   "cell_type": "code",
   "execution_count": null,
   "outputs": [],
   "source": [],
   "metadata": {
    "collapsed": false
   }
  },
  {
   "cell_type": "markdown",
   "source": [
    "#### Activity\n",
    "-- reduce words in the first sentence to their root meaning using Porter stemming\n",
    "-- reduce words in the first sentence to their root meaning using Lancaster stemming\n",
    "-- reduce words in the first sentence to their root meaning using lemmatization\n",
    "-- which set of roots seems the most plausible ?"
   ],
   "metadata": {
    "collapsed": false
   }
  },
  {
   "cell_type": "code",
   "execution_count": null,
   "outputs": [],
   "source": [],
   "metadata": {
    "collapsed": false
   }
  },
  {
   "cell_type": "markdown",
   "source": [
    "#### Activity\n",
    "\n",
    "Describe the class of strings matched by the following regular expressions.\n",
    "-- [a-zA-Z]+\n",
    "-- [A-Z][a-z]*\n",
    "-- p[aeiou]{,2}t\n",
    "-- \\d+(\\.\\d+)?\n",
    "-- ([^aeiou][aeiou][^aeiou])*\n",
    "-- \\w+|[^\\w\\s]+\n",
    "\n",
    "Test your answers using nltk.re_show()\n"
   ],
   "metadata": {
    "collapsed": false
   }
  },
  {
   "cell_type": "code",
   "execution_count": null,
   "outputs": [],
   "source": [],
   "metadata": {
    "collapsed": false
   }
  }
 ],
 "metadata": {
  "kernelspec": {
   "display_name": "Python 3",
   "language": "python",
   "name": "python3"
  },
  "language_info": {
   "codemirror_mode": {
    "name": "ipython",
    "version": 2
   },
   "file_extension": ".py",
   "mimetype": "text/x-python",
   "name": "python",
   "nbconvert_exporter": "python",
   "pygments_lexer": "ipython2",
   "version": "2.7.6"
  }
 },
 "nbformat": 4,
 "nbformat_minor": 0
}
