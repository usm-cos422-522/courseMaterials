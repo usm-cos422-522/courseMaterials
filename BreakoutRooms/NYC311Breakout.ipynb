{
  "cells": [
    {
      "cell_type": "markdown",
      "metadata": {
        "id": "view-in-github",
        "colab_type": "text"
      },
      "source": [
        "<a href=\"https://colab.research.google.com/github/usm-cos422-522/courseMaterials/blob/main/BreakoutRooms/NYC311Breakout.ipynb\" target=\"_parent\"><img src=\"https://colab.research.google.com/assets/colab-badge.svg\" alt=\"Open In Colab\"/></a>"
      ]
    },
    {
      "cell_type": "markdown",
      "source": [
        "#### NYC 311 Call data   Breakout Room\n",
        "\n",
        "Source : https://nycopendata.socrata.com/Social-Services/311-Service-Requests-from-2010-to-Present/erm2-nwe9\n",
        "(Socrates Open API)\n",
        "\n",
        "#### Data Extraction code\n",
        "I already downloaded a subset of rows and columns with this code :\n",
        "\n",
        "from sodapy import Socrata\n",
        "import pandas as pd\n",
        "client = Socrata(\"data.cityofnewyork.us\", None)\n",
        "client.timeout = 1000\n",
        "results = client.get(\"erm2-nwe9\", limit=1500000)\n",
        "df = pd.DataFrame.from_records(results)\n",
        "keep_columns = ['unique_key', 'created_date', 'agency',\n",
        "'complaint_type', 'descriptor', 'location_type', 'incident_zip','incident_address', 'street_name',\n",
        "'city', 'status', 'resolution_action_updated_date', 'borough', 'park_facility_name', 'park_borough',\n",
        "'x_coordinate_state_plane', 'y_coordinate_state_plane',\n",
        "'latitude', 'longitude', 'location']\n",
        "sub_df = df[keep_columns]\n",
        "sub_df.iloc[:5000, :].to_csv('nyc311sub.csv')"
      ],
      "metadata": {
        "collapsed": false,
        "id": "rUYPd9e83tjv"
      }
    },
    {
      "cell_type": "code",
      "execution_count": null,
      "outputs": [],
      "source": [
        "import pandas as pd"
      ],
      "metadata": {
        "id": "1h3clZQV3tjx"
      }
    },
    {
      "cell_type": "code",
      "execution_count": null,
      "outputs": [
        {
          "data": {
            "text/plain": "   Unnamed: 0  unique_key             created_date agency  \\\n0           0    55782211  2022-10-24T12:00:00.000   DSNY   \n1           1    55781354  2022-10-24T12:00:00.000   DSNY   \n2           2    55781322  2022-10-24T01:00:14.000   NYPD   \n3           3    55782182  2022-10-24T01:00:06.000   NYPD   \n4           4    55787088  2022-10-24T00:59:49.000   NYPD   \n\n            complaint_type         descriptor               location_type  \\\n0        Derelict Vehicles  Derelict Vehicles                      Street   \n1        Derelict Vehicles  Derelict Vehicles                      Street   \n2  Noise - Street/Sidewalk       Loud Talking             Street/Sidewalk   \n3      Noise - Residential   Loud Music/Party  Residential Building/House   \n4         Blocked Driveway          No Access             Street/Sidewalk   \n\n   incident_zip      incident_address      street_name  ...       status  \\\n0       11208.0  1253 GLENMORE AVENUE  GLENMORE AVENUE  ...         Open   \n1       11220.0         4502 7 AVENUE         7 AVENUE  ...         Open   \n2       11377.0       62-16 39 AVENUE        39 AVENUE  ...  In Progress   \n3       10304.0      346 MOSEL AVENUE     MOSEL AVENUE  ...  In Progress   \n4       11220.0         749 53 STREET        53 STREET  ...  In Progress   \n\n  resolution_action_updated_date        borough park_facility_name  \\\n0        2022-10-24T12:00:00.000       BROOKLYN        Unspecified   \n1        2022-10-24T12:00:00.000       BROOKLYN        Unspecified   \n2        2022-10-24T01:36:54.000         QUEENS        Unspecified   \n3        2022-10-24T01:25:39.000  STATEN ISLAND        Unspecified   \n4        2022-10-24T01:16:51.000       BROOKLYN        Unspecified   \n\n    park_borough x_coordinate_state_plane  y_coordinate_state_plane  \\\n0       BROOKLYN                1022408.0                  186273.0   \n1       BROOKLYN                 983389.0                  174326.0   \n2         QUEENS                1011579.0                  211386.0   \n3  STATEN ISLAND                 961739.0                  160845.0   \n4       BROOKLYN                 982427.0                  172488.0   \n\n    latitude  longitude                                           location  \n0  40.677871 -73.862431  {'latitude': '40.67787087341118', 'longitude':...  \n1  40.645161 -74.003103  {'latitude': '40.64516119631837', 'longitude':...  \n2  40.746840 -73.901370  {'latitude': '40.74684008722238', 'longitude':...  \n3  40.608130 -74.081073  {'latitude': '40.60813013288857', 'longitude':...  \n4  40.640116 -74.006569  {'latitude': '40.640116135446775', 'longitude'...  \n\n[5 rows x 21 columns]",
            "text/html": "<div>\n<style scoped>\n    .dataframe tbody tr th:only-of-type {\n        vertical-align: middle;\n    }\n\n    .dataframe tbody tr th {\n        vertical-align: top;\n    }\n\n    .dataframe thead th {\n        text-align: right;\n    }\n</style>\n<table border=\"1\" class=\"dataframe\">\n  <thead>\n    <tr style=\"text-align: right;\">\n      <th></th>\n      <th>Unnamed: 0</th>\n      <th>unique_key</th>\n      <th>created_date</th>\n      <th>agency</th>\n      <th>complaint_type</th>\n      <th>descriptor</th>\n      <th>location_type</th>\n      <th>incident_zip</th>\n      <th>incident_address</th>\n      <th>street_name</th>\n      <th>...</th>\n      <th>status</th>\n      <th>resolution_action_updated_date</th>\n      <th>borough</th>\n      <th>park_facility_name</th>\n      <th>park_borough</th>\n      <th>x_coordinate_state_plane</th>\n      <th>y_coordinate_state_plane</th>\n      <th>latitude</th>\n      <th>longitude</th>\n      <th>location</th>\n    </tr>\n  </thead>\n  <tbody>\n    <tr>\n      <th>0</th>\n      <td>0</td>\n      <td>55782211</td>\n      <td>2022-10-24T12:00:00.000</td>\n      <td>DSNY</td>\n      <td>Derelict Vehicles</td>\n      <td>Derelict Vehicles</td>\n      <td>Street</td>\n      <td>11208.0</td>\n      <td>1253 GLENMORE AVENUE</td>\n      <td>GLENMORE AVENUE</td>\n      <td>...</td>\n      <td>Open</td>\n      <td>2022-10-24T12:00:00.000</td>\n      <td>BROOKLYN</td>\n      <td>Unspecified</td>\n      <td>BROOKLYN</td>\n      <td>1022408.0</td>\n      <td>186273.0</td>\n      <td>40.677871</td>\n      <td>-73.862431</td>\n      <td>{'latitude': '40.67787087341118', 'longitude':...</td>\n    </tr>\n    <tr>\n      <th>1</th>\n      <td>1</td>\n      <td>55781354</td>\n      <td>2022-10-24T12:00:00.000</td>\n      <td>DSNY</td>\n      <td>Derelict Vehicles</td>\n      <td>Derelict Vehicles</td>\n      <td>Street</td>\n      <td>11220.0</td>\n      <td>4502 7 AVENUE</td>\n      <td>7 AVENUE</td>\n      <td>...</td>\n      <td>Open</td>\n      <td>2022-10-24T12:00:00.000</td>\n      <td>BROOKLYN</td>\n      <td>Unspecified</td>\n      <td>BROOKLYN</td>\n      <td>983389.0</td>\n      <td>174326.0</td>\n      <td>40.645161</td>\n      <td>-74.003103</td>\n      <td>{'latitude': '40.64516119631837', 'longitude':...</td>\n    </tr>\n    <tr>\n      <th>2</th>\n      <td>2</td>\n      <td>55781322</td>\n      <td>2022-10-24T01:00:14.000</td>\n      <td>NYPD</td>\n      <td>Noise - Street/Sidewalk</td>\n      <td>Loud Talking</td>\n      <td>Street/Sidewalk</td>\n      <td>11377.0</td>\n      <td>62-16 39 AVENUE</td>\n      <td>39 AVENUE</td>\n      <td>...</td>\n      <td>In Progress</td>\n      <td>2022-10-24T01:36:54.000</td>\n      <td>QUEENS</td>\n      <td>Unspecified</td>\n      <td>QUEENS</td>\n      <td>1011579.0</td>\n      <td>211386.0</td>\n      <td>40.746840</td>\n      <td>-73.901370</td>\n      <td>{'latitude': '40.74684008722238', 'longitude':...</td>\n    </tr>\n    <tr>\n      <th>3</th>\n      <td>3</td>\n      <td>55782182</td>\n      <td>2022-10-24T01:00:06.000</td>\n      <td>NYPD</td>\n      <td>Noise - Residential</td>\n      <td>Loud Music/Party</td>\n      <td>Residential Building/House</td>\n      <td>10304.0</td>\n      <td>346 MOSEL AVENUE</td>\n      <td>MOSEL AVENUE</td>\n      <td>...</td>\n      <td>In Progress</td>\n      <td>2022-10-24T01:25:39.000</td>\n      <td>STATEN ISLAND</td>\n      <td>Unspecified</td>\n      <td>STATEN ISLAND</td>\n      <td>961739.0</td>\n      <td>160845.0</td>\n      <td>40.608130</td>\n      <td>-74.081073</td>\n      <td>{'latitude': '40.60813013288857', 'longitude':...</td>\n    </tr>\n    <tr>\n      <th>4</th>\n      <td>4</td>\n      <td>55787088</td>\n      <td>2022-10-24T00:59:49.000</td>\n      <td>NYPD</td>\n      <td>Blocked Driveway</td>\n      <td>No Access</td>\n      <td>Street/Sidewalk</td>\n      <td>11220.0</td>\n      <td>749 53 STREET</td>\n      <td>53 STREET</td>\n      <td>...</td>\n      <td>In Progress</td>\n      <td>2022-10-24T01:16:51.000</td>\n      <td>BROOKLYN</td>\n      <td>Unspecified</td>\n      <td>BROOKLYN</td>\n      <td>982427.0</td>\n      <td>172488.0</td>\n      <td>40.640116</td>\n      <td>-74.006569</td>\n      <td>{'latitude': '40.640116135446775', 'longitude'...</td>\n    </tr>\n  </tbody>\n</table>\n<p>5 rows × 21 columns</p>\n</div>"
          },
          "execution_count": 53,
          "metadata": {},
          "output_type": "execute_result"
        }
      ],
      "source": [
        "url = 'https://raw.githubusercontent.com/usm-cos422-522/courseMaterials/main/data/nyc311sub.csv'\n",
        "df = pd.read_csv(url)\n",
        "df.head()"
      ],
      "metadata": {
        "id": "VZjUDOvo3tjx",
        "outputId": "735b9008-02eb-4771-cbcb-b793fcacbbc0"
      }
    },
    {
      "cell_type": "code",
      "execution_count": null,
      "outputs": [],
      "source": [
        "# Count the number of Complaints by compliant_type"
      ],
      "metadata": {
        "id": "mHOKmS1r3tjy"
      }
    },
    {
      "cell_type": "code",
      "execution_count": null,
      "outputs": [],
      "source": [
        "# Which complaint_type is the most common ?"
      ],
      "metadata": {
        "id": "3ld84H5q3tjy"
      }
    },
    {
      "cell_type": "code",
      "execution_count": null,
      "outputs": [],
      "source": [
        "# Count the number of Complaint types by borough and Complaint type"
      ],
      "metadata": {
        "id": "J8UwxovX3tjy"
      }
    },
    {
      "cell_type": "code",
      "execution_count": null,
      "outputs": [],
      "source": [
        "# Find the most common complaint in each borough"
      ],
      "metadata": {
        "id": "ESRwFd8W3tjy"
      }
    },
    {
      "cell_type": "code",
      "execution_count": null,
      "outputs": [],
      "source": [
        "# Make a crosstabulation of Complaint types and Borough"
      ],
      "metadata": {
        "id": "jaKsG3Vj3tjz"
      }
    },
    {
      "cell_type": "code",
      "execution_count": null,
      "outputs": [],
      "source": [
        "# Form a new Dataframe by selecting all complaints that begin with the word Noise, line below should help\n",
        "# boolean_series = complaints['complaint_type'].apply(lambda x: x.startswith('Noise'))\n",
        "# Find the most common Noise complaint"
      ],
      "metadata": {
        "id": "oocAUOec3tjz"
      }
    },
    {
      "cell_type": "code",
      "execution_count": null,
      "outputs": [],
      "source": [
        "# Select all complaints from boroughs that have at least 2% of the complaints as Noise complaints"
      ],
      "metadata": {
        "id": "yqB3Zg903tjz"
      }
    }
  ],
  "metadata": {
    "kernelspec": {
      "display_name": "Python 3",
      "language": "python",
      "name": "python3"
    },
    "language_info": {
      "codemirror_mode": {
        "name": "ipython",
        "version": 2
      },
      "file_extension": ".py",
      "mimetype": "text/x-python",
      "name": "python",
      "nbconvert_exporter": "python",
      "pygments_lexer": "ipython2",
      "version": "2.7.6"
    },
    "colab": {
      "provenance": [],
      "include_colab_link": true
    }
  },
  "nbformat": 4,
  "nbformat_minor": 0
}