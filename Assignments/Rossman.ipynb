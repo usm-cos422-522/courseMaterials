{
 "cells": [
  {
   "cell_type": "markdown",
   "metadata": {},
   "source": [
    "<a href=\"https://colab.research.google.com/github/usm-cos422-522/courseMaterials/blob/main/Labs/titanic-workflow.ipynb\" target=\"_parent\">\n",
    "  <img src=\"https://colab.research.google.com/assets/colab-badge.svg\" alt=\"Open In Colab\"/>\n",
    "</a>"
   ]
  },
  {
   "cell_type": "markdown",
   "metadata": {
    "id": "mtOJZzUh6obB"
   },
   "source": [
    "### Assignment 4, Part 1\n",
    "\n",
    "This notebook considers the problem of predicting sales for Rossmann stores (https://www.kaggle.com/c/rossmann-store-sales). The general flow of the notebook is similar to the Titanic workflow. We strive to cover representative subproblems that would be part of a more complete analysis. "
   ]
  },
  {
   "cell_type": "markdown",
   "metadata": {
    "id": "4MNQxrSfxov0"
   },
   "source": [
    "### Exercise: Provide a Problem Description\n",
    "\n",
    "*   Your Name\n",
    "*   Using the problem description at https://www.kaggle.com/c/rossmann-store-sales and forum discussions, provide a description of the Rossmann store problem and the challenges in your own words\n",
    "*   A list of notebooks, articles, or code you used for references in solving this assignment \n",
    "\n"
   ]
  },
  {
   "cell_type": "code",
   "execution_count": null,
   "metadata": {
    "id": "wKRLnvHLiLbc"
   },
   "outputs": [],
   "source": [
    "# Imports\n",
    "\n",
    "import pandas as pd\n",
    "from pandas import Series,DataFrame\n",
    "\n",
    "import numpy as np\n",
    "import matplotlib.pyplot as plt\n",
    "import seaborn as sns\n",
    "sns.set_style('whitegrid')\n",
    "%matplotlib inline\n"
   ]
  },
  {
   "cell_type": "markdown",
   "metadata": {
    "id": "pigqhwb6PHqI"
   },
   "source": [
    "### Platform Specific notes & code (Colab)\n",
    "\n",
    "I provide some details for running in Google Colab as it takes a few extra steps to get kaggle data in (ref : https://www.kaggle.com/docs/api and https://www.kaggle.com/general/74235). Other platforms (kaggle, local) are more straightforward.\n",
    "\n",
    "1. If you have not downloaded an API key to your local machine (kaggle.json):\n",
    " \n",
    "> go to your kaggle account, Scroll to API section and Click Expire API Token to remove previous tokens\n",
    "\n",
    "> Click on Create New API Token - It will download kaggle.json file on your machine.\n"
   ]
  },
  {
   "cell_type": "code",
   "execution_count": null,
   "metadata": {
    "id": "5Noh4wYdIpQt"
   },
   "outputs": [],
   "source": [
    " !pip install -q kaggle\n",
    " from google.colab import files\n",
    " # upload the kaggle.json file to colab\n",
    " files.upload()                   # I had to temporarily allow 3rd pary cookies in Google Chrome for this to work"
   ]
  },
  {
   "cell_type": "code",
   "execution_count": null,
   "metadata": {
    "id": "Q3nztrwnI3u6"
   },
   "outputs": [],
   "source": [
    "# put the kaggle.json file in the correct spot for the api to work\n",
    "! mkdir ~/.kaggle\n",
    "! mkdir input\n",
    "! cp kaggle.json ~/.kaggle/\n",
    "! chmod 600 ~/.kaggle/kaggle.json"
   ]
  },
  {
   "cell_type": "code",
   "execution_count": null,
   "metadata": {
    "id": "fafZ6KrzQR71"
   },
   "outputs": [],
   "source": [
    "# download the code\n",
    "!kaggle competitions download -c rossmann-store-sales"
   ]
  },
  {
   "cell_type": "code",
   "execution_count": null,
   "metadata": {
    "id": "kK0aHDoO1puP"
   },
   "outputs": [],
   "source": [
    "! unzip train.csv.zip -d input/\n",
    "! unzip test.csv.zip -d input/\n",
    "! mv store.csv input/\n",
    "! rm train.csv.zip\n",
    "! rm test.csv.zip\n",
    "! rm sample_submission.csv\n",
    "! ls input/\n"
   ]
  },
  {
   "cell_type": "code",
   "execution_count": null,
   "metadata": {
    "id": "FRuDPaQKSAoU"
   },
   "outputs": [],
   "source": [
    "!ls"
   ]
  },
  {
   "cell_type": "markdown",
   "metadata": {},
   "source": [
    "### All done with the Colab specific instructions"
   ]
  },
  {
   "cell_type": "code",
   "execution_count": null,
   "metadata": {
    "id": "zynv27S2SSHe"
   },
   "outputs": [],
   "source": [
    "# read rossmann, store, & test csv files into a DataFrame\n",
    "train  = pd.read_csv(\"input/train.csv\")\n",
    "store     = pd.read_csv(\"input/store.csv\")\n",
    "test      = pd.read_csv(\"input/test.csv\")\n",
    "\n",
    "# preview the data\n",
    "train.head()"
   ]
  },
  {
   "cell_type": "code",
   "execution_count": null,
   "metadata": {
    "id": "lGqBNZBUST_n"
   },
   "outputs": [],
   "source": [
    "store.head()"
   ]
  },
  {
   "cell_type": "markdown",
   "metadata": {
    "id": "cehmFvSs2uLG"
   },
   "source": [
    "### Exercise: Merge the Train, Test data with store data. \n",
    "\n",
    "*   print out the shape of the two merged dataframes\n",
    "\n"
   ]
  },
  {
   "cell_type": "code",
   "execution_count": null,
   "metadata": {
    "id": "o_E2BnyT3UjS"
   },
   "outputs": [],
   "source": []
  },
  {
   "cell_type": "markdown",
   "metadata": {
    "id": "fA9r23C462aF"
   },
   "source": [
    "### Exercise: Split features and target\n",
    "We will be predicting sales from other attributes. So let's separate. \n",
    "\n",
    "*   put the sales column into a separate df called target\n",
    "*   create another data frame called features which removes sales\n",
    "\n"
   ]
  },
  {
   "cell_type": "code",
   "execution_count": null,
   "metadata": {
    "id": "Xn6xhoHc70gN"
   },
   "outputs": [],
   "source": []
  },
  {
   "cell_type": "markdown",
   "metadata": {
    "id": "AM_EYT-d5e_b"
   },
   "source": [
    "### Exercise:\n",
    "\n",
    "*   determine which columns have missing data\n",
    "*   for the numeric columns, replace missing with mean\n",
    "*   for categorical data, replace missing with most frequent (mode)\n",
    "*   Are there rows with zero sales ? Why do you suspect this is the case ? Any evidence to support your hypothesis ? What do you propose to do about these rows ?  \n",
    "\n"
   ]
  },
  {
   "cell_type": "code",
   "execution_count": null,
   "metadata": {
    "id": "cFSQQ2gzSLlM"
   },
   "outputs": [],
   "source": []
  },
  {
   "cell_type": "markdown",
   "metadata": {
    "id": "kCb0anl5X8Qj"
   },
   "source": [
    "### Exercise : Constructing new variables\n",
    "Create a new dataframe that has \n",
    "*   Average sales per day that the store was open\n",
    "*   Average customers per day that the store was open\n",
    "*   Average sales per customer (for days the store was open)\n",
    "\n",
    "Add this new data to the features data frame\n"
   ]
  },
  {
   "cell_type": "code",
   "execution_count": null,
   "metadata": {
    "id": "1NyyE3cvYNiN"
   },
   "outputs": [],
   "source": []
  },
  {
   "cell_type": "markdown",
   "metadata": {
    "id": "JWUwKBodBtzN"
   },
   "source": [
    "### EDA, Plotting\n",
    "\n",
    "*   Histogram plot # of customers by day of week\n",
    "*   Histogram plot of sales by day of week\n",
    "*   Histogram plot of sales by promotion\n",
    "*   Scatterplot of sales vs number of customers for 2015\n",
    "*   Provide a plot to help answer the question : Do Sales vary across store types ?\n",
    "\n",
    "\n"
   ]
  },
  {
   "cell_type": "code",
   "execution_count": null,
   "metadata": {
    "id": "04Ttkq0fCu5g"
   },
   "outputs": [],
   "source": []
  },
  {
   "cell_type": "markdown",
   "metadata": {
    "id": "KdV5ZBw5c5lJ"
   },
   "source": [
    "### Bringing in external data \n",
    "\n",
    "Many data science projects can improve predictive power by linking external data and the Rossmann store competition is no expection. See this post for background : https://www.kaggle.com/c/rossmann-store-sales/discussion/17229  I found the mapping of stores to locations particularly clever.  In the following cells, a subset of this external data is brought in:\n",
    "\n",
    "*     store_states: mapping of store to the German state they are in\n",
    "*     List of German state names\n",
    "*     googletrend: trend of certain google keywords over time, found by users to correlate well w/ given data\n",
    "*     weather: weather"
   ]
  },
  {
   "cell_type": "code",
   "execution_count": null,
   "metadata": {
    "id": "23Unfsyvi_-3"
   },
   "outputs": [],
   "source": [
    "import tarfile\n",
    "!wget 'http://files.fast.ai/part2/lesson14/rossmann.tgz'\n",
    "tar = tarfile.open('rossmann.tgz',\"r:gz\")\n",
    "tar.extractall('input/')"
   ]
  },
  {
   "cell_type": "markdown",
   "metadata": {
    "id": "tgCcupPXoulK"
   },
   "source": [
    "### Exercise : Link External data into features \n",
    "Read the external data into tables and then add columns you feel will be useful to the features table. The expectation is that some of the weather data columns and the google trend data will be added. A careful look at the contents of the tables should reveal an approach to link useful data into the features table. If you get stuck the forums can help.\n",
    "\n",
    "*   at a minimum, include min & max temps, Precipitationmm, and Events from Weather\t\n",
    "\n"
   ]
  },
  {
   "cell_type": "code",
   "execution_count": null,
   "metadata": {
    "id": "dKtXKAa5nLEH"
   },
   "outputs": [],
   "source": []
  },
  {
   "cell_type": "markdown",
   "metadata": {
    "id": "J5N0g9axqYEM"
   },
   "source": [
    "### Exercise: Provide plots to show the relationship of the new data to Sales, Customers\n",
    "\n",
    "*   Create a new variable, minTemp_bin, which has values 0-5 representing degree of the minimum temp coldness over the full range of minimum temps for Germany\n",
    "*   Plot minTemp_bin against Sales    (your choice of plot type)\n",
    "*   Plot minTemp_bin against Customers (...)\n",
    "*   Explore/investigate the new data and choose a plot that you feel shows a relationship between sales and the external data.\n",
    "\n"
   ]
  },
  {
   "cell_type": "code",
   "execution_count": null,
   "metadata": {
    "id": "_36oRXeIm5HG"
   },
   "outputs": [],
   "source": []
  },
  {
   "cell_type": "markdown",
   "metadata": {
    "id": "HhG9N-UzwFl3"
   },
   "source": [
    "### Exercise : Add fields for Time Series\n",
    "\n",
    "*   Convert the date to a datetime type and then\n",
    "*   Create a new column for day\n",
    "*   Create a new column for week\n",
    "*   Create a new column for month\n",
    "*   Create a new column for year\n",
    "*   Create a new column for dayofyear\n"
   ]
  },
  {
   "cell_type": "code",
   "execution_count": null,
   "metadata": {
    "id": "FBvPtJWSF23v"
   },
   "outputs": [],
   "source": []
  },
  {
   "cell_type": "markdown",
   "metadata": {
    "id": "tASBITqoxBQH"
   },
   "source": [
    "### Graduate students or Optional Exercise (15%)\n",
    "\n",
    "*   Select a machine learning technique and describe how it works\n",
    "*   Apply this technique to your feature data to predict Sales.\n",
    "\n"
   ]
  },
  {
   "cell_type": "code",
   "execution_count": null,
   "metadata": {
    "id": "LYLbXhUGIEmH"
   },
   "outputs": [],
   "source": []
  }
 ],
 "metadata": {
  "colab": {
   "name": "Rossman.ipynb",
   "provenance": []
  },
  "kernelspec": {
   "display_name": "Python 3",
   "language": "python",
   "name": "python3"
  },
  "language_info": {
   "codemirror_mode": {
    "name": "ipython",
    "version": 3
   },
   "file_extension": ".py",
   "mimetype": "text/x-python",
   "name": "python",
   "nbconvert_exporter": "python",
   "pygments_lexer": "ipython3",
   "version": "3.7.6"
  }
 },
 "nbformat": 4,
 "nbformat_minor": 1
}
