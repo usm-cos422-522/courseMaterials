{
 "nbformat": 4,
 "nbformat_minor": 0,
 "metadata": {
  "kernelspec": {
   "name": "python3",
   "display_name": "Python 3",
   "language": "python"
  },
  "language_info": {
   "name": "python",
   "version": "3.7.10",
   "mimetype": "text/x-python",
   "codemirror_mode": {
    "name": "ipython",
    "version": 3
   },
   "pygments_lexer": "ipython3",
   "nbconvert_exporter": "python",
   "file_extension": ".py"
  },
  "colab": {
   "name": "cnn-with-pytorch.ipynb",
   "provenance": [],
   "include_colab_link": true
  }
 },
 "cells": [
  {
   "cell_type": "markdown",
   "metadata": {
    "id": "view-in-github",
    "colab_type": "text"
   },
   "source": [
    "<a href=\"https://colab.research.google.com/github/usm-cos422-522/Working/blob/main/cnn_with_pytorch.ipynb\" target=\"_parent\"><img src=\"https://colab.research.google.com/assets/colab-badge.svg\" alt=\"Open In Colab\"/></a>"
   ]
  },
  {
   "cell_type": "markdown",
   "metadata": {
    "_uuid": "40d27f5ef16aafcf0181acc3320155e595874777",
    "_cell_guid": "18074494-9783-48af-bb66-a9d59a8f43e5",
    "id": "Dz466p_FF3Na"
   },
   "source": [
    "# Convolutional Neural Network With PyTorch\n",
    "----------------------------------------------\n",
    "\n",
    "Original notebook : https://www.kaggle.com/juiyangchang/cnn-with-pytorch-0-995-accuracy  \n",
    "    small changes to run in most recent versions of pytorch\n",
    "    \n",
    "Here I only train for a few epochs as training takes couple of hours without GPU.  But this network achieves 0.995 accuracy\n",
    "after 50 epochs of training."
   ]
  },
  {
   "cell_type": "code",
   "execution_count": 8,
   "outputs": [],
   "source": [
    "from urllib.request import urlopen\n",
    "from io import BytesIO\n",
    "from zipfile import ZipFile\n",
    "import os\n",
    "\n",
    "def download_and_unzip(url, extract_to='.'):\n",
    "    http_response = urlopen(url)\n",
    "    zipfile = ZipFile(BytesIO(http_response.read()))\n",
    "    zipfile.extractall(path=extract_to)"
   ],
   "metadata": {
    "collapsed": false
   }
  },
  {
   "cell_type": "code",
   "execution_count": 16,
   "outputs": [],
   "source": [
    "if not os.path.exists('./input'):\n",
    "    !mkdir input"
   ],
   "metadata": {
    "collapsed": false
   }
  },
  {
   "cell_type": "code",
   "execution_count": 17,
   "outputs": [],
   "source": [
    "data_url ='https://github.com/usm-cos422-522/courseMaterials/blob/main/data/train.csv.zip?raw=true'\n",
    "if not os.path.exists('./input/train.csv'):\n",
    "    download_and_unzip(data_url,extract_to='./input/train.csv')"
   ],
   "metadata": {
    "collapsed": false
   }
  },
  {
   "cell_type": "code",
   "execution_count": 18,
   "outputs": [],
   "source": [
    "data_url ='https://github.com/usm-cos422-522/courseMaterials/blob/main/data/test.csv.zip?raw=true'\n",
    "if not os.path.exists('./input/test.csv'):\n",
    "    download_and_unzip(data_url,extract_to='./input/test.csv')"
   ],
   "metadata": {
    "collapsed": false
   }
  },
  {
   "cell_type": "code",
   "execution_count": 19,
   "outputs": [
    {
     "name": "stdout",
     "output_type": "stream",
     "text": [
      "\u001B[34mtest.csv\u001B[m\u001B[m  \u001B[34mtrain.csv\u001B[m\u001B[m\r\n"
     ]
    }
   ],
   "source": [
    "!ls input"
   ],
   "metadata": {
    "collapsed": false
   }
  },
  {
   "cell_type": "code",
   "metadata": {
    "_uuid": "427ce49fba02f44de9e3081288fca2da38e51140",
    "_cell_guid": "56682ac8-509e-44fb-a694-4bf1082d36d2",
    "execution": {
     "iopub.status.busy": "2021-11-07T13:00:38.712849Z",
     "iopub.execute_input": "2021-11-07T13:00:38.713239Z",
     "iopub.status.idle": "2021-11-07T13:00:40.332105Z",
     "shell.execute_reply.started": "2021-11-07T13:00:38.713203Z",
     "shell.execute_reply": "2021-11-07T13:00:40.331326Z"
    },
    "trusted": true,
    "id": "5AXedxeNF3Ne"
   },
   "source": [
    "import pandas as pd\n",
    "import numpy as np\n",
    "\n",
    "import torch\n",
    "import torch.nn as nn\n",
    "import torch.nn.functional as F\n",
    "import torch.optim as optim\n",
    "from torch.optim import lr_scheduler\n",
    "from torch.autograd import Variable\n",
    "from torch.utils.data import DataLoader, Dataset\n",
    "from torchvision import transforms\n",
    "from torchvision.utils import make_grid\n",
    "\n",
    "import math\n",
    "import random\n",
    "\n",
    "from PIL import Image, ImageOps, ImageEnhance\n",
    "import numbers\n",
    "\n",
    "import matplotlib.pyplot as plt\n",
    "%matplotlib inline"
   ],
   "execution_count": 20,
   "outputs": [
    {
     "ename": "ModuleNotFoundError",
     "evalue": "No module named 'torch'",
     "output_type": "error",
     "traceback": [
      "\u001B[0;31m---------------------------------------------------------------------------\u001B[0m",
      "\u001B[0;31mModuleNotFoundError\u001B[0m                       Traceback (most recent call last)",
      "Cell \u001B[0;32mIn [20], line 4\u001B[0m\n\u001B[1;32m      1\u001B[0m \u001B[38;5;28;01mimport\u001B[39;00m \u001B[38;5;21;01mpandas\u001B[39;00m \u001B[38;5;28;01mas\u001B[39;00m \u001B[38;5;21;01mpd\u001B[39;00m\n\u001B[1;32m      2\u001B[0m \u001B[38;5;28;01mimport\u001B[39;00m \u001B[38;5;21;01mnumpy\u001B[39;00m \u001B[38;5;28;01mas\u001B[39;00m \u001B[38;5;21;01mnp\u001B[39;00m\n\u001B[0;32m----> 4\u001B[0m \u001B[38;5;28;01mimport\u001B[39;00m \u001B[38;5;21;01mtorch\u001B[39;00m\n\u001B[1;32m      5\u001B[0m \u001B[38;5;28;01mimport\u001B[39;00m \u001B[38;5;21;01mtorch\u001B[39;00m\u001B[38;5;21;01m.\u001B[39;00m\u001B[38;5;21;01mnn\u001B[39;00m \u001B[38;5;28;01mas\u001B[39;00m \u001B[38;5;21;01mnn\u001B[39;00m\n\u001B[1;32m      6\u001B[0m \u001B[38;5;28;01mimport\u001B[39;00m \u001B[38;5;21;01mtorch\u001B[39;00m\u001B[38;5;21;01m.\u001B[39;00m\u001B[38;5;21;01mnn\u001B[39;00m\u001B[38;5;21;01m.\u001B[39;00m\u001B[38;5;21;01mfunctional\u001B[39;00m \u001B[38;5;28;01mas\u001B[39;00m \u001B[38;5;21;01mF\u001B[39;00m\n",
      "\u001B[0;31mModuleNotFoundError\u001B[0m: No module named 'torch'"
     ]
    }
   ]
  },
  {
   "cell_type": "markdown",
   "metadata": {
    "_uuid": "8a346d02febaa91c6ae6073dad4a227fe38242a9",
    "_cell_guid": "e224069f-8b41-4390-a6d5-09ac6379982f",
    "id": "r86mkOrFF3Ng"
   },
   "source": [
    "## Explore the Data"
   ]
  },
  {
   "cell_type": "code",
   "metadata": {
    "_uuid": "86cafb6770a21e6ed806c17c2be9897399bdf520",
    "_cell_guid": "5b89951b-5acb-4957-b6e4-cfeb54f4a053",
    "execution": {
     "iopub.status.busy": "2021-11-07T13:00:44.378527Z",
     "iopub.execute_input": "2021-11-07T13:00:44.379233Z",
     "iopub.status.idle": "2021-11-07T13:00:47.567429Z",
     "shell.execute_reply.started": "2021-11-07T13:00:44.379197Z",
     "shell.execute_reply": "2021-11-07T13:00:47.566661Z"
    },
    "trusted": true,
    "colab": {
     "base_uri": "https://localhost:8080/"
    },
    "id": "_gVKYBVyF3Nh",
    "outputId": "ea120d31-baa7-4efc-9455-4fe7db6531b3"
   },
   "source": [
    "train_df = pd.read_csv('input/train.csv')\n",
    "\n",
    "n_train = len(train_df)\n",
    "n_pixels = len(train_df.columns) - 1\n",
    "n_class = len(set(train_df['label']))\n",
    "\n",
    "print('Number of training samples: {0}'.format(n_train))\n",
    "print('Number of training pixels: {0}'.format(n_pixels))\n",
    "print('Number of classes: {0}'.format(n_class))"
   ],
   "execution_count": 10,
   "outputs": [
    {
     "output_type": "stream",
     "name": "stdout",
     "text": [
      "Number of training samples: 42000\n",
      "Number of training pixels: 784\n",
      "Number of classes: 10\n"
     ]
    }
   ]
  },
  {
   "cell_type": "code",
   "metadata": {
    "_uuid": "2c697381fd6210380e2350553bd43ca13194cff1",
    "_cell_guid": "7bf732ab-a5e7-4db0-ab30-8b3f1f89bf60",
    "execution": {
     "iopub.status.busy": "2021-11-07T13:00:47.568851Z",
     "iopub.execute_input": "2021-11-07T13:00:47.569550Z",
     "iopub.status.idle": "2021-11-07T13:00:49.345512Z",
     "shell.execute_reply.started": "2021-11-07T13:00:47.569511Z",
     "shell.execute_reply": "2021-11-07T13:00:49.344687Z"
    },
    "trusted": true,
    "colab": {
     "base_uri": "https://localhost:8080/"
    },
    "id": "3liDXjsYF3Nh",
    "outputId": "be2eeea0-1787-4324-8c1e-a2e3fc2678bc"
   },
   "source": [
    "test_df = pd.read_csv('input/test.csv')\n",
    "\n",
    "n_test = len(test_df)\n",
    "n_pixels = len(test_df.columns)\n",
    "\n",
    "print('Number of train samples: {0}'.format(n_test))\n",
    "print('Number of test pixels: {0}'.format(n_pixels))"
   ],
   "execution_count": 11,
   "outputs": [
    {
     "output_type": "stream",
     "name": "stdout",
     "text": [
      "Number of train samples: 28000\n",
      "Number of test pixels: 784\n"
     ]
    }
   ]
  },
  {
   "cell_type": "markdown",
   "metadata": {
    "_uuid": "dbd7b4c21b4049d77bdd3b5d32984fdfbe7b563f",
    "_cell_guid": "a1480b3a-5298-4193-852c-26909b3aa6ea",
    "id": "G6mQsJjhF3Ni"
   },
   "source": [
    "### Display some images"
   ]
  },
  {
   "cell_type": "code",
   "metadata": {
    "_uuid": "4cfd978d90f8fe48bf7494a2e00448c3ec48b05b",
    "_cell_guid": "969c8fd1-72b0-46a8-af7c-62f630f626e8",
    "execution": {
     "iopub.status.busy": "2021-11-07T13:00:50.540028Z",
     "iopub.execute_input": "2021-11-07T13:00:50.540554Z",
     "iopub.status.idle": "2021-11-07T13:00:50.689265Z",
     "shell.execute_reply.started": "2021-11-07T13:00:50.540516Z",
     "shell.execute_reply": "2021-11-07T13:00:50.688382Z"
    },
    "trusted": true,
    "id": "zYq_6zZcF3Ni"
   },
   "source": [
    "random_sel = np.random.randint(n_train, size=8)\n",
    "grid = make_grid(torch.Tensor((train_df.iloc[random_sel, 1:].values/255.).reshape((-1, 28, 28))).unsqueeze(1), nrow=8)\n",
    "plt.rcParams['figure.figsize'] = (16, 2)\n",
    "plt.imshow(grid.numpy().transpose((1,2,0)))\n",
    "plt.axis('off')\n",
    "print(*list(train_df.iloc[random_sel, 0].values), sep = ', ')"
   ],
   "execution_count": null,
   "outputs": []
  },
  {
   "cell_type": "markdown",
   "metadata": {
    "_uuid": "21baf11c7663dd085150a3a21e843d67a29acb99",
    "_cell_guid": "22f18c2b-012b-4862-91cc-7ecde9db7bfe",
    "id": "Smk4pdEkF3Ni"
   },
   "source": [
    "### Histogram of the classes"
   ]
  },
  {
   "cell_type": "code",
   "metadata": {
    "_uuid": "2aad956c1baa1e29a259902835b66b020a540c96",
    "_cell_guid": "ecd233dc-e143-4964-87db-21b8aa8a192c",
    "execution": {
     "iopub.status.busy": "2021-11-07T13:00:54.854650Z",
     "iopub.execute_input": "2021-11-07T13:00:54.854910Z",
     "iopub.status.idle": "2021-11-07T13:00:55.079448Z",
     "shell.execute_reply.started": "2021-11-07T13:00:54.854878Z",
     "shell.execute_reply": "2021-11-07T13:00:55.078780Z"
    },
    "trusted": true,
    "colab": {
     "base_uri": "https://localhost:8080/",
     "height": 339
    },
    "id": "njkzRau8F3Nj",
    "outputId": "31a161ad-5731-4a70-cd29-a12cd5fc5d6b"
   },
   "source": [
    "plt.rcParams['figure.figsize'] = (8, 5)\n",
    "plt.bar(train_df['label'].value_counts().index, train_df['label'].value_counts())\n",
    "plt.xticks(np.arange(n_class))\n",
    "plt.xlabel('Class', fontsize=16)\n",
    "plt.ylabel('Count', fontsize=16)\n",
    "plt.grid('on', axis='y')"
   ],
   "execution_count": 12,
   "outputs": [
    {
     "output_type": "display_data",
     "data": {
      "image/png": "[encoded data removed]",
      "text/plain": [
       "<Figure size 576x360 with 1 Axes>"
      ]
     },
     "metadata": {
      "needs_background": "light"
     }
    }
   ]
  },
  {
   "cell_type": "markdown",
   "metadata": {
    "_uuid": "1166411bc5c17d2147e0e29feb1df8c94b0f203a",
    "_cell_guid": "f06156b2-2118-4a3b-a648-e15b70a5982e",
    "id": "cB6PLOTcF3Nj"
   },
   "source": [
    "## Data Loader"
   ]
  },
  {
   "cell_type": "code",
   "metadata": {
    "_uuid": "13401816f84176712146c336d11bdab8ce549bce",
    "_cell_guid": "711ee835-cb44-4243-9f7e-60c6c4301cca",
    "execution": {
     "iopub.status.busy": "2021-11-07T13:00:58.641609Z",
     "iopub.execute_input": "2021-11-07T13:00:58.642171Z",
     "iopub.status.idle": "2021-11-07T13:00:58.651478Z",
     "shell.execute_reply.started": "2021-11-07T13:00:58.642130Z",
     "shell.execute_reply": "2021-11-07T13:00:58.650795Z"
    },
    "trusted": true,
    "id": "eV_6XEejF3Nj"
   },
   "source": [
    "class MNIST_data(Dataset):\n",
    "    \"\"\"MNIST data set\"\"\"\n",
    "    \n",
    "    def __init__(self, file_path, \n",
    "                 transform = transforms.Compose([transforms.ToPILImage(), transforms.ToTensor(), \n",
    "                     transforms.Normalize(mean=(0.5,), std=(0.5,))])\n",
    "                ):\n",
    "        \n",
    "        df = pd.read_csv(file_path)\n",
    "        \n",
    "        if len(df.columns) == n_pixels:\n",
    "            # test data\n",
    "            self.X = df.values.reshape((-1,28,28)).astype(np.uint8)[:,:,:,None]\n",
    "            self.y = None\n",
    "        else:\n",
    "            # training data\n",
    "            self.X = df.iloc[:,1:].values.reshape((-1,28,28)).astype(np.uint8)[:,:,:,None]\n",
    "            self.y = torch.from_numpy(df.iloc[:,0].values)\n",
    "            \n",
    "        self.transform = transform\n",
    "    \n",
    "    def __len__(self):\n",
    "        return len(self.X)\n",
    "\n",
    "    def __getitem__(self, idx):\n",
    "        if self.y is not None:\n",
    "            return self.transform(self.X[idx]), self.y[idx]\n",
    "        else:\n",
    "            return self.transform(self.X[idx])"
   ],
   "execution_count": 13,
   "outputs": []
  },
  {
   "cell_type": "markdown",
   "metadata": {
    "_uuid": "db3edd720c83473a77bcc43b463e83d87569d7bb",
    "_cell_guid": "a593e310-63dc-49a5-b939-ad6a4889b068",
    "id": "_cN8wOCGF3Nk"
   },
   "source": [
    "### Random Rotation Transformation\n",
    "Randomly rotate the image. Available in upcoming torchvision but not now."
   ]
  },
  {
   "cell_type": "code",
   "metadata": {
    "_uuid": "cc6c3fb42e4a98508bf910b5d289dbe5a0e78bc3",
    "_cell_guid": "2b9f5823-708a-446c-9e49-a430d6bc04cb",
    "execution": {
     "iopub.status.busy": "2021-11-07T13:01:02.648907Z",
     "iopub.execute_input": "2021-11-07T13:01:02.649447Z",
     "iopub.status.idle": "2021-11-07T13:01:02.661737Z",
     "shell.execute_reply.started": "2021-11-07T13:01:02.649412Z",
     "shell.execute_reply": "2021-11-07T13:01:02.660838Z"
    },
    "trusted": true,
    "id": "RIL26PrSF3Nk"
   },
   "source": [
    "class RandomRotation(object):\n",
    "    \"\"\"\n",
    "    https://github.com/pytorch/vision/tree/master/torchvision/transforms\n",
    "    Rotate the image by angle.\n",
    "    Args:\n",
    "        degrees (sequence or float or int): Range of degrees to select from.\n",
    "            If degrees is a number instead of sequence like (min, max), the range of degrees\n",
    "            will be (-degrees, +degrees).\n",
    "        resample ({PIL.Image.NEAREST, PIL.Image.BILINEAR, PIL.Image.BICUBIC}, optional):\n",
    "            An optional resampling filter.\n",
    "            See http://pillow.readthedocs.io/en/3.4.x/handbook/concepts.html#filters\n",
    "            If omitted, or if the image has mode \"1\" or \"P\", it is set to PIL.Image.NEAREST.\n",
    "        expand (bool, optional): Optional expansion flag.\n",
    "            If true, expands the output to make it large enough to hold the entire rotated image.\n",
    "            If false or omitted, make the output image the same size as the input image.\n",
    "            Note that the expand flag assumes rotation around the center and no translation.\n",
    "        center (2-tuple, optional): Optional center of rotation.\n",
    "            Origin is the upper left corner.\n",
    "            Default is the center of the image.\n",
    "    \"\"\"\n",
    "\n",
    "    def __init__(self, degrees, resample=False, expand=False, center=None):\n",
    "        if isinstance(degrees, numbers.Number):\n",
    "            if degrees < 0:\n",
    "                raise ValueError(\"If degrees is a single number, it must be positive.\")\n",
    "            self.degrees = (-degrees, degrees)\n",
    "        else:\n",
    "            if len(degrees) != 2:\n",
    "                raise ValueError(\"If degrees is a sequence, it must be of len 2.\")\n",
    "            self.degrees = degrees\n",
    "\n",
    "        self.resample = resample\n",
    "        self.expand = expand\n",
    "        self.center = center\n",
    "\n",
    "    @staticmethod\n",
    "    def get_params(degrees):\n",
    "        \"\"\"Get parameters for ``rotate`` for a random rotation.\n",
    "        Returns:\n",
    "            sequence: params to be passed to ``rotate`` for random rotation.\n",
    "        \"\"\"\n",
    "        angle = np.random.uniform(degrees[0], degrees[1])\n",
    "\n",
    "        return angle\n",
    "\n",
    "    def __call__(self, img):\n",
    "        \"\"\"\n",
    "            img (PIL Image): Image to be rotated.\n",
    "        Returns:\n",
    "            PIL Image: Rotated image.\n",
    "        \"\"\"\n",
    "        \n",
    "        def rotate(img, angle, resample=False, expand=False, center=None):\n",
    "            \"\"\"Rotate the image by angle and then (optionally) translate it by (n_columns, n_rows)\n",
    "            Args:\n",
    "            img (PIL Image): PIL Image to be rotated.\n",
    "            angle ({float, int}): In degrees degrees counter clockwise order.\n",
    "            resample ({PIL.Image.NEAREST, PIL.Image.BILINEAR, PIL.Image.BICUBIC}, optional):\n",
    "            An optional resampling filter.\n",
    "            See http://pillow.readthedocs.io/en/3.4.x/handbook/concepts.html#filters\n",
    "            If omitted, or if the image has mode \"1\" or \"P\", it is set to PIL.Image.NEAREST.\n",
    "            expand (bool, optional): Optional expansion flag.\n",
    "            If true, expands the output image to make it large enough to hold the entire rotated image.\n",
    "            If false or omitted, make the output image the same size as the input image.\n",
    "            Note that the expand flag assumes rotation around the center and no translation.\n",
    "            center (2-tuple, optional): Optional center of rotation.\n",
    "            Origin is the upper left corner.\n",
    "            Default is the center of the image.\n",
    "            \"\"\"\n",
    "                \n",
    "            return img.rotate(angle, resample, expand, center)\n",
    "\n",
    "        angle = self.get_params(self.degrees)\n",
    "\n",
    "        return rotate(img, angle, self.resample, self.expand, self.center)"
   ],
   "execution_count": 14,
   "outputs": []
  },
  {
   "cell_type": "markdown",
   "metadata": {
    "_uuid": "97ef1e719ef91ea602e9c4ad7ccef6ed6e1957d1",
    "_cell_guid": "8bbe7231-1109-4531-9ecc-a25e575be23a",
    "id": "9Kj6KJeuF3Nl"
   },
   "source": [
    "### Random Vertical and Horizontal Shift"
   ]
  },
  {
   "cell_type": "code",
   "metadata": {
    "_uuid": "533c2041e8a0abe78c511e87010b4ab0808203de",
    "_cell_guid": "f1397122-d153-454e-b2c3-fad53971736b",
    "execution": {
     "iopub.status.busy": "2021-11-07T13:01:09.801430Z",
     "iopub.execute_input": "2021-11-07T13:01:09.801768Z",
     "iopub.status.idle": "2021-11-07T13:01:09.808031Z",
     "shell.execute_reply.started": "2021-11-07T13:01:09.801722Z",
     "shell.execute_reply": "2021-11-07T13:01:09.807268Z"
    },
    "trusted": true,
    "id": "MAzo-cnhF3Nl"
   },
   "source": [
    "class RandomShift(object):\n",
    "    def __init__(self, shift):\n",
    "        self.shift = shift\n",
    "        \n",
    "    @staticmethod\n",
    "    def get_params(shift):\n",
    "        \"\"\"Get parameters for ``rotate`` for a random rotation.\n",
    "        Returns:\n",
    "            sequence: params to be passed to ``rotate`` for random rotation.\n",
    "        \"\"\"\n",
    "        hshift, vshift = np.random.uniform(-shift, shift, size=2)\n",
    "\n",
    "        return hshift, vshift \n",
    "    def __call__(self, img):\n",
    "        hshift, vshift = self.get_params(self.shift)\n",
    "        \n",
    "        return img.transform(img.size, Image.AFFINE, (1,0,hshift,0,1,vshift), resample=Image.BICUBIC, fill=1)\n",
    "    "
   ],
   "execution_count": 15,
   "outputs": []
  },
  {
   "cell_type": "markdown",
   "metadata": {
    "_uuid": "3d697f1ef60768dd886819fc9bb77d504086cbac",
    "_cell_guid": "b23f5c0f-045a-4beb-afc1-ae8b696f9c65",
    "id": "Gwu2t1yPF3Nl"
   },
   "source": [
    "## Load the Data into Tensors\n",
    "For the training set, apply random rotation within the range of (-45, 45) degrees, shift by (-3, 3) pixels\n",
    "and normalize pixel values to [-1, 1].  For the test set, only apply nomalization."
   ]
  },
  {
   "cell_type": "code",
   "metadata": {
    "_uuid": "5f6e6b26a71c7ca9fc3126265ad8d27491a849f5",
    "_cell_guid": "d0e41412-1be1-4ca6-a5f8-d7839d2e7010",
    "execution": {
     "iopub.status.busy": "2021-11-07T13:01:14.497404Z",
     "iopub.execute_input": "2021-11-07T13:01:14.498181Z",
     "iopub.status.idle": "2021-11-07T13:01:18.151240Z",
     "shell.execute_reply.started": "2021-11-07T13:01:14.498131Z",
     "shell.execute_reply": "2021-11-07T13:01:18.150445Z"
    },
    "trusted": true,
    "id": "nPgSPbfYF3Nm"
   },
   "source": [
    "batch_size = 64\n",
    "\n",
    "train_dataset = MNIST_data('input/train.csv', transform= transforms.Compose(\n",
    "                            [transforms.ToPILImage(), RandomRotation(degrees=20), RandomShift(3),\n",
    "                             transforms.ToTensor(), transforms.Normalize(mean=(0.5,), std=(0.5,))]))\n",
    "test_dataset = MNIST_data('input/test.csv')\n",
    "\n",
    "\n",
    "train_loader = torch.utils.data.DataLoader(dataset=train_dataset,\n",
    "                                           batch_size=batch_size, shuffle=True)\n",
    "test_loader = torch.utils.data.DataLoader(dataset=test_dataset,\n",
    "                                           batch_size=batch_size, shuffle=False)"
   ],
   "execution_count": 17,
   "outputs": []
  },
  {
   "cell_type": "markdown",
   "metadata": {
    "_uuid": "f12c1c91af952a8c24b0ef07477fb1bf22f19d6c",
    "_cell_guid": "0b774eb3-1b54-43b0-a312-0d9ec0bea961",
    "id": "BADnJSkNF3Nm"
   },
   "source": [
    "### Visualize the Transformations"
   ]
  },
  {
   "cell_type": "code",
   "metadata": {
    "_uuid": "7dc11b9516313eb35080c04b2f8d2d6deffdae6b",
    "_cell_guid": "3bbe59c6-09dc-487a-8c45-e1dff23e7820",
    "execution": {
     "iopub.status.busy": "2021-11-07T13:01:20.390599Z",
     "iopub.execute_input": "2021-11-07T13:01:20.391135Z",
     "iopub.status.idle": "2021-11-07T13:01:20.810586Z",
     "shell.execute_reply.started": "2021-11-07T13:01:20.391095Z",
     "shell.execute_reply": "2021-11-07T13:01:20.809915Z"
    },
    "trusted": true,
    "colab": {
     "base_uri": "https://localhost:8080/",
     "height": 217
    },
    "id": "9QwbgZukF3Nm",
    "outputId": "44fe0907-5409-4c19-9c21-f2eafff20501"
   },
   "source": [
    "rotate = RandomRotation(20)\n",
    "shift = RandomShift(3)\n",
    "composed = transforms.Compose([RandomRotation(20),\n",
    "                               RandomShift(3)])\n",
    "\n",
    "# Apply each of the above transforms on sample.\n",
    "fig = plt.figure()\n",
    "sample = transforms.ToPILImage()(train_df.iloc[65,1:].values.reshape((28,28)).astype(np.uint8)[:,:,None])\n",
    "for i, tsfrm in enumerate([rotate, shift, composed]):\n",
    "    transformed_sample = tsfrm(sample)\n",
    "\n",
    "    ax = plt.subplot(1, 3, i + 1)\n",
    "    plt.tight_layout()\n",
    "    ax.set_title(type(tsfrm).__name__)\n",
    "    ax.imshow(np.reshape(np.array(list(transformed_sample.getdata())), (-1,28)), cmap='gray')    \n",
    "\n",
    "plt.show()"
   ],
   "execution_count": 18,
   "outputs": [
    {
     "output_type": "display_data",
     "data": {
      "image/png": "[encoded data removed]",
      "text/plain": [
       "<Figure size 576x360 with 3 Axes>"
      ]
     },
     "metadata": {
      "needs_background": "light"
     }
    }
   ]
  },
  {
   "cell_type": "markdown",
   "metadata": {
    "_uuid": "faaa2bd7a8b30fbf925b34fa6dd1eca9655a756e",
    "_cell_guid": "351ce32d-7f9d-4ea9-983a-bf99aeaf63d8",
    "id": "6R_EGu_aF3Nn"
   },
   "source": [
    "## Network Structure"
   ]
  },
  {
   "cell_type": "code",
   "metadata": {
    "_uuid": "875f53c04b120b40cd695c57a774165259183413",
    "_cell_guid": "766abaee-5811-4963-a4ac-69d910d9eead",
    "execution": {
     "iopub.status.busy": "2021-11-07T13:01:24.968383Z",
     "iopub.execute_input": "2021-11-07T13:01:24.969201Z",
     "iopub.status.idle": "2021-11-07T13:01:24.982874Z",
     "shell.execute_reply.started": "2021-11-07T13:01:24.969163Z",
     "shell.execute_reply": "2021-11-07T13:01:24.982189Z"
    },
    "trusted": true,
    "id": "N4u2kUSqF3Nn"
   },
   "source": [
    "class Net(nn.Module):    \n",
    "    def __init__(self):\n",
    "        super(Net, self).__init__()\n",
    "          \n",
    "        self.features = nn.Sequential(\n",
    "            nn.Conv2d(1, 32, kernel_size=3, stride=1, padding=1),\n",
    "            nn.BatchNorm2d(32),\n",
    "            nn.ReLU(inplace=True),\n",
    "            nn.Conv2d(32, 32, kernel_size=3, stride=1, padding=1),\n",
    "            nn.BatchNorm2d(32),\n",
    "            nn.ReLU(inplace=True),\n",
    "            nn.MaxPool2d(kernel_size=2, stride=2),\n",
    "            nn.Conv2d(32, 64, kernel_size=3, padding=1),\n",
    "            nn.BatchNorm2d(64),\n",
    "            nn.ReLU(inplace=True),\n",
    "            nn.Conv2d(64, 64, kernel_size=3, padding=1),\n",
    "            nn.BatchNorm2d(64),\n",
    "            nn.ReLU(inplace=True),\n",
    "            nn.MaxPool2d(kernel_size=2, stride=2)\n",
    "        )\n",
    "          \n",
    "        self.classifier = nn.Sequential(\n",
    "            nn.Dropout(p = 0.5),\n",
    "            nn.Linear(64 * 7 * 7, 512),\n",
    "            nn.BatchNorm1d(512),\n",
    "            nn.ReLU(inplace=True),\n",
    "            nn.Dropout(p = 0.5),\n",
    "            nn.Linear(512, 512),\n",
    "            nn.BatchNorm1d(512),\n",
    "            nn.ReLU(inplace=True),\n",
    "            nn.Dropout(p = 0.5),\n",
    "            nn.Linear(512, 10),\n",
    "        )\n",
    "          \n",
    "        for m in self.features.children():\n",
    "            if isinstance(m, nn.Conv2d):\n",
    "                n = m.kernel_size[0] * m.kernel_size[1] * m.out_channels\n",
    "                m.weight.data.normal_(0, math.sqrt(2. / n))\n",
    "            elif isinstance(m, nn.BatchNorm2d):\n",
    "                m.weight.data.fill_(1)\n",
    "                m.bias.data.zero_()\n",
    "        \n",
    "        for m in self.classifier.children():\n",
    "            if isinstance(m, nn.Linear):\n",
    "                nn.init.xavier_uniform_(m.weight)\n",
    "            elif isinstance(m, nn.BatchNorm1d):\n",
    "                m.weight.data.fill_(1)\n",
    "                m.bias.data.zero_()\n",
    "                \n",
    "\n",
    "    def forward(self, x):\n",
    "        x = self.features(x)\n",
    "        x = x.view(x.size(0), -1)\n",
    "        x = self.classifier(x)\n",
    "        \n",
    "        return x     "
   ],
   "execution_count": 19,
   "outputs": []
  },
  {
   "cell_type": "code",
   "metadata": {
    "_uuid": "3227d3f557f1770c43721ea7fc9bfc11d313e177",
    "_cell_guid": "5b36bb2e-f4ce-4831-b829-0b737b88c014",
    "execution": {
     "iopub.status.busy": "2021-11-07T13:01:31.130812Z",
     "iopub.execute_input": "2021-11-07T13:01:31.131366Z",
     "iopub.status.idle": "2021-11-07T13:01:33.914350Z",
     "shell.execute_reply.started": "2021-11-07T13:01:31.131324Z",
     "shell.execute_reply": "2021-11-07T13:01:33.913500Z"
    },
    "trusted": true,
    "id": "bM6RTkZNF3Nn"
   },
   "source": [
    "model = Net()\n",
    "\n",
    "optimizer = optim.Adam(model.parameters(), lr=0.003)\n",
    "\n",
    "criterion = nn.CrossEntropyLoss()\n",
    "\n",
    "exp_lr_scheduler = lr_scheduler.StepLR(optimizer, step_size=7, gamma=0.1)\n",
    "\n",
    "if torch.cuda.is_available():\n",
    "    model = model.cuda()\n",
    "    criterion = criterion.cuda()"
   ],
   "execution_count": null,
   "outputs": []
  },
  {
   "cell_type": "markdown",
   "metadata": {
    "_uuid": "f1ad41846a5182bacb284b362bac52d0c17bd29e",
    "_cell_guid": "41fecd4e-d764-4da2-8efd-e94b5b243770",
    "id": "pq5Vyd4OF3No"
   },
   "source": [
    "## Training and Evaluation"
   ]
  },
  {
   "cell_type": "code",
   "metadata": {
    "_uuid": "397c6aa3d575226f3fb0c8a3a8a30889bcd8e255",
    "_cell_guid": "be618460-65ae-4dfc-b106-1970019b984f",
    "execution": {
     "iopub.status.busy": "2021-11-07T13:03:24.530845Z",
     "iopub.execute_input": "2021-11-07T13:03:24.531413Z",
     "iopub.status.idle": "2021-11-07T13:03:24.538455Z",
     "shell.execute_reply.started": "2021-11-07T13:03:24.531371Z",
     "shell.execute_reply": "2021-11-07T13:03:24.537493Z"
    },
    "trusted": true,
    "id": "2Ds2CkoyF3No"
   },
   "source": [
    "def train(epoch):\n",
    "    model.train()\n",
    "\n",
    "    for batch_idx, (data, target) in enumerate(train_loader):\n",
    "        data, target = Variable(data), Variable(target)\n",
    "        \n",
    "        if torch.cuda.is_available():\n",
    "            data = data.cuda()\n",
    "            target = target.cuda()\n",
    "        \n",
    "        optimizer.zero_grad()\n",
    "        output = model(data)\n",
    "        loss = criterion(output, target)\n",
    "        \n",
    "        loss.backward()\n",
    "        optimizer.step()\n",
    "        \n",
    "        if (batch_idx + 1)% 100 == 0:\n",
    "            print('Train Epoch: {} [{}/{} ({:.0f}%)]\\tLoss: {:.6f}'.format(\n",
    "                epoch, (batch_idx + 1) * len(data), len(train_loader.dataset),\n",
    "                100. * (batch_idx + 1) / len(train_loader),loss.item() ))\n",
    "    exp_lr_scheduler.step()\n"
   ],
   "execution_count": null,
   "outputs": []
  },
  {
   "cell_type": "code",
   "metadata": {
    "_uuid": "977bf7d8ca46333bb53b7b44be40942d0e82572a",
    "_cell_guid": "3901fd52-c016-4b7f-bcb4-80a2449b43f4",
    "execution": {
     "iopub.status.busy": "2021-11-07T13:06:58.130713Z",
     "iopub.execute_input": "2021-11-07T13:06:58.130981Z",
     "iopub.status.idle": "2021-11-07T13:06:58.138545Z",
     "shell.execute_reply.started": "2021-11-07T13:06:58.130937Z",
     "shell.execute_reply": "2021-11-07T13:06:58.137675Z"
    },
    "trusted": true,
    "id": "s7DvtIOCF3No"
   },
   "source": [
    "def evaluate(data_loader):\n",
    "    model.eval()\n",
    "    loss = 0\n",
    "    correct = 0\n",
    "    \n",
    "    for data, target in data_loader:\n",
    "        data, target = Variable(data), Variable(target)\n",
    "        if torch.cuda.is_available():\n",
    "            data = data.cuda()\n",
    "            target = target.cuda()\n",
    "        \n",
    "        output = model(data)\n",
    "        \n",
    "        loss += F.cross_entropy(output, target, size_average=False).data.item()\n",
    "\n",
    "        pred = output.data.max(1, keepdim=True)[1]\n",
    "        correct += pred.eq(target.data.view_as(pred)).cpu().sum()\n",
    "        \n",
    "    loss /= len(data_loader.dataset)\n",
    "        \n",
    "    print('\\nAverage loss: {:.4f}, Accuracy: {}/{} ({:.3f}%)\\n'.format(\n",
    "        loss, correct, len(data_loader.dataset),\n",
    "        100. * correct / len(data_loader.dataset)))"
   ],
   "execution_count": null,
   "outputs": []
  },
  {
   "cell_type": "markdown",
   "metadata": {
    "_uuid": "a4c4986684b3915e329a6fc5ab380a58cb07bec7",
    "_cell_guid": "1edb9d12-9411-4fc1-8a3e-045713b6b448",
    "id": "KfYQfDKfF3Np"
   },
   "source": [
    "### Train the network\n",
    "\n",
    "Reaches 0.995 accuracy on test set after 50 epochs"
   ]
  },
  {
   "cell_type": "code",
   "metadata": {
    "_uuid": "6ca8fe3ded9fcd5dc09350aff412d878eac0df6a",
    "_cell_guid": "c7b3146c-0beb-438d-a8de-15f6afa11ba3",
    "execution": {
     "iopub.status.busy": "2021-11-07T13:03:28.694485Z",
     "iopub.execute_input": "2021-11-07T13:03:28.694748Z",
     "iopub.status.idle": "2021-11-07T13:03:59.382263Z",
     "shell.execute_reply.started": "2021-11-07T13:03:28.694718Z",
     "shell.execute_reply": "2021-11-07T13:03:59.381599Z"
    },
    "trusted": true,
    "id": "7rhvSTEVF3Np"
   },
   "source": [
    "n_epochs = 1\n",
    "\n",
    "for epoch in range(n_epochs):\n",
    "    train(epoch)\n",
    "    evaluate(train_loader)"
   ],
   "execution_count": null,
   "outputs": []
  },
  {
   "cell_type": "code",
   "metadata": {
    "trusted": true,
    "id": "xJj2ncUyF3Np"
   },
   "source": [],
   "execution_count": null,
   "outputs": []
  },
  {
   "cell_type": "markdown",
   "metadata": {
    "_uuid": "f043414ac704967a9ab2b659fe5567a66796d6ba",
    "_cell_guid": "3357ea6a-db51-4be7-b101-933720ad5fca",
    "id": "KZblG5otF3Np"
   },
   "source": [
    "## Prediction on Test Set"
   ]
  },
  {
   "cell_type": "code",
   "metadata": {
    "_uuid": "9fdbe41834761b6b91cfe4eebdfc88ce29f0723e",
    "_cell_guid": "e00a390b-0aaf-4119-926b-03ffe486e99d",
    "execution": {
     "iopub.status.busy": "2021-11-07T13:06:35.069418Z",
     "iopub.execute_input": "2021-11-07T13:06:35.069676Z",
     "iopub.status.idle": "2021-11-07T13:06:35.075886Z",
     "shell.execute_reply.started": "2021-11-07T13:06:35.069646Z",
     "shell.execute_reply": "2021-11-07T13:06:35.074928Z"
    },
    "trusted": true,
    "id": "rEbcMQ_JF3Np"
   },
   "source": [
    "def prediction(data_loader):\n",
    "    model.eval()\n",
    "    test_pred = torch.LongTensor()\n",
    "    \n",
    "    for i, data in enumerate(data_loader):\n",
    "        data = Variable(data)\n",
    "        if torch.cuda.is_available():\n",
    "            data = data.cuda()\n",
    "            \n",
    "        output = model(data)\n",
    "        \n",
    "        pred = output.cpu().data.max(1, keepdim=True)[1]\n",
    "        test_pred = torch.cat((test_pred, pred), dim=0)\n",
    "        \n",
    "    return test_pred"
   ],
   "execution_count": null,
   "outputs": []
  },
  {
   "cell_type": "code",
   "metadata": {
    "_uuid": "fe47f6c8c7bdfe85779ebfcf7a74e361f3b7c8a0",
    "_cell_guid": "c6cc74dc-8de0-403b-abed-3ead97f0348c",
    "execution": {
     "iopub.status.busy": "2021-11-07T13:06:36.330371Z",
     "iopub.execute_input": "2021-11-07T13:06:36.330843Z",
     "iopub.status.idle": "2021-11-07T13:06:41.000762Z",
     "shell.execute_reply.started": "2021-11-07T13:06:36.330805Z",
     "shell.execute_reply": "2021-11-07T13:06:41.000008Z"
    },
    "trusted": true,
    "id": "5N-iPoncF3Np"
   },
   "source": [
    "test_pred = prediction(test_loader)"
   ],
   "execution_count": null,
   "outputs": []
  },
  {
   "cell_type": "code",
   "metadata": {
    "_uuid": "4ef57831bbeeb792e7d3a847198f002ebe02f8a5",
    "_cell_guid": "6de7f1ff-4c33-4b1e-9316-ac022ad0287d",
    "execution": {
     "iopub.status.busy": "2021-11-07T13:05:30.927137Z",
     "iopub.execute_input": "2021-11-07T13:05:30.927662Z",
     "iopub.status.idle": "2021-11-07T13:05:30.933220Z",
     "shell.execute_reply.started": "2021-11-07T13:05:30.927622Z",
     "shell.execute_reply": "2021-11-07T13:05:30.932503Z"
    },
    "trusted": true,
    "id": "9NTAc7kmF3Nq"
   },
   "source": [
    "out_df = pd.DataFrame(np.c_[np.arange(1, len(test_dataset)+1)[:,None], test_pred.numpy()], \n",
    "                      columns=['ImageId', 'Label'])"
   ],
   "execution_count": null,
   "outputs": []
  },
  {
   "cell_type": "code",
   "metadata": {
    "scrolled": true,
    "_uuid": "899374536c219a3b6208a4947046b6a46515f24b",
    "_cell_guid": "b9422a68-66e5-4bc1-af9f-1d7d02576a34",
    "execution": {
     "iopub.status.busy": "2021-11-07T13:05:37.511682Z",
     "iopub.execute_input": "2021-11-07T13:05:37.511938Z",
     "iopub.status.idle": "2021-11-07T13:05:37.524699Z",
     "shell.execute_reply.started": "2021-11-07T13:05:37.511907Z",
     "shell.execute_reply": "2021-11-07T13:05:37.523903Z"
    },
    "trusted": true,
    "id": "ieXTj0prF3Nq"
   },
   "source": [
    "out_df.head()"
   ],
   "execution_count": null,
   "outputs": []
  },
  {
   "cell_type": "code",
   "metadata": {
    "_uuid": "42b9c61e3462f471d9cae883880232882de0f21f",
    "_cell_guid": "9f53df55-4569-4f11-a038-f54a1e200161",
    "id": "dd3hiYTUF3Nq"
   },
   "source": [
    "out_df.to_csv('submission.csv', index=False)"
   ],
   "execution_count": null,
   "outputs": []
  }
 ]
}
