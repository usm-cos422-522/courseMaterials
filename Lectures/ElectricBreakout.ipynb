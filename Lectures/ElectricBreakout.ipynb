{
 "cells": [
  {
   "cell_type": "code",
   "execution_count": 4,
   "metadata": {
    "collapsed": true
   },
   "outputs": [],
   "source": [
    "import pandas as pd\n",
    "import numpy as np\n",
    "import matplotlib.pyplot as pp\n",
    "%matplotlib inline\n",
    "import requests\n",
    "import os.path\n",
    "import io\n"
   ]
  },
  {
   "cell_type": "code",
   "execution_count": 1,
   "outputs": [],
   "source": [
    "# read in the file and display the first five records\n",
    "\n",
    "data_url = \"https://raw.githubusercontent.com/usm-cos422-522/courseMaterials/main/data/ElectricCarData.csv\"\n"
   ],
   "metadata": {
    "collapsed": false
   }
  },
  {
   "cell_type": "code",
   "execution_count": 8,
   "outputs": [],
   "source": [
    "# Count the total number of cars by brand\n",
    "# But first, to do this, we must first strip all the white space\n",
    "cars_df['Brand'] = cars_df['Brand'].str.strip()\n"
   ],
   "metadata": {
    "collapsed": false
   }
  },
  {
   "cell_type": "code",
   "execution_count": 3,
   "outputs": [],
   "source": [
    "# Group the cars by Brand and save results in a Dataframe named brand_df.\n",
    "# Then create a volkswagen dataframe by selecting the Volkswagen group\n",
    "# Display the first five records of the Volkswagen dataframe\n"
   ],
   "metadata": {
    "collapsed": false
   }
  },
  {
   "cell_type": "code",
   "execution_count": 2,
   "outputs": [],
   "source": [
    "# Using the brand_df, find the maximum priced model of each Brand\n"
   ],
   "metadata": {
    "collapsed": false
   }
  },
  {
   "cell_type": "code",
   "execution_count": 5,
   "outputs": [],
   "source": [
    "#Using the brand_df, find the average range of models associated with each brand\n"
   ],
   "metadata": {
    "collapsed": false
   }
  },
  {
   "cell_type": "code",
   "execution_count": 43,
   "outputs": [],
   "source": [
    "# Form two new dataframes german_df and japanese_df with all records that have the following brands\n",
    "GermanCars = ['Ford', 'Mercedes', 'BMV', 'Audi']\n",
    "JapaneseCars = ['Toyota', 'Honda', 'Nissan', 'Mitsubishi ']\n"
   ],
   "metadata": {
    "collapsed": false
   }
  },
  {
   "cell_type": "code",
   "execution_count": 50,
   "outputs": [],
   "source": [
    "# Form a new german_jap_df that concatenates the above two dataframes together\n"
   ],
   "metadata": {
    "collapsed": false
   }
  },
  {
   "cell_type": "code",
   "execution_count": 6,
   "outputs": [],
   "source": [
    "#Display the counts of the distinct values in the Segment column\n"
   ],
   "metadata": {
    "collapsed": false
   }
  },
  {
   "cell_type": "code",
   "execution_count": 7,
   "outputs": [],
   "source": [
    "#Create a new dataframe that has dummy columns (or indicator variables) that indicate which\n",
    "# segment the car belongs to using a (1,0), Use the prefix 'segment' for the column name\n",
    "# display the results to verify it was done correctly"
   ],
   "metadata": {
    "collapsed": false
   }
  },
  {
   "cell_type": "code",
   "execution_count": null,
   "outputs": [],
   "source": [],
   "metadata": {
    "collapsed": false
   }
  }
 ],
 "metadata": {
  "kernelspec": {
   "display_name": "Python 3",
   "language": "python",
   "name": "python3"
  },
  "language_info": {
   "codemirror_mode": {
    "name": "ipython",
    "version": 2
   },
   "file_extension": ".py",
   "mimetype": "text/x-python",
   "name": "python",
   "nbconvert_exporter": "python",
   "pygments_lexer": "ipython2",
   "version": "2.7.6"
  }
 },
 "nbformat": 4,
 "nbformat_minor": 0
}
