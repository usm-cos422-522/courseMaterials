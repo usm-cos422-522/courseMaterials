{
  "metadata": {
    "kernelspec": {
      "display_name": "Python 3",
      "language": "python",
      "name": "python3"
    },
    "language_info": {
      "name": "python",
      "version": "3.6.6",
      "mimetype": "text/x-python",
      "codemirror_mode": {
        "name": "ipython",
        "version": 3
      },
      "pygments_lexer": "ipython3",
      "nbconvert_exporter": "python",
      "file_extension": ".py"
    },
    "colab": {
      "provenance": [],
      "include_colab_link": true
    }
  },
  "nbformat_minor": 0,
  "nbformat": 4,
  "cells": [
    {
      "cell_type": "markdown",
      "metadata": {
        "id": "view-in-github",
        "colab_type": "text"
      },
      "source": [
        "<a href=\"https://colab.research.google.com/github/usm-cos422-522/courseMaterials/blob/main/Lectures/object-oriented-titanics.ipynb\" target=\"_parent\"><img src=\"https://colab.research.google.com/assets/colab-badge.svg\" alt=\"Open In Colab\"/></a>"
      ]
    },
    {
      "cell_type": "markdown",
      "source": [
        "Adapted from  https://www.kaggle.com/code/serkanpeldek/object-oriented-titanics/notebook\n"
      ],
      "metadata": {
        "_uuid": "3c3f79fdc968a1342a604402cc2dfc76768c070f",
        "id": "R8NdkA7pVv6w"
      }
    },
    {
      "cell_type": "markdown",
      "source": [
        "<a class=\"anchor\" id=\"0.\"></a>\n",
        "# **Contents**\n",
        "\n",
        "1. [WORKING ON TITANIC DATASET](#2.)\n",
        "* * ['Information' class](#2.1.)\n",
        "* *  ['Preprocess' class](#2.2.)\n",
        "* * ['PreprocessStrategy' class](#2.3.)\n",
        "* * ['GridSearchHelper' class](#2.4.)\n",
        "* * [Visualizer class](#2.e1.)\n",
        "* * ['ObjectOrientedTitanic' class](#2.5.)\n",
        "* * [Testing](#2.6.)\n",
        "* * * [Create ObjectOrientedTitanic object](#2.6.1.)\n",
        "* * * [Display R Type Information](#2.6.2.)\n",
        "* * * [Define preprocess strategy](#2.6.3.)\n",
        "* * * [Visualize](#2.6.4.)\n",
        "* * * [Get GridSearchCV Results](#2.6.5.)"
      ],
      "metadata": {
        "_uuid": "5a07b98db2578e984b11741f75028f5e1d79642e",
        "id": "icGcRGLQVv6z"
      }
    },
    {
      "cell_type": "markdown",
      "source": [
        "[Go to Contents Menu](#0.)\n",
        "\n",
        "# <a class=\"anchor\" id=\"2.\"></a>**WORKING ON TITANIC DATASET** \n",
        "\n",
        "Now let's work on the Titanic dataset using classes\n",
        "\n",
        "\n",
        "Different classes have been created for the operations on the Titanic dataset; Information, Preprocess, PreprocessStrategy, GridSearchHelper, ObjectOrientedTitanic\n",
        "\n",
        "'**Information**': This class prints summary information about the data set on the screen.\n",
        "\n",
        "'**Preprocess**': The preprocessing on the data set is done using this class.\n",
        "\n",
        "'**PreprocessStrategy**': Preprocessing is important in the Titanic data set. The PreprocessStrategy class was created to develop different pre-processing strategies.\n",
        "\n",
        "'**GridSearchHelper**': Class for parameter optimization for machine learning algorithms.\n",
        "\n",
        "'**ObjectOrientedTitanic**': The class for which all classes are managed.\n",
        "\n"
      ],
      "metadata": {
        "_uuid": "dc35fcf901c1dcdf9f83f76f99fae97f00f8fda9",
        "trusted": true,
        "id": "nJk4PwlPVv60"
      }
    },
    {
      "cell_type": "code",
      "execution_count": null,
      "outputs": [],
      "source": [
        "#!pip install sklearn\n",
        "#!pip install yellowbrick"
      ],
      "metadata": {
        "id": "ZZehxXnmVv60"
      }
    },
    {
      "cell_type": "code",
      "source": [
        "import numpy as np # linear algebra\n",
        "import pandas as pd # data processing\n",
        "\n",
        "#Visualization\n",
        "import matplotlib.pyplot as plt\n",
        "\n",
        "#Systems\n",
        "import os\n",
        "import warnings\n"
      ],
      "metadata": {
        "_uuid": "8f2839f25d086af736a60e9eeb907d3b93b6e0e5",
        "_cell_guid": "b1076dfc-b9ad-4769-8c92-a6c4dae69d19",
        "trusted": true,
        "id": "q3uwz9zuVv61"
      },
      "execution_count": null,
      "outputs": []
    },
    {
      "cell_type": "code",
      "source": [
        "warnings.filterwarnings('ignore')\n",
        "print(\"Warnings were ignored\")"
      ],
      "metadata": {
        "_uuid": "01345e35f281a02ef5d008ca4ec7ad19cf4717cc",
        "trusted": true,
        "id": "mD0CRd6jVv61",
        "outputId": "7328d0bb-4540-4cdb-88f8-5114c1299def"
      },
      "execution_count": null,
      "outputs": [
        {
          "name": "stdout",
          "output_type": "stream",
          "text": [
            "Warnings were ignored\n"
          ]
        }
      ]
    },
    {
      "cell_type": "markdown",
      "source": [
        "[Go to Contents Menu](#0.)\n",
        "\n",
        "# <a class=\"anchor\" id=\"2.1.\"></a>**'Information' class**  "
      ],
      "metadata": {
        "_uuid": "7e34ce654d0088e6906f0d487a8f32b332a44de5",
        "id": "wMpeAYwcVv61"
      }
    },
    {
      "cell_type": "code",
      "source": [
        "class Information():\n",
        "\n",
        "    def __init__(self):\n",
        "        \"\"\"\n",
        "        This class give some brief information about the datasets.\n",
        "        Information introduced in R language style\n",
        "        \"\"\"\n",
        "        print(\"Information object created\")\n",
        "\n",
        "    def _get_missing_values(self,data):\n",
        "        \"\"\"\n",
        "        Find missing values of given datad\n",
        "        :param data: checked its missing value\n",
        "        :return: Pandas Series object\n",
        "        \"\"\"\n",
        "        #Getting sum of missing values for each feature\n",
        "        missing_values = data.isnull().sum()\n",
        "        #Feature missing values are sorted from few to many\n",
        "        missing_values.sort_values(ascending=False, inplace=True)\n",
        "        \n",
        "        #Returning missing values\n",
        "        return missing_values\n",
        "\n",
        "    def info(self,data):\n",
        "        \"\"\"\n",
        "        print feature name, data type, number of missing values and ten samples of \n",
        "        each feature\n",
        "        :param data: dataset information will be gathered from\n",
        "        :return: no return value\n",
        "        \"\"\"\n",
        "        feature_dtypes=data.dtypes\n",
        "        self.missing_values=self._get_missing_values(data)\n",
        "\n",
        "        print(\"=\" * 50)\n",
        "\n",
        "        print(\"{:16} {:16} {:25} {:16}\".format(\"Feature Name\".upper(),\n",
        "                                            \"Data Format\".upper(),\n",
        "                                            \"# of Missing Values\".upper(),\n",
        "                                            \"Samples\".upper()))\n",
        "        for feature_name, dtype, missing_value in zip(self.missing_values.index.values,\n",
        "                                                      feature_dtypes[self.missing_values.index.values],\n",
        "                                                      self.missing_values.values):\n",
        "            print(\"{:18} {:19} {:19} \".format(feature_name, str(dtype), str(missing_value)), end=\"\")\n",
        "            for v in data[feature_name].values[:10]:\n",
        "                print(v, end=\",\")\n",
        "            print()\n",
        "\n",
        "        print(\"=\"*50)\n"
      ],
      "metadata": {
        "_uuid": "cf24ff4edfc10b60e7a603dddd32e2484b261808",
        "trusted": true,
        "id": "PBQokWelVv61"
      },
      "execution_count": null,
      "outputs": []
    },
    {
      "cell_type": "markdown",
      "source": [
        "[Go to Contents Menu](#0.)\n",
        "\n",
        "# <a class=\"anchor\" id=\"2.2.\"></a>**'Preprocess' class**"
      ],
      "metadata": {
        "_uuid": "2d1bde5d9ab9b9843d751ec5f5e5118a9c8aa16a",
        "id": "aHB72rSpVv62"
      }
    },
    {
      "cell_type": "code",
      "source": [
        "import pandas as pd\n",
        "from sklearn.preprocessing import LabelEncoder\n",
        "class Preprocess():\n",
        "\n",
        "    def __init__(self):\n",
        "        print(\"Preprocess object created\")\n",
        "\n",
        "    def fillna(self, data, fill_strategies):\n",
        "        for column, strategy in fill_strategies.items():\n",
        "            if strategy == 'None':\n",
        "                data[column] = data[column].fillna('None')\n",
        "            elif strategy == 'Zero':\n",
        "                data[column] = data[column].fillna(0)\n",
        "            elif strategy == 'Mode':\n",
        "                data[column] = data[column].fillna(data[column].mode()[0])\n",
        "            elif strategy == 'Mean':\n",
        "                data[column] = data[column].fillna(data[column].mean())\n",
        "            elif strategy == 'Median':\n",
        "                data[column] = data[column].fillna(data[column].median())\n",
        "            else:\n",
        "                print(\"{}: There is no such thing as preprocess strategy\".format(strategy))\n",
        "\n",
        "        return data\n",
        "\n",
        "    def drop(self, data, drop_strategies):\n",
        "        for column, strategy in drop_strategies.items():\n",
        "            data=data.drop(labels=[column], axis=strategy)\n",
        "\n",
        "        return data\n",
        "\n",
        "    def feature_engineering(self, data, engineering_strategies=1):\n",
        "        if engineering_strategies==1:\n",
        "            return self._feature_engineering1(data)\n",
        "\n",
        "        return data\n",
        "\n",
        "    def _feature_engineering1(self,data):\n",
        "\n",
        "        data=self._base_feature_engineering(data)\n",
        "\n",
        "\n",
        "        data['FareBin'] = pd.qcut(data['Fare'], 4)\n",
        "\n",
        "        data['AgeBin'] = pd.cut(data['Age'].astype(int), 5)\n",
        "\n",
        "        drop_strategy = {'Age': 1,  # 1 indicate axis 1(column)\n",
        "                         'Name': 1,\n",
        "                         'Fare': 1}\n",
        "        data = self.drop(data, drop_strategy)\n",
        "\n",
        "        return data\n",
        "\n",
        "    def _base_feature_engineering(self,data):\n",
        "        data['FamilySize'] = data['SibSp'] + data['Parch'] + 1\n",
        "\n",
        "        data['IsAlone'] = 1\n",
        "        data.loc[(data['FamilySize'] > 1), 'IsAlone'] = 0\n",
        "\n",
        "        data['Title'] = data['Name'].str.split(\", \", expand=True)[1].str.split('.', expand=True)[0]\n",
        "        min_lengtht = 10\n",
        "        title_names = (data['Title'].value_counts() < min_lengtht)\n",
        "        data['Title'] = data['Title'].apply(lambda x: 'Misc' if title_names.loc[x] == True else x)\n",
        "\n",
        "        return data\n",
        "\n",
        "    def _label_encoder(self,data):\n",
        "        labelEncoder=LabelEncoder()\n",
        "        for column in data.columns.values:\n",
        "            if 'int64'==data[column].dtype or 'float64'==data[column].dtype or 'int64'==data[column].dtype:\n",
        "                continue\n",
        "            labelEncoder.fit(data[column])\n",
        "            data[column]=labelEncoder.transform(data[column])\n",
        "        return data\n",
        "\n",
        "    def _get_dummies(self, data, prefered_columns=None):\n",
        "\n",
        "        if prefered_columns is None:\n",
        "            columns=data.columns.values\n",
        "            non_dummies=None\n",
        "        else:\n",
        "            non_dummies=[col for col in data.columns.values if col not in prefered_columns ]\n",
        "\n",
        "            columns=prefered_columns\n",
        "\n",
        "\n",
        "        dummies_data=[pd.get_dummies(data[col],prefix=col) for col in columns]\n",
        "\n",
        "        if non_dummies is not None:\n",
        "            for non_dummy in non_dummies:\n",
        "                dummies_data.append(data[non_dummy])\n",
        "\n",
        "        return pd.concat(dummies_data, axis=1)"
      ],
      "metadata": {
        "_uuid": "27b5f982c7da010a12ef7df1791e82b5118eb2cd",
        "trusted": true,
        "id": "oEpZHizHVv62"
      },
      "execution_count": null,
      "outputs": []
    },
    {
      "cell_type": "markdown",
      "source": [
        "[Go to Contents Menu](#0.)\n",
        "\n",
        "# <a class=\"anchor\" id=\"2.3.\"></a>**'PreprocessStrategy' class** "
      ],
      "metadata": {
        "_uuid": "8bba2d0e6b01c0a2a27fe45f5459d79d95c07e5d",
        "id": "ZlOKqs0aVv63"
      }
    },
    {
      "cell_type": "code",
      "source": [
        "class PreprocessStrategy():\n",
        "    \"\"\"\n",
        "    Preprocess strategies defined and exected in this class\n",
        "    \"\"\"\n",
        "    def __init__(self):\n",
        "        self.data=None\n",
        "        self._preprocessor=Preprocess()\n",
        "\n",
        "    def strategy(self, data, strategy_type=\"strategy1\"):\n",
        "        self.data=data\n",
        "        if strategy_type=='strategy1':\n",
        "            self._strategy1()\n",
        "        elif strategy_type=='strategy2':\n",
        "            self._strategy2()\n",
        "\n",
        "        return self.data\n",
        "\n",
        "    def _base_strategy(self):\n",
        "        drop_strategy = {'PassengerId': 1,  # 1 indicate axis 1(column)\n",
        "                         'Cabin': 1,\n",
        "                         'Ticket': 1}\n",
        "        self.data = self._preprocessor.drop(self.data, drop_strategy)\n",
        "\n",
        "        fill_strategy = {'Age': 'Median',\n",
        "                         'Fare': 'Median',\n",
        "                         'Embarked': 'Mode'}\n",
        "        self.data = self._preprocessor.fillna(self.data, fill_strategy)\n",
        "\n",
        "        self.data = self._preprocessor.feature_engineering(self.data, 1)\n",
        "\n",
        "\n",
        "        self.data = self._preprocessor._label_encoder(self.data)\n",
        "\n",
        "    def _strategy1(self):\n",
        "        self._base_strategy()\n",
        "\n",
        "        self.data=self._preprocessor._get_dummies(self.data,\n",
        "                                        prefered_columns=['Pclass', 'Sex', 'Parch', 'Embarked', 'Title', 'IsAlone'])\n",
        "\n",
        "    def _strategy2(self):\n",
        "        self._base_strategy()\n",
        "\n",
        "        self.data=self._preprocessor._get_dummies(self.data,\n",
        "                                        prefered_columns=None)#None mean that all feature will be dummied"
      ],
      "metadata": {
        "_cell_guid": "79c7e3d0-c299-4dcb-8224-4455121ee9b0",
        "_uuid": "d629ff2d2480ee46fbb7e2d37f6b5fab8052498a",
        "trusted": true,
        "id": "zGCZev_mVv63"
      },
      "execution_count": null,
      "outputs": []
    },
    {
      "cell_type": "markdown",
      "source": [
        "[Go to Contents Menu](#0.)\n",
        "\n",
        "# <a class=\"anchor\" id=\"2.4.\"></a>**'GridSearchHelper' class** "
      ],
      "metadata": {
        "_uuid": "a274f8462d1e6b6a36b53f0ad7e7c7e4770379dd",
        "id": "zctU-GqRVv63"
      }
    },
    {
      "cell_type": "code",
      "source": [
        "import numpy as np\n",
        "from sklearn.tree import DecisionTreeClassifier\n",
        "from sklearn.ensemble import RandomForestClassifier\n",
        "from sklearn.svm import SVC\n",
        "from sklearn.linear_model import LogisticRegression\n",
        "from sklearn.neighbors import KNeighborsClassifier\n",
        "from sklearn.model_selection import GridSearchCV\n",
        "\n",
        "from sklearn.ensemble import VotingClassifier\n",
        "import pandas as pd\n",
        "class GridSearchHelper():\n",
        "    def __init__(self):\n",
        "        print(\"GridSearchHelper Created\")\n",
        "\n",
        "        self.gridSearchCV=None\n",
        "        self.clf_and_params=list()\n",
        "\n",
        "        self._initialize_clf_and_params()\n",
        "\n",
        "    def _initialize_clf_and_params(self):\n",
        "\n",
        "        clf= KNeighborsClassifier()\n",
        "        params={'n_neighbors':[5,7,9,11,13,15],\n",
        "          'leaf_size':[1,2,3,5],\n",
        "          'weights':['uniform', 'distance']\n",
        "          }\n",
        "        self.clf_and_params.append((clf, params))\n",
        "\n",
        "        clf=LogisticRegression()\n",
        "        params={'penalty':['l1', 'l2'],\n",
        "                'C':np.logspace(0, 4, 10)\n",
        "                }\n",
        "        self.clf_and_params.append((clf, params))\n",
        "\n",
        "        clf = SVC()\n",
        "        params = [ {'C': [1, 10, 100, 1000], 'kernel': ['linear']},\n",
        "                   {'C': [1, 10, 100, 1000], 'gamma': [0.001, 0.0001], 'kernel': ['rbf']}]\n",
        "        self.clf_and_params.append((clf, params))\n",
        "\n",
        "        clf=DecisionTreeClassifier()\n",
        "        params={'max_features': ['auto', 'sqrt', 'log2'],\n",
        "          'min_samples_split': [2,3,4,5,6,7,8,9,10,11,12,13,14,15],\n",
        "          'min_samples_leaf':[1],\n",
        "          'random_state':[123]}\n",
        "        #Because of depricating warning for Decision Tree which is not appended.\n",
        "        #But it give high competion accuracy score. You can append when you run the kernel\n",
        "        self.clf_and_params.append((clf,params))\n",
        "\n",
        "        clf = RandomForestClassifier()\n",
        "        params = {'n_estimators': [4, 6, 9],\n",
        "              'max_features': ['log2', 'sqrt','auto'],\n",
        "              'criterion': ['entropy', 'gini'],\n",
        "              'max_depth': [2, 3, 5, 10],\n",
        "              'min_samples_split': [2, 3, 5],\n",
        "              'min_samples_leaf': [1,5,8]\n",
        "             }\n",
        "        #Because of depricating warning for RandomForestClassifier which is not appended.\n",
        "        #But it give high competion accuracy score. You can append when you run the kernel\n",
        "        self.clf_and_params.append((clf, params))\n",
        "\n",
        "    def fit_predict_save(self, X_train, X_test, y_train, submission_id, strategy_type):\n",
        "        self.X_train=X_train\n",
        "        self.X_test=X_test\n",
        "        self.y_train=y_train\n",
        "        self.submission_id=submission_id\n",
        "        self.strategy_type=strategy_type\n",
        "\n",
        "        clf_and_params = self.get_clf_and_params()\n",
        "        models=[]\n",
        "        self.results={}\n",
        "        for clf, params in clf_and_params:\n",
        "            self.current_clf_name = clf.__class__.__name__\n",
        "            grid_search_clf = GridSearchCV(clf, params, cv=5)\n",
        "            grid_search_clf.fit(self.X_train, self.y_train)\n",
        "            self.Y_pred = grid_search_clf.predict(self.X_test)\n",
        "            clf_train_acc = round(grid_search_clf.score(self.X_train, self.y_train) * 100, 2)\n",
        "            print(self.current_clf_name, \" trained and used for prediction on test data...\")\n",
        "            self.results[self.current_clf_name]=clf_train_acc\n",
        "            # for ensemble\n",
        "            models.append(clf)\n",
        "\n",
        "            self.save_result()\n",
        "            print()\n",
        "        \n",
        "        \"\"\"\n",
        "        voting_clf=VotingClassifier(models)\n",
        "        voting_clf.fit(self.X_train, self.y_train)\n",
        "        self.Y_pred=voting_clf.predict(self.X_test)\n",
        "        self.current_clf_name = clf.__class__.__name__\n",
        "        clf_train_acc = round(voting_clf.score(self.X_train, self.y_train) * 100, 2)\n",
        "        print(self.current_clf_name, \" train accuracy:\", clf_train_acc)\n",
        "        self.save_result()\n",
        "        \"\"\"\n",
        "    \n",
        "    def show_result(self):\n",
        "        for clf_name, train_acc in self.results.items():\n",
        "                  print(\"{} train accuracy is {:.3f}\".format(clf_name, train_acc))\n",
        "        \n",
        "    def save_result(self):\n",
        "        Submission = pd.DataFrame({'PassengerId': self.submission_id,\n",
        "                                           'Survived': self.Y_pred})\n",
        "        file_name=\"{}_{}.csv\".format(self.strategy_type,self.current_clf_name.lower())\n",
        "        Submission.to_csv(file_name, index=False)\n",
        "\n",
        "        print(\"Submission saved file name: \",file_name)\n",
        "\n",
        "    def get_clf_and_params(self):\n",
        "\n",
        "        return self.clf_and_params\n",
        "\n",
        "    def add(self,clf, params):\n",
        "        self.clf_and_params.append((clf, params))"
      ],
      "metadata": {
        "_uuid": "2a5a5e4770c8733af469845001325ae088521471",
        "trusted": true,
        "id": "Vv-3jaPkVv63"
      },
      "execution_count": null,
      "outputs": []
    },
    {
      "cell_type": "markdown",
      "source": [
        "[Go to Contents Menu](#0.)\n",
        "\n",
        "# <a class=\"anchor\" id=\"2.e1.\"></a>**Visualizer class** "
      ],
      "metadata": {
        "_uuid": "f2a94c0c73af2142cb568203b1f65166588b0c23",
        "id": "eZrStBnEVv63"
      }
    },
    {
      "cell_type": "code",
      "source": [
        "from yellowbrick.features import RadViz\n",
        "class Visualizer:\n",
        "    \n",
        "    def __init__(self):\n",
        "        print(\"Visualizer object created!\")\n",
        "    \n",
        "    def RandianViz(self, X, y, number_of_features):\n",
        "        if number_of_features is None:\n",
        "            features=X.columns.values\n",
        "        else:\n",
        "            features=X.columns.values[:number_of_features]\n",
        "        \n",
        "        fig, ax=plt.subplots(1, figsize=(15,12))\n",
        "        radViz=RadViz(classes=['survived', 'not survived'], features=features)\n",
        "        \n",
        "        radViz.fit(X, y)\n",
        "        radViz.transform(X)\n",
        "        radViz.poof()\n",
        "        "
      ],
      "metadata": {
        "_uuid": "389e74a5e571a970b6d5e0ecb824b4c7dd8f94e8",
        "trusted": true,
        "id": "HdPcYwyVVv63"
      },
      "execution_count": null,
      "outputs": []
    },
    {
      "cell_type": "markdown",
      "source": [
        "[Go to Contents Menu](#0.)\n",
        "\n",
        "# <a class=\"anchor\" id=\"2.5.\"></a>**'ObjectOrientedTitanic' class**  "
      ],
      "metadata": {
        "_uuid": "769cdf3fc31821ac668f78159ec88401c13e69f6",
        "id": "fesPMfjEVv63"
      }
    },
    {
      "cell_type": "code",
      "source": [
        "class ObjectOrientedTitanic():\n",
        "\n",
        "    def __init__(self, train, test):\n",
        "        \"\"\"\n",
        "\n",
        "        :param train: train data will be used for modelling\n",
        "        :param test:  test data will be used for model evaluation\n",
        "        \"\"\"\n",
        "        print(\"ObjectOrientedTitanic object created\")\n",
        "        #properties\n",
        "        self.testPassengerID=test['PassengerId']\n",
        "        self.number_of_train=train.shape[0]\n",
        "\n",
        "        self.y_train=train['Survived']\n",
        "        self.train=train.drop('Survived', axis=1)\n",
        "        self.test=test\n",
        "\n",
        "        #concat train and test data\n",
        "        self.all_data=self._get_all_data()\n",
        "\n",
        "        #Create instance of objects\n",
        "        self._info=Information()\n",
        "        self.preprocessStrategy = PreprocessStrategy()\n",
        "        self.visualizer=Visualizer()\n",
        "        self.gridSearchHelper = GridSearchHelper()\n",
        "        \n",
        "\n",
        "\n",
        "    def _get_all_data(self):\n",
        "        return pd.concat([self.train, self.test])\n",
        "\n",
        "    def information(self):\n",
        "        \"\"\"\n",
        "        using _info object gives summary about dataset\n",
        "        :return:\n",
        "        \"\"\"\n",
        "        self._info.info(self.all_data)\n",
        "\n",
        "\n",
        "\n",
        "    def preprocessing(self, strategy_type):\n",
        "        \"\"\"\n",
        "        Process data depend upon strategy type\n",
        "        :param strategy_type: Preprocessing strategy type\n",
        "        :return:\n",
        "        \"\"\"\n",
        "        self.strategy_type=strategy_type\n",
        "\n",
        "        self.all_data = self.preprocessStrategy.strategy(self._get_all_data(), strategy_type)\n",
        "\n",
        "    def visualize(self, visualizer_type, number_of_features=None):\n",
        "        \n",
        "        self._get_train_and_test()\n",
        "        \n",
        "        if visualizer_type==\"RadViz\":\n",
        "            self.visualizer.RandianViz(X=self.X_train, \n",
        "                                    y=self.y_train, \n",
        "                                    number_of_features=number_of_features)\n",
        "\n",
        "    def machine_learning(self):\n",
        "        \"\"\"\n",
        "        Get self.X_train, self.X_test and self.y_train\n",
        "        Find best parameters for classifiers registered in gridSearchHelper\n",
        "        :return:\n",
        "        \"\"\"\n",
        "        self._get_train_and_test()\n",
        "\n",
        "        self.gridSearchHelper.fit_predict_save(self.X_train,\n",
        "                                          self.X_test,\n",
        "                                          self.y_train,\n",
        "                                          self.testPassengerID,\n",
        "                                          self.strategy_type)\n",
        "    def show_result(self):\n",
        "        self.gridSearchHelper.show_result()\n",
        "\n",
        "\n",
        "\n",
        "    def _get_train_and_test(self):\n",
        "        \"\"\"\n",
        "        Split data into train and test datasets\n",
        "        :return:\n",
        "        \"\"\"\n",
        "        self.X_train=self.all_data[:self.number_of_train]\n",
        "        self.X_test=self.all_data[self.number_of_train:]\n"
      ],
      "metadata": {
        "_uuid": "d0c406c97629fb806ed20c0b6714013b02166956",
        "trusted": true,
        "id": "XpBRcKKhVv64"
      },
      "execution_count": null,
      "outputs": []
    },
    {
      "cell_type": "markdown",
      "source": [
        "[Go to Contents Menu](#0.)\n",
        "\n",
        "# <a class=\"anchor\" id=\"2.6.\"></a>**'Testing**  "
      ],
      "metadata": {
        "_uuid": "77a4e2255082360b4fb637aae8d6c19d1efdc516",
        "id": "KQuE6_YRVv64"
      }
    },
    {
      "cell_type": "markdown",
      "source": [
        "[Go to Contents Menu](#0.)\n",
        "\n",
        "# <a class=\"anchor\" id=\"2.6.1.\"></a>**Create  ObjectOrientedTitanic object** "
      ],
      "metadata": {
        "_uuid": "ecb0d35684887386174765b288748980a019a76a",
        "id": "5Yn87rQCVv64"
      }
    },
    {
      "cell_type": "code",
      "source": [
        "train_url = 'https://raw.githubusercontent.com/wesm/pydata-book/2nd-edition/datasets/titanic/train.csv'\n",
        "test_url = 'https://raw.githubusercontent.com/wesm/pydata-book/2nd-edition/datasets/titanic/test.csv'\n",
        "\n",
        "train = pd.read_csv(train_url)\n",
        "test = pd.read_csv(test_url)\n",
        "\n",
        "#train = pd.read_csv(\"../input/train.csv\")\n",
        "#test = pd.read_csv(\"../input/test.csv\")\n",
        "\n",
        "objectOrientedTitanic=ObjectOrientedTitanic(train, test)\n"
      ],
      "metadata": {
        "_uuid": "25e28b88b1ca3e1df72f87cd4e0d16c1665b7070",
        "trusted": true,
        "id": "gnNwO64yVv64",
        "outputId": "19deafe3-8b01-4c23-91c1-da1b281929a2"
      },
      "execution_count": null,
      "outputs": [
        {
          "name": "stdout",
          "output_type": "stream",
          "text": [
            "ObjectOrientedTitanic object created\n",
            "Information object created\n",
            "Preprocess object created\n",
            "Visualizer object created!\n",
            "GridSearchHelper Created\n"
          ]
        }
      ]
    },
    {
      "cell_type": "markdown",
      "source": [
        "[Go to Contents Menu](#0.)\n",
        "\n",
        "# <a class=\"anchor\" id=\"2.6.2.\"></a>**Display  Information in 'R Style'**   "
      ],
      "metadata": {
        "_uuid": "573fab3634bc01e613bb823e6aa9236e1c49d95b",
        "id": "Dn2wNtwvVv64"
      }
    },
    {
      "cell_type": "code",
      "source": [
        "objectOrientedTitanic.information()"
      ],
      "metadata": {
        "_uuid": "0a9799ec354f6c8db653eadae564a8e3a008e39c",
        "trusted": true,
        "id": "b7YLWf-DVv64",
        "outputId": "3c3aeecf-2950-46b2-b94f-9ba4b01f44be"
      },
      "execution_count": null,
      "outputs": [
        {
          "name": "stdout",
          "output_type": "stream",
          "text": [
            "==================================================\n",
            "FEATURE NAME     DATA FORMAT      # OF MISSING VALUES       SAMPLES         \n",
            "Cabin              object              1014                nan,C85,nan,C123,nan,nan,E46,nan,nan,nan,\n",
            "Age                float64             263                 22.0,38.0,26.0,35.0,35.0,nan,54.0,2.0,27.0,14.0,\n",
            "Embarked           object              2                   S,C,S,S,S,Q,S,S,S,C,\n",
            "Fare               float64             1                   7.25,71.2833,7.925,53.1,8.05,8.4583,51.8625,21.075,11.1333,30.0708,\n",
            "PassengerId        int64               0                   1,2,3,4,5,6,7,8,9,10,\n",
            "Pclass             int64               0                   3,1,3,1,3,3,1,3,3,2,\n",
            "Name               object              0                   Braund, Mr. Owen Harris,Cumings, Mrs. John Bradley (Florence Briggs Thayer),Heikkinen, Miss. Laina,Futrelle, Mrs. Jacques Heath (Lily May Peel),Allen, Mr. William Henry,Moran, Mr. James,McCarthy, Mr. Timothy J,Palsson, Master. Gosta Leonard,Johnson, Mrs. Oscar W (Elisabeth Vilhelmina Berg),Nasser, Mrs. Nicholas (Adele Achem),\n",
            "Sex                object              0                   male,female,female,female,male,male,male,male,female,female,\n",
            "SibSp              int64               0                   1,1,0,1,0,0,0,3,0,1,\n",
            "Parch              int64               0                   0,0,0,0,0,0,0,1,2,0,\n",
            "Ticket             object              0                   A/5 21171,PC 17599,STON/O2. 3101282,113803,373450,330877,17463,349909,347742,237736,\n",
            "==================================================\n"
          ]
        }
      ]
    },
    {
      "cell_type": "markdown",
      "source": [
        "[Go to Contents Menu](#0.)\n",
        "\n",
        "# <a class=\"anchor\" id=\"2.6.3.\"></a>**Define preprocess strategy**"
      ],
      "metadata": {
        "_uuid": "21e73a0a3b3215e56cf04cff6782354f8ad0064f",
        "id": "gAY8fFbUVv64"
      }
    },
    {
      "cell_type": "code",
      "source": [
        "#There are currently two strategy type: strategy1, strategy2.\n",
        "#We can select any of two\n",
        "objectOrientedTitanic.preprocessing(strategy_type='strategy1')"
      ],
      "metadata": {
        "_uuid": "5335527804e34e215361e78ad55a43a5f6520abc",
        "trusted": true,
        "id": "IK8wCQqiVv64"
      },
      "execution_count": null,
      "outputs": []
    },
    {
      "cell_type": "code",
      "source": [
        "objectOrientedTitanic.information()"
      ],
      "metadata": {
        "_uuid": "1fa879d8b2f17f1e93cd4f0aa20d6c94ece2392c",
        "trusted": true,
        "id": "VGULj38cVv64",
        "outputId": "a22d159c-b781-4b2d-854e-801761f83e0d"
      },
      "execution_count": null,
      "outputs": [
        {
          "name": "stdout",
          "output_type": "stream",
          "text": [
            "==================================================\n",
            "FEATURE NAME     DATA FORMAT      # OF MISSING VALUES       SAMPLES         \n",
            "Pclass_1           uint8               0                   0,1,0,1,0,0,1,0,0,0,\n",
            "Embarked_1         uint8               0                   0,0,0,0,0,1,0,0,0,0,\n",
            "FareBin            int64               0                   0,3,1,3,1,1,3,2,1,2,\n",
            "FamilySize         int64               0                   2,2,1,2,1,1,1,5,3,2,\n",
            "SibSp              int64               0                   1,1,0,1,0,0,0,3,0,1,\n",
            "IsAlone_1          uint8               0                   0,0,1,0,1,1,1,0,0,0,\n",
            "IsAlone_0          uint8               0                   1,1,0,1,0,0,0,1,1,1,\n",
            "Title_4            uint8               0                   0,1,0,1,0,0,0,0,1,1,\n",
            "Title_3            uint8               0                   1,0,0,0,1,1,1,0,0,0,\n",
            "Title_2            uint8               0                   0,0,1,0,0,0,0,0,0,0,\n",
            "Title_1            uint8               0                   0,0,0,0,0,0,0,0,0,0,\n",
            "Title_0            uint8               0                   0,0,0,0,0,0,0,1,0,0,\n",
            "Embarked_2         uint8               0                   1,0,1,1,1,0,1,1,1,0,\n",
            "Embarked_0         uint8               0                   0,1,0,0,0,0,0,0,0,1,\n",
            "Pclass_2           uint8               0                   0,0,0,0,0,0,0,0,0,1,\n",
            "Parch_9            uint8               0                   0,0,0,0,0,0,0,0,0,0,\n",
            "Parch_6            uint8               0                   0,0,0,0,0,0,0,0,0,0,\n",
            "Parch_5            uint8               0                   0,0,0,0,0,0,0,0,0,0,\n",
            "Parch_4            uint8               0                   0,0,0,0,0,0,0,0,0,0,\n",
            "Parch_3            uint8               0                   0,0,0,0,0,0,0,0,0,0,\n",
            "Parch_2            uint8               0                   0,0,0,0,0,0,0,0,1,0,\n",
            "Parch_1            uint8               0                   0,0,0,0,0,0,0,1,0,0,\n",
            "Parch_0            uint8               0                   1,1,1,1,1,1,1,0,0,1,\n",
            "Sex_1              uint8               0                   1,0,0,0,1,1,1,1,0,0,\n",
            "Sex_0              uint8               0                   0,1,1,1,0,0,0,0,1,1,\n",
            "Pclass_3           uint8               0                   1,0,1,0,1,1,0,1,1,0,\n",
            "AgeBin             int64               0                   1,2,1,2,2,1,3,0,1,0,\n",
            "==================================================\n"
          ]
        }
      ]
    },
    {
      "cell_type": "markdown",
      "source": [
        "[Go to Contents Menu](#0.)\n",
        "\n",
        "# <a class=\"anchor\" id=\"2.6.4.\"></a>**Visualize**  "
      ],
      "metadata": {
        "_uuid": "ac7be59ee821186104671ca3fd9dae855951626f",
        "id": "MrZg8a-rVv64"
      }
    },
    {
      "cell_type": "code",
      "source": [
        "#Radian Viz figure\n",
        "#objectOrientedTitanic.visualize(visualizer_type=\"RadViz\", number_of_features=None)"
      ],
      "metadata": {
        "_uuid": "4df412e57b2ad67444bfcd86ff23c39a2f70cad9",
        "trusted": true,
        "id": "eCj5qM-fVv64"
      },
      "execution_count": null,
      "outputs": []
    },
    {
      "cell_type": "markdown",
      "source": [
        "[Go to Contents Menu](#0.)\n",
        "\n",
        "# <a class=\"anchor\" id=\"2.6.5.\"></a>**Get GridSearchCV Results** "
      ],
      "metadata": {
        "_uuid": "f00bc2421e19cb9d895611cf5433655a00539af7",
        "id": "xV_HbVkKVv64"
      }
    },
    {
      "cell_type": "code",
      "source": [
        "#Run all machine learning algorithms defined in object\n",
        "objectOrientedTitanic.machine_learning()"
      ],
      "metadata": {
        "_uuid": "9b507af970c29e472766e29e166df0630eaa235f",
        "_kg_hide-output": true,
        "trusted": true,
        "id": "WVWjGmEnVv64",
        "outputId": "66a6062c-12e9-48ed-a2a7-2d35a1741eb8"
      },
      "execution_count": null,
      "outputs": [
        {
          "name": "stdout",
          "output_type": "stream",
          "text": [
            "KNeighborsClassifier  trained and used for prediction on test data...\n",
            "Submission saved file name:  strategy1_kneighborsclassifier.csv\n",
            "\n",
            "LogisticRegression  trained and used for prediction on test data...\n",
            "Submission saved file name:  strategy1_logisticregression.csv\n",
            "\n",
            "SVC  trained and used for prediction on test data...\n",
            "Submission saved file name:  strategy1_svc.csv\n",
            "\n",
            "DecisionTreeClassifier  trained and used for prediction on test data...\n",
            "Submission saved file name:  strategy1_decisiontreeclassifier.csv\n",
            "\n",
            "RandomForestClassifier  trained and used for prediction on test data...\n",
            "Submission saved file name:  strategy1_randomforestclassifier.csv\n",
            "\n"
          ]
        }
      ]
    },
    {
      "cell_type": "code",
      "source": [
        "objectOrientedTitanic.show_result()"
      ],
      "metadata": {
        "trusted": true,
        "id": "7dmX8yMUVv64",
        "outputId": "a0d9af26-1a4d-4568-a1fc-7ef24e561f96"
      },
      "execution_count": null,
      "outputs": [
        {
          "name": "stdout",
          "output_type": "stream",
          "text": [
            "KNeighborsClassifier train accuracy is 85.410\n",
            "LogisticRegression train accuracy is 82.940\n",
            "SVC train accuracy is 83.160\n",
            "DecisionTreeClassifier train accuracy is 85.520\n",
            "RandomForestClassifier train accuracy is 84.290\n"
          ]
        }
      ]
    },
    {
      "cell_type": "code",
      "execution_count": null,
      "outputs": [],
      "source": [],
      "metadata": {
        "id": "pnM3U2dBVv64"
      }
    }
  ]
}