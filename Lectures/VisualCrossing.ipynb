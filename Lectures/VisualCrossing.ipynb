{
  "cells": [
    {
      "cell_type": "markdown",
      "metadata": {
        "id": "view-in-github",
        "colab_type": "text"
      },
      "source": [
        "<a href=\"https://colab.research.google.com/github/usm-cos422-522/courseMaterials/blob/main/Lectures/VisualCrossing.ipynb\" target=\"_parent\"><img src=\"https://colab.research.google.com/assets/colab-badge.svg\" alt=\"Open In Colab\"/></a>"
      ]
    },
    {
      "cell_type": "code",
      "execution_count": null,
      "metadata": {
        "id": "NZ5YXRe986e5"
      },
      "outputs": [],
      "source": [
        "#Downloading weather data using Python as a CSV using the Visual Crossing Weather API\n",
        "#See https://www.visualcrossing.com/resources/blog/how-to-load-historical-weather-data-using-python-without-scraping/ for more information.\n"
      ]
    },
    {
      "cell_type": "code",
      "execution_count": 1,
      "metadata": {
        "id": "m2sPh_yi86e7"
      },
      "outputs": [],
      "source": [
        "import csv\n",
        "import codecs\n",
        "import urllib.request\n",
        "import urllib.parse\n",
        "import sys\n",
        "\n",
        "# This is the core of our weather query URL\n",
        "BaseURL = 'https://weather.visualcrossing.com/VisualCrossingWebServices/rest/services/weatherdata/'\n"
      ]
    },
    {
      "cell_type": "code",
      "execution_count": 5,
      "metadata": {
        "id": "NrUHLD6F86e7"
      },
      "outputs": [],
      "source": [
        "# Set up the location parameter for our query\n",
        "#QueryLocation = '&location=' + urllib.parse.quote(sys.argv[1])\n",
        "QueryLocation = '&location=' + urllib.parse.quote(\"portland maine\")\n",
        "# Set up the query type parameter for our query ('FORECAST' or 'HISTORY')\n",
        "#QueryType=sys.argv[2].upper()\n",
        "QueryType='HISTORY'\n",
        "# Set up the key parameter for our query\n",
        "#QueryKey = '&key=' + sys.argv[3]\n",
        "QueryKey = '&key=' + 'ZCC65469YS5FMWYVG2L9AH644'\n",
        "# Set up the date parameters for our query. Used only for historical weather data requests\n",
        "#if len(sys.argv) >4:\n",
        "FromDateParam = '2022-09-01'\n",
        "ToDateParam = '2022-09-05'\n",
        "\n"
      ]
    },
    {
      "cell_type": "code",
      "execution_count": 6,
      "metadata": {
        "colab": {
          "base_uri": "https://localhost:8080/",
          "height": 35
        },
        "id": "cZLJ_OS986e7",
        "outputId": "74ec689b-07e5-446a-df2e-aee87ef1de83"
      },
      "outputs": [
        {
          "output_type": "execute_result",
          "data": {
            "text/plain": [
              "'&location=portland%20maine'"
            ],
            "application/vnd.google.colaboratory.intrinsic+json": {
              "type": "string"
            }
          },
          "metadata": {},
          "execution_count": 6
        }
      ],
      "source": [
        "QueryLocation"
      ]
    },
    {
      "cell_type": "code",
      "execution_count": 7,
      "metadata": {
        "colab": {
          "base_uri": "https://localhost:8080/"
        },
        "id": "BrmR2PQp86e8",
        "outputId": "56779a71-54a6-4d89-e5ca-831f3b207b82"
      },
      "outputs": [
        {
          "output_type": "stream",
          "name": "stdout",
          "text": [
            " - Fetching history for date:  2022-09-01 - 2022-09-05\n",
            " - Running query URL:  https://weather.visualcrossing.com/VisualCrossingWebServices/rest/services/weatherdata/history?&aggregateHours=24&unitGroup=us&dayStartTime=0:0:00&dayEndTime=0:0:00&startDateTime=2022-09-01T00:00:00&endDateTime=2022-09-05T00:00:00&location=portland%20maine&key=ZCC65469YS5FMWYVG2L9AH644\n",
            "\n",
            "Weather in  portland maine  on  09/01/2022\n",
            "    Temperature  =  65.0\n",
            "    Dew Point  =  49.7\n",
            "    Relative Humidity  =  59.06\n",
            "    Heat Index  =  \n",
            "    Wind Speed  =  17.2\n",
            "    Wind Gust  =  24.2\n",
            "    Wind Direction  =  275.13\n",
            "    Wind Chill  =  \n",
            "    Precipitation  =  0.0\n",
            "    Precipitation Cover  =  0.0\n",
            "    Snow Depth  =  \n",
            "    Visibility  =  9.9\n",
            "    Cloud Cover  =  40.0\n",
            "    Sea Level Pressure  =  1010.8\n",
            "    Weather Type  =  \n",
            "    Latitude  =  43.6591\n",
            "    Longitude  =  -70.2567\n",
            "    Resolved Address  =  Portland, ME, United States\n",
            "    Name  =  Portland, ME, United States\n",
            "    Info  =  \n",
            "    Conditions  =  Partially cloudy\n",
            "Weather in  portland maine  on  09/02/2022\n",
            "    Temperature  =  59.1\n",
            "    Dew Point  =  45.7\n",
            "    Relative Humidity  =  63.55\n",
            "    Heat Index  =  \n",
            "    Wind Speed  =  11.3\n",
            "    Wind Gust  =  \n",
            "    Wind Direction  =  202.79\n",
            "    Wind Chill  =  47.0\n",
            "    Precipitation  =  0.0\n",
            "    Precipitation Cover  =  0.0\n",
            "    Snow Depth  =  \n",
            "    Visibility  =  9.9\n",
            "    Cloud Cover  =  2.3\n",
            "    Sea Level Pressure  =  1024.0\n",
            "    Weather Type  =  \n",
            "    Latitude  =  43.6591\n",
            "    Longitude  =  -70.2567\n",
            "    Resolved Address  =  Portland, ME, United States\n",
            "    Name  =  Portland, ME, United States\n",
            "    Info  =  \n",
            "    Conditions  =  Clear\n",
            "Weather in  portland maine  on  09/03/2022\n",
            "    Temperature  =  61.3\n",
            "    Dew Point  =  54.3\n",
            "    Relative Humidity  =  78.65\n",
            "    Heat Index  =  \n",
            "    Wind Speed  =  13.8\n",
            "    Wind Gust  =  \n",
            "    Wind Direction  =  126.42\n",
            "    Wind Chill  =  \n",
            "    Precipitation  =  0.0\n",
            "    Precipitation Cover  =  0.0\n",
            "    Snow Depth  =  \n",
            "    Visibility  =  9.9\n",
            "    Cloud Cover  =  18.4\n",
            "    Sea Level Pressure  =  1024.8\n",
            "    Weather Type  =  \n",
            "    Latitude  =  43.6591\n",
            "    Longitude  =  -70.2567\n",
            "    Resolved Address  =  Portland, ME, United States\n",
            "    Name  =  Portland, ME, United States\n",
            "    Info  =  \n",
            "    Conditions  =  Clear\n",
            "Weather in  portland maine  on  09/04/2022\n",
            "    Temperature  =  66.2\n",
            "    Dew Point  =  59.8\n",
            "    Relative Humidity  =  81.54\n",
            "    Heat Index  =  \n",
            "    Wind Speed  =  9.1\n",
            "    Wind Gust  =  19.7\n",
            "    Wind Direction  =  100.71\n",
            "    Wind Chill  =  \n",
            "    Precipitation  =  0.0\n",
            "    Precipitation Cover  =  4.17\n",
            "    Snow Depth  =  \n",
            "    Visibility  =  9.9\n",
            "    Cloud Cover  =  40.3\n",
            "    Sea Level Pressure  =  1019.8\n",
            "    Weather Type  =  \n",
            "    Latitude  =  43.6591\n",
            "    Longitude  =  -70.2567\n",
            "    Resolved Address  =  Portland, ME, United States\n",
            "    Name  =  Portland, ME, United States\n",
            "    Info  =  \n",
            "    Conditions  =  Partially cloudy\n",
            "Weather in  portland maine  on  09/05/2022\n",
            "    Temperature  =  60.7\n",
            "    Dew Point  =  58.7\n",
            "    Relative Humidity  =  93.39\n",
            "    Heat Index  =  \n",
            "    Wind Speed  =  12.7\n",
            "    Wind Gust  =  \n",
            "    Wind Direction  =  68.83\n",
            "    Wind Chill  =  \n",
            "    Precipitation  =  0.46\n",
            "    Precipitation Cover  =  91.67\n",
            "    Snow Depth  =  \n",
            "    Visibility  =  8.5\n",
            "    Cloud Cover  =  99.5\n",
            "    Sea Level Pressure  =  1022.5\n",
            "    Weather Type  =  \n",
            "    Latitude  =  43.6591\n",
            "    Longitude  =  -70.2567\n",
            "    Resolved Address  =  Portland, ME, United States\n",
            "    Name  =  Portland, ME, United States\n",
            "    Info  =  \n",
            "    Conditions  =  Rain, Overcast\n",
            "\n"
          ]
        }
      ],
      "source": [
        "\n",
        "# Set up the specific parameters based on the type of query\n",
        "if QueryType == 'FORECAST':\n",
        "    print(' - Fetching forecast data')\n",
        "    QueryTypeParams = 'forecast?&aggregateHours=24&unitGroup=us&shortColumnNames=false'\n",
        "else:\n",
        "    print(' - Fetching history for date: ', FromDateParam,'-',ToDateParam)\n",
        "\n",
        "    # History requests require a date.  We use the same date for start and end since we only want to query a single date in this example\n",
        "    QueryDate = '&startDateTime=' + FromDateParam + 'T00:00:00&endDateTime=' +ToDateParam + 'T00:00:00'\n",
        "    QueryTypeParams = 'history?&aggregateHours=24&unitGroup=us&dayStartTime=0:0:00&dayEndTime=0:0:00' + QueryDate\n",
        "\n",
        "\n",
        "# Build the entire query\n",
        "URL = BaseURL + QueryTypeParams + QueryLocation + QueryKey\n",
        "\n",
        "print(' - Running query URL: ', URL)\n",
        "print()\n",
        "\n",
        "# Parse the results as CSV\n",
        "CSVBytes = urllib.request.urlopen(URL)\n",
        "CSVText = csv.reader(codecs.iterdecode(CSVBytes, 'utf-8'))\n",
        "\n",
        "RowIndex = 0\n",
        "\n",
        "# The first row contain the headers and the additional rows each contain the weather metrics for a single day\n",
        "# To simply our code, we use the knowledge that column 0 contains the location and column 1 contains the date.  The data starts at column 4\n",
        "for Row in CSVText:\n",
        "    if RowIndex == 0:\n",
        "        FirstRow = Row\n",
        "    else:\n",
        "        print('Weather in ', Row[0], ' on ', Row[1])\n",
        "\n",
        "        ColIndex = 0\n",
        "        for Col in Row:\n",
        "            if ColIndex >= 4:\n",
        "                print('   ', FirstRow[ColIndex], ' = ', Row[ColIndex])\n",
        "            ColIndex += 1\n",
        "    RowIndex += 1\n",
        "\n",
        "# If there are no CSV rows then something fundamental went wrong\n",
        "if RowIndex == 0:\n",
        "    print('Sorry, but it appears that there was an error connecting to the weather server.')\n",
        "    print('Please check your network connection and try again..')\n",
        "\n",
        "# If there is only one CSV  row then we likely got an error from the server\n",
        "if RowIndex == 1:\n",
        "    print('Sorry, but it appears that there was an error retrieving the weather data.')\n",
        "    print('Error: ', FirstRow)\n",
        "\n",
        "print()"
      ]
    },
    {
      "cell_type": "code",
      "execution_count": null,
      "metadata": {
        "id": "oFaqGEcq86e9"
      },
      "outputs": [],
      "source": []
    }
  ],
  "metadata": {
    "kernelspec": {
      "display_name": "Python 3",
      "language": "python",
      "name": "python3"
    },
    "language_info": {
      "codemirror_mode": {
        "name": "ipython",
        "version": 3
      },
      "file_extension": ".py",
      "mimetype": "text/x-python",
      "name": "python",
      "nbconvert_exporter": "python",
      "pygments_lexer": "ipython3",
      "version": "3.8.3"
    },
    "colab": {
      "provenance": [],
      "include_colab_link": true
    }
  },
  "nbformat": 4,
  "nbformat_minor": 0
}