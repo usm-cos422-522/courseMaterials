{
 "cells": [
  {
   "cell_type": "markdown",
   "metadata": {
    "id": "view-in-github",
    "colab_type": "text"
   },
   "source": [
    "<a href=\"https://colab.research.google.com/github/usm-cos422-522/courseMaterials/blob/main/Lectures/Babynames.ipynb\" target=\"_parent\"><img src=\"https://colab.research.google.com/assets/colab-badge.svg\" alt=\"Open In Colab\"/></a>"
   ]
  },
  {
   "cell_type": "code",
   "execution_count": null,
   "metadata": {
    "id": "8oiCuTs1ebwi"
   },
   "outputs": [],
   "source": [
    "import pandas as pd\n",
    "import numpy as np\n",
    "import matplotlib.pyplot as pp\n",
    "%matplotlib inline"
   ]
  },
  {
   "cell_type": "code",
   "execution_count": null,
   "metadata": {
    "id": "RHkrIbxJebwj",
    "outputId": "65642070-0049-4149-92fe-0921bdf8d4e7"
   },
   "outputs": [
    {
     "data": {
      "text/plain": "       State Gender  Year     Name  Count\n17585     ME      F  1981    Susan     18\n12927     MA      F  1943     Jean    437\n12099     VT      F  1995    Megan     32\n16696     NH      F  2000  Rebecca     48\n74990     MA      M  1922   Calvin     16\n34287     NH      M  1995     Alex     29\n114576    MA      M  2011   Austin    120\n7379      NH      F  1958    Sandy      6\n94285     MA      M  1976     Jeff     12\n38901     ME      M  1963    James    379",
      "text/html": "<div>\n<style scoped>\n    .dataframe tbody tr th:only-of-type {\n        vertical-align: middle;\n    }\n\n    .dataframe tbody tr th {\n        vertical-align: top;\n    }\n\n    .dataframe thead th {\n        text-align: right;\n    }\n</style>\n<table border=\"1\" class=\"dataframe\">\n  <thead>\n    <tr style=\"text-align: right;\">\n      <th></th>\n      <th>State</th>\n      <th>Gender</th>\n      <th>Year</th>\n      <th>Name</th>\n      <th>Count</th>\n    </tr>\n  </thead>\n  <tbody>\n    <tr>\n      <th>17585</th>\n      <td>ME</td>\n      <td>F</td>\n      <td>1981</td>\n      <td>Susan</td>\n      <td>18</td>\n    </tr>\n    <tr>\n      <th>12927</th>\n      <td>MA</td>\n      <td>F</td>\n      <td>1943</td>\n      <td>Jean</td>\n      <td>437</td>\n    </tr>\n    <tr>\n      <th>12099</th>\n      <td>VT</td>\n      <td>F</td>\n      <td>1995</td>\n      <td>Megan</td>\n      <td>32</td>\n    </tr>\n    <tr>\n      <th>16696</th>\n      <td>NH</td>\n      <td>F</td>\n      <td>2000</td>\n      <td>Rebecca</td>\n      <td>48</td>\n    </tr>\n    <tr>\n      <th>74990</th>\n      <td>MA</td>\n      <td>M</td>\n      <td>1922</td>\n      <td>Calvin</td>\n      <td>16</td>\n    </tr>\n    <tr>\n      <th>34287</th>\n      <td>NH</td>\n      <td>M</td>\n      <td>1995</td>\n      <td>Alex</td>\n      <td>29</td>\n    </tr>\n    <tr>\n      <th>114576</th>\n      <td>MA</td>\n      <td>M</td>\n      <td>2011</td>\n      <td>Austin</td>\n      <td>120</td>\n    </tr>\n    <tr>\n      <th>7379</th>\n      <td>NH</td>\n      <td>F</td>\n      <td>1958</td>\n      <td>Sandy</td>\n      <td>6</td>\n    </tr>\n    <tr>\n      <th>94285</th>\n      <td>MA</td>\n      <td>M</td>\n      <td>1976</td>\n      <td>Jeff</td>\n      <td>12</td>\n    </tr>\n    <tr>\n      <th>38901</th>\n      <td>ME</td>\n      <td>M</td>\n      <td>1963</td>\n      <td>James</td>\n      <td>379</td>\n    </tr>\n  </tbody>\n</table>\n</div>"
     },
     "execution_count": 27,
     "metadata": {},
     "output_type": "execute_result"
    }
   ],
   "source": [
    "import urllib.request\n",
    "import os.path\n",
    "import zipfile\n",
    "\n",
    "data_url = \"https://www.ssa.gov/oact/babynames/state/namesbystate.zip\"\n",
    "local_filename = \"babynamesbystate.zip\"\n",
    "if not os.path.exists(local_filename): # if the data exists don't download again\n",
    "    with urllib.request.urlopen(data_url) as resp, open(local_filename, 'wb') as f:\n",
    "        f.write(resp.read())\n",
    "\n",
    "zf = zipfile.ZipFile(local_filename, 'r')\n",
    "\n",
    "st_name = ['NH.TXT', 'MA.TXT',  'ME.TXT', 'VT.TXT']\n",
    "field_names = ['State', 'Gender', 'Year', 'Name', 'Count']\n",
    "babynames = pd.DataFrame()\n",
    "\n",
    "for st in st_name:\n",
    "    with zf.open(st) as fh:\n",
    "        st_babynames = pd.read_csv(fh, header=None, names=field_names)\n",
    "        babynames = pd.concat([babynames, st_babynames])\n",
    "\n",
    "babynames.sample(10)"
   ]
  },
  {
   "cell_type": "code",
   "execution_count": null,
   "outputs": [
    {
     "data": {
      "text/plain": "Int64Index([    0,     1,     2,     3,     4,     5,     6,     7,     8,\n                9,\n            ...\n            29473, 29474, 29475, 29476, 29477, 29478, 29479, 29480, 29481,\n            29482],\n           dtype='int64', length=245450)"
     },
     "execution_count": 28,
     "metadata": {},
     "output_type": "execute_result"
    }
   ],
   "source": [
    "babynames.index"
   ],
   "metadata": {
    "id": "RzvJ85iqebwk",
    "outputId": "d5709ca7-9e59-405c-b41f-79f83304e753"
   }
  },
  {
   "cell_type": "code",
   "execution_count": 65,
   "outputs": [
    {
     "data": {
      "text/plain": "John       518\nRobert     510\nWilliam    500\nJames      498\nJoseph     483\n          ... \nCoen         1\nShannah      1\nJerrod       1\nIleana       1\nHeide        1\nName: Name, Length: 5705, dtype: int64"
     },
     "execution_count": 65,
     "metadata": {},
     "output_type": "execute_result"
    }
   ],
   "source": [
    "# How many years did the name appear in a state ?\n",
    "babynames['Name'].value_counts()"
   ],
   "metadata": {
    "collapsed": false
   }
  },
  {
   "cell_type": "code",
   "execution_count": null,
   "outputs": [
    {
     "data": {
      "text/plain": "  State Gender  Year     Name  Count\n1    NH      F  1910  Dorothy     39\n2    NH      F  1910    Alice     35\n3    NH      F  1910    Helen     30\n4    NH      F  1910  Lillian     29",
      "text/html": "<div>\n<style scoped>\n    .dataframe tbody tr th:only-of-type {\n        vertical-align: middle;\n    }\n\n    .dataframe tbody tr th {\n        vertical-align: top;\n    }\n\n    .dataframe thead th {\n        text-align: right;\n    }\n</style>\n<table border=\"1\" class=\"dataframe\">\n  <thead>\n    <tr style=\"text-align: right;\">\n      <th></th>\n      <th>State</th>\n      <th>Gender</th>\n      <th>Year</th>\n      <th>Name</th>\n      <th>Count</th>\n    </tr>\n  </thead>\n  <tbody>\n    <tr>\n      <th>1</th>\n      <td>NH</td>\n      <td>F</td>\n      <td>1910</td>\n      <td>Dorothy</td>\n      <td>39</td>\n    </tr>\n    <tr>\n      <th>2</th>\n      <td>NH</td>\n      <td>F</td>\n      <td>1910</td>\n      <td>Alice</td>\n      <td>35</td>\n    </tr>\n    <tr>\n      <th>3</th>\n      <td>NH</td>\n      <td>F</td>\n      <td>1910</td>\n      <td>Helen</td>\n      <td>30</td>\n    </tr>\n    <tr>\n      <th>4</th>\n      <td>NH</td>\n      <td>F</td>\n      <td>1910</td>\n      <td>Lillian</td>\n      <td>29</td>\n    </tr>\n  </tbody>\n</table>\n</div>"
     },
     "execution_count": 29,
     "metadata": {},
     "output_type": "execute_result"
    }
   ],
   "source": [
    "babynames.iloc[1:5]     # or babynames[1:5]"
   ],
   "metadata": {
    "id": "Elv8HM1tebwk",
    "outputId": "744b610b-7294-445d-f957-5f8ecadb8a41"
   }
  },
  {
   "cell_type": "code",
   "execution_count": null,
   "metadata": {
    "id": "A9_gIHl6ebwk",
    "outputId": "be1545b9-7515-415f-eeb5-c16284c6ec08"
   },
   "outputs": [
    {
     "data": {
      "text/plain": "                  Gender  Count\nName   State Year              \nAaden  MA    2008      M     10\n             2009      M     25\n             2012      M      5\n       ME    2009      M      5\nAadhya MA    2013      F      8\n...                  ...    ...\nZyaire MA    2021      M     13\nZyla   MA    2021      F      5\nZylah  MA    2020      F      5\nZyon   MA    2013      M      6\n             2021      M      8\n\n[245450 rows x 2 columns]",
      "text/html": "<div>\n<style scoped>\n    .dataframe tbody tr th:only-of-type {\n        vertical-align: middle;\n    }\n\n    .dataframe tbody tr th {\n        vertical-align: top;\n    }\n\n    .dataframe thead th {\n        text-align: right;\n    }\n</style>\n<table border=\"1\" class=\"dataframe\">\n  <thead>\n    <tr style=\"text-align: right;\">\n      <th></th>\n      <th></th>\n      <th></th>\n      <th>Gender</th>\n      <th>Count</th>\n    </tr>\n    <tr>\n      <th>Name</th>\n      <th>State</th>\n      <th>Year</th>\n      <th></th>\n      <th></th>\n    </tr>\n  </thead>\n  <tbody>\n    <tr>\n      <th rowspan=\"4\" valign=\"top\">Aaden</th>\n      <th rowspan=\"3\" valign=\"top\">MA</th>\n      <th>2008</th>\n      <td>M</td>\n      <td>10</td>\n    </tr>\n    <tr>\n      <th>2009</th>\n      <td>M</td>\n      <td>25</td>\n    </tr>\n    <tr>\n      <th>2012</th>\n      <td>M</td>\n      <td>5</td>\n    </tr>\n    <tr>\n      <th>ME</th>\n      <th>2009</th>\n      <td>M</td>\n      <td>5</td>\n    </tr>\n    <tr>\n      <th>Aadhya</th>\n      <th>MA</th>\n      <th>2013</th>\n      <td>F</td>\n      <td>8</td>\n    </tr>\n    <tr>\n      <th>...</th>\n      <th>...</th>\n      <th>...</th>\n      <td>...</td>\n      <td>...</td>\n    </tr>\n    <tr>\n      <th>Zyaire</th>\n      <th>MA</th>\n      <th>2021</th>\n      <td>M</td>\n      <td>13</td>\n    </tr>\n    <tr>\n      <th>Zyla</th>\n      <th>MA</th>\n      <th>2021</th>\n      <td>F</td>\n      <td>5</td>\n    </tr>\n    <tr>\n      <th>Zylah</th>\n      <th>MA</th>\n      <th>2020</th>\n      <td>F</td>\n      <td>5</td>\n    </tr>\n    <tr>\n      <th rowspan=\"2\" valign=\"top\">Zyon</th>\n      <th rowspan=\"2\" valign=\"top\">MA</th>\n      <th>2013</th>\n      <td>M</td>\n      <td>6</td>\n    </tr>\n    <tr>\n      <th>2021</th>\n      <td>M</td>\n      <td>8</td>\n    </tr>\n  </tbody>\n</table>\n<p>245450 rows × 2 columns</p>\n</div>"
     },
     "execution_count": 30,
     "metadata": {},
     "output_type": "execute_result"
    }
   ],
   "source": [
    "babynames_index = babynames.set_index(['Name','State','Year']).sort_index()\n",
    "babynames_index"
   ]
  },
  {
   "cell_type": "code",
   "execution_count": null,
   "metadata": {
    "id": "-ACr2gDDebwl",
    "outputId": "74820379-f851-4e6a-c953-71ce39a7862a"
   },
   "outputs": [
    {
     "data": {
      "text/plain": "MultiIndex([( 'Aaden', 'MA', 2008),\n            ( 'Aaden', 'MA', 2009),\n            ( 'Aaden', 'MA', 2012),\n            ( 'Aaden', 'ME', 2009),\n            ('Aadhya', 'MA', 2013),\n            ('Aadhya', 'MA', 2014),\n            ('Aadhya', 'MA', 2015),\n            ('Aadhya', 'MA', 2016),\n            ('Aadhya', 'MA', 2018),\n            ('Aadhya', 'MA', 2019),\n            ...\n            ( 'Zyair', 'MA', 2021),\n            ('Zyaire', 'MA', 2016),\n            ('Zyaire', 'MA', 2018),\n            ('Zyaire', 'MA', 2019),\n            ('Zyaire', 'MA', 2020),\n            ('Zyaire', 'MA', 2021),\n            (  'Zyla', 'MA', 2021),\n            ( 'Zylah', 'MA', 2020),\n            (  'Zyon', 'MA', 2013),\n            (  'Zyon', 'MA', 2021)],\n           names=['Name', 'State', 'Year'], length=245450)"
     },
     "execution_count": 31,
     "metadata": {},
     "output_type": "execute_result"
    }
   ],
   "source": [
    "babynames_index.index"
   ]
  },
  {
   "cell_type": "code",
   "execution_count": null,
   "metadata": {
    "id": "d8nQoK0Pebwl",
    "outputId": "1a8760e4-329f-4298-e3df-ea1014b42f69"
   },
   "outputs": [
    {
     "data": {
      "text/plain": "Index(['Gender', 'Count'], dtype='object')"
     },
     "execution_count": 32,
     "metadata": {},
     "output_type": "execute_result"
    }
   ],
   "source": [
    "babynames_index.columns"
   ]
  },
  {
   "cell_type": "code",
   "execution_count": null,
   "metadata": {
    "id": "hoMPEVrBebwl",
    "outputId": "32fdf164-be1b-46cc-bf1e-173b52cbdc13"
   },
   "outputs": [
    {
     "data": {
      "text/plain": "      Count\nYear       \n1917      5\n1918      6\n1923      5\n1924     12\n1925      8\n...     ...\n1991     12\n1992      8\n1994      5\n1995      5\n1998      5\n\n[75 rows x 1 columns]",
      "text/html": "<div>\n<style scoped>\n    .dataframe tbody tr th:only-of-type {\n        vertical-align: middle;\n    }\n\n    .dataframe tbody tr th {\n        vertical-align: top;\n    }\n\n    .dataframe thead th {\n        text-align: right;\n    }\n</style>\n<table border=\"1\" class=\"dataframe\">\n  <thead>\n    <tr style=\"text-align: right;\">\n      <th></th>\n      <th>Count</th>\n    </tr>\n    <tr>\n      <th>Year</th>\n      <th></th>\n    </tr>\n  </thead>\n  <tbody>\n    <tr>\n      <th>1917</th>\n      <td>5</td>\n    </tr>\n    <tr>\n      <th>1918</th>\n      <td>6</td>\n    </tr>\n    <tr>\n      <th>1923</th>\n      <td>5</td>\n    </tr>\n    <tr>\n      <th>1924</th>\n      <td>12</td>\n    </tr>\n    <tr>\n      <th>1925</th>\n      <td>8</td>\n    </tr>\n    <tr>\n      <th>...</th>\n      <td>...</td>\n    </tr>\n    <tr>\n      <th>1991</th>\n      <td>12</td>\n    </tr>\n    <tr>\n      <th>1992</th>\n      <td>8</td>\n    </tr>\n    <tr>\n      <th>1994</th>\n      <td>5</td>\n    </tr>\n    <tr>\n      <th>1995</th>\n      <td>5</td>\n    </tr>\n    <tr>\n      <th>1998</th>\n      <td>5</td>\n    </tr>\n  </tbody>\n</table>\n<p>75 rows × 1 columns</p>\n</div>"
     },
     "execution_count": 33,
     "metadata": {},
     "output_type": "execute_result"
    }
   ],
   "source": [
    "#Hierarchical index makes it easier to locate subsets of records. What are all the years that the name\n",
    "# Bruce was given as a name in the state or Maine ?\n",
    "babynames_index.loc[('Bruce','ME'),['Count']]      # babynames_index.loc[('Bruce', 'ME')].index will gives years"
   ]
  },
  {
   "cell_type": "code",
   "execution_count": null,
   "metadata": {
    "id": "-bbOcUF0ebwl",
    "outputId": "222f2c13-cc04-41ab-b8ab-aaee2f7ccbb4"
   },
   "outputs": [
    {
     "data": {
      "text/plain": "      Gender  Count\nState              \nMA         M    405\nME         M    127\nNH         M     59\nVT         M     43",
      "text/html": "<div>\n<style scoped>\n    .dataframe tbody tr th:only-of-type {\n        vertical-align: middle;\n    }\n\n    .dataframe tbody tr th {\n        vertical-align: top;\n    }\n\n    .dataframe thead th {\n        text-align: right;\n    }\n</style>\n<table border=\"1\" class=\"dataframe\">\n  <thead>\n    <tr style=\"text-align: right;\">\n      <th></th>\n      <th>Gender</th>\n      <th>Count</th>\n    </tr>\n    <tr>\n      <th>State</th>\n      <th></th>\n      <th></th>\n    </tr>\n  </thead>\n  <tbody>\n    <tr>\n      <th>MA</th>\n      <td>M</td>\n      <td>405</td>\n    </tr>\n    <tr>\n      <th>ME</th>\n      <td>M</td>\n      <td>127</td>\n    </tr>\n    <tr>\n      <th>NH</th>\n      <td>M</td>\n      <td>59</td>\n    </tr>\n    <tr>\n      <th>VT</th>\n      <td>M</td>\n      <td>43</td>\n    </tr>\n  </tbody>\n</table>\n</div>"
     },
     "execution_count": 34,
     "metadata": {},
     "output_type": "execute_result"
    }
   ],
   "source": [
    "# How many babies named Bruce in 1960 in each of the NE states\n",
    "babynames_index.loc[('Bruce',slice(None),1960)]"
   ]
  },
  {
   "cell_type": "code",
   "execution_count": null,
   "metadata": {
    "id": "E5IOyL9Hebwl",
    "outputId": "ff2283fb-e891-49b4-eeb1-7ef0f6c97b46"
   },
   "outputs": [
    {
     "data": {
      "text/plain": "                 Gender  Count\nName  State Year              \nBruce MA    1960      M    405\n      ME    1960      M    127",
      "text/html": "<div>\n<style scoped>\n    .dataframe tbody tr th:only-of-type {\n        vertical-align: middle;\n    }\n\n    .dataframe tbody tr th {\n        vertical-align: top;\n    }\n\n    .dataframe thead th {\n        text-align: right;\n    }\n</style>\n<table border=\"1\" class=\"dataframe\">\n  <thead>\n    <tr style=\"text-align: right;\">\n      <th></th>\n      <th></th>\n      <th></th>\n      <th>Gender</th>\n      <th>Count</th>\n    </tr>\n    <tr>\n      <th>Name</th>\n      <th>State</th>\n      <th>Year</th>\n      <th></th>\n      <th></th>\n    </tr>\n  </thead>\n  <tbody>\n    <tr>\n      <th rowspan=\"2\" valign=\"top\">Bruce</th>\n      <th>MA</th>\n      <th>1960</th>\n      <td>M</td>\n      <td>405</td>\n    </tr>\n    <tr>\n      <th>ME</th>\n      <th>1960</th>\n      <td>M</td>\n      <td>127</td>\n    </tr>\n  </tbody>\n</table>\n</div>"
     },
     "execution_count": 35,
     "metadata": {},
     "output_type": "execute_result"
    }
   ],
   "source": [
    "babynames_index.loc['Bruce',slice('MA','ME'),1960]"
   ]
  },
  {
   "cell_type": "code",
   "execution_count": null,
   "metadata": {
    "id": "rTtggjxuebwm",
    "outputId": "aa399fd2-7144-45c2-cb9d-ea372db87d6f"
   },
   "outputs": [
    {
     "data": {
      "text/plain": "3843"
     },
     "execution_count": 36,
     "metadata": {},
     "output_type": "execute_result"
    }
   ],
   "source": [
    "# How many babies named Bruce where named in the state of Maine ?\n",
    "babynames_index.loc[('Bruce','ME')]['Count'].sum()"
   ]
  },
  {
   "cell_type": "code",
   "execution_count": null,
   "metadata": {
    "id": "wvzJueJWebwm",
    "outputId": "77a49258-22c3-438c-c836-f7230ab8aeac"
   },
   "outputs": [
    {
     "data": {
      "text/plain": "156"
     },
     "execution_count": 37,
     "metadata": {},
     "output_type": "execute_result"
    }
   ],
   "source": [
    "# Find the maximum number of Bruces in a year\n",
    "babynames_index.loc[('Bruce','ME')]['Count'].max()"
   ]
  },
  {
   "cell_type": "code",
   "execution_count": null,
   "outputs": [
    {
     "data": {
      "text/plain": "70.30573248407643"
     },
     "execution_count": 38,
     "metadata": {},
     "output_type": "execute_result"
    }
   ],
   "source": [
    "# Average number of Bruce's in a year across all states\n",
    "babynames_index.loc[('Bruce')]['Count'].mean()"
   ],
   "metadata": {
    "id": "ed0DtG_zebwm",
    "outputId": "4771e222-ade5-46f9-9735-f4c59022a61b"
   }
  },
  {
   "cell_type": "code",
   "execution_count": null,
   "metadata": {
    "id": "nc1p3exzebwm"
   },
   "outputs": [],
   "source": [
    "babynames_index = babynames_index.swaplevel('Name', 'State').sort_index()"
   ]
  },
  {
   "cell_type": "code",
   "execution_count": null,
   "outputs": [
    {
     "data": {
      "text/plain": "MultiIndex([('MA',  'Aaden', 2008),\n            ('MA',  'Aaden', 2009),\n            ('MA',  'Aaden', 2012),\n            ('MA', 'Aadhya', 2013),\n            ('MA', 'Aadhya', 2014),\n            ('MA', 'Aadhya', 2015),\n            ('MA', 'Aadhya', 2016),\n            ('MA', 'Aadhya', 2018),\n            ('MA', 'Aadhya', 2019),\n            ('MA', 'Aadhya', 2020),\n            ...\n            ('VT',   'Zoey', 2010),\n            ('VT',   'Zoey', 2011),\n            ('VT',   'Zoey', 2012),\n            ('VT',   'Zoey', 2013),\n            ('VT',   'Zoey', 2014),\n            ('VT',   'Zoey', 2015),\n            ('VT',   'Zoey', 2016),\n            ('VT',   'Zoey', 2017),\n            ('VT',   'Zoey', 2020),\n            ('VT',   'Zoey', 2021)],\n           names=['State', 'Name', 'Year'], length=245450)"
     },
     "execution_count": 40,
     "metadata": {},
     "output_type": "execute_result"
    }
   ],
   "source": [
    "babynames_index.index"
   ],
   "metadata": {
    "id": "bjEO4h8Zebwm",
    "outputId": "f1439cee-f8c2-40c7-d242-6f852173d624"
   }
  },
  {
   "cell_type": "code",
   "execution_count": null,
   "outputs": [
    {
     "data": {
      "text/plain": "              State Gender  Year\nCount Name                      \n3895  Robert     MA      M  1947\n3828  John       MA      M  1947\n3663  Robert     MA      M  1946\n3608  John       MA      M  1961\n3549  John       MA      M  1964\n...             ...    ...   ...\n5     Aaliyah    VT      F  2015\n      Aadya      MA      F  2021\n      Aadi       MA      M  2007\n      Aaden      MA      M  2012\n      Aaden      ME      M  2009\n\n[245450 rows x 3 columns]",
      "text/html": "<div>\n<style scoped>\n    .dataframe tbody tr th:only-of-type {\n        vertical-align: middle;\n    }\n\n    .dataframe tbody tr th {\n        vertical-align: top;\n    }\n\n    .dataframe thead th {\n        text-align: right;\n    }\n</style>\n<table border=\"1\" class=\"dataframe\">\n  <thead>\n    <tr style=\"text-align: right;\">\n      <th></th>\n      <th></th>\n      <th>State</th>\n      <th>Gender</th>\n      <th>Year</th>\n    </tr>\n    <tr>\n      <th>Count</th>\n      <th>Name</th>\n      <th></th>\n      <th></th>\n      <th></th>\n    </tr>\n  </thead>\n  <tbody>\n    <tr>\n      <th>3895</th>\n      <th>Robert</th>\n      <td>MA</td>\n      <td>M</td>\n      <td>1947</td>\n    </tr>\n    <tr>\n      <th>3828</th>\n      <th>John</th>\n      <td>MA</td>\n      <td>M</td>\n      <td>1947</td>\n    </tr>\n    <tr>\n      <th>3663</th>\n      <th>Robert</th>\n      <td>MA</td>\n      <td>M</td>\n      <td>1946</td>\n    </tr>\n    <tr>\n      <th>3608</th>\n      <th>John</th>\n      <td>MA</td>\n      <td>M</td>\n      <td>1961</td>\n    </tr>\n    <tr>\n      <th>3549</th>\n      <th>John</th>\n      <td>MA</td>\n      <td>M</td>\n      <td>1964</td>\n    </tr>\n    <tr>\n      <th>...</th>\n      <th>...</th>\n      <td>...</td>\n      <td>...</td>\n      <td>...</td>\n    </tr>\n    <tr>\n      <th rowspan=\"5\" valign=\"top\">5</th>\n      <th>Aaliyah</th>\n      <td>VT</td>\n      <td>F</td>\n      <td>2015</td>\n    </tr>\n    <tr>\n      <th>Aadya</th>\n      <td>MA</td>\n      <td>F</td>\n      <td>2021</td>\n    </tr>\n    <tr>\n      <th>Aadi</th>\n      <td>MA</td>\n      <td>M</td>\n      <td>2007</td>\n    </tr>\n    <tr>\n      <th>Aaden</th>\n      <td>MA</td>\n      <td>M</td>\n      <td>2012</td>\n    </tr>\n    <tr>\n      <th>Aaden</th>\n      <td>ME</td>\n      <td>M</td>\n      <td>2009</td>\n    </tr>\n  </tbody>\n</table>\n<p>245450 rows × 3 columns</p>\n</div>"
     },
     "execution_count": 41,
     "metadata": {},
     "output_type": "execute_result"
    }
   ],
   "source": [
    "# what name and state had the largest number of same name children ... most popular\n",
    "babynames.set_index(['Count','Name']).sort_index(ascending=False)"
   ],
   "metadata": {
    "id": "WvWt7v3hebwm",
    "outputId": "a477a4f7-ed95-4ba4-e6a4-2029e4e61972"
   }
  },
  {
   "cell_type": "code",
   "execution_count": null,
   "metadata": {
    "id": "svObHKl1ebwm",
    "outputId": "3c143e00-dbcc-434a-ca50-ce3a1df85489"
   },
   "outputs": [
    {
     "data": {
      "text/plain": "                          Count\nName   State Year Gender       \nAaden  MA    2008 M          10\n             2009 M          25\n             2012 M           5\n       ME    2009 M           5\nAadhya MA    2013 F           8\n...                         ...\nZyaire MA    2021 M          13\nZyla   MA    2021 F           5\nZylah  MA    2020 F           5\nZyon   MA    2013 M           6\n             2021 M           8\n\n[245450 rows x 1 columns]",
      "text/html": "<div>\n<style scoped>\n    .dataframe tbody tr th:only-of-type {\n        vertical-align: middle;\n    }\n\n    .dataframe tbody tr th {\n        vertical-align: top;\n    }\n\n    .dataframe thead th {\n        text-align: right;\n    }\n</style>\n<table border=\"1\" class=\"dataframe\">\n  <thead>\n    <tr style=\"text-align: right;\">\n      <th></th>\n      <th></th>\n      <th></th>\n      <th></th>\n      <th>Count</th>\n    </tr>\n    <tr>\n      <th>Name</th>\n      <th>State</th>\n      <th>Year</th>\n      <th>Gender</th>\n      <th></th>\n    </tr>\n  </thead>\n  <tbody>\n    <tr>\n      <th rowspan=\"4\" valign=\"top\">Aaden</th>\n      <th rowspan=\"3\" valign=\"top\">MA</th>\n      <th>2008</th>\n      <th>M</th>\n      <td>10</td>\n    </tr>\n    <tr>\n      <th>2009</th>\n      <th>M</th>\n      <td>25</td>\n    </tr>\n    <tr>\n      <th>2012</th>\n      <th>M</th>\n      <td>5</td>\n    </tr>\n    <tr>\n      <th>ME</th>\n      <th>2009</th>\n      <th>M</th>\n      <td>5</td>\n    </tr>\n    <tr>\n      <th>Aadhya</th>\n      <th>MA</th>\n      <th>2013</th>\n      <th>F</th>\n      <td>8</td>\n    </tr>\n    <tr>\n      <th>...</th>\n      <th>...</th>\n      <th>...</th>\n      <th>...</th>\n      <td>...</td>\n    </tr>\n    <tr>\n      <th>Zyaire</th>\n      <th>MA</th>\n      <th>2021</th>\n      <th>M</th>\n      <td>13</td>\n    </tr>\n    <tr>\n      <th>Zyla</th>\n      <th>MA</th>\n      <th>2021</th>\n      <th>F</th>\n      <td>5</td>\n    </tr>\n    <tr>\n      <th>Zylah</th>\n      <th>MA</th>\n      <th>2020</th>\n      <th>F</th>\n      <td>5</td>\n    </tr>\n    <tr>\n      <th rowspan=\"2\" valign=\"top\">Zyon</th>\n      <th rowspan=\"2\" valign=\"top\">MA</th>\n      <th>2013</th>\n      <th>M</th>\n      <td>6</td>\n    </tr>\n    <tr>\n      <th>2021</th>\n      <th>M</th>\n      <td>8</td>\n    </tr>\n  </tbody>\n</table>\n<p>245450 rows × 1 columns</p>\n</div>"
     },
     "execution_count": 42,
     "metadata": {},
     "output_type": "execute_result"
    }
   ],
   "source": [
    "babynames_index = babynames.set_index(['Name','State','Year','Gender']).sort_index()\n",
    "babynames_index"
   ]
  },
  {
   "cell_type": "code",
   "execution_count": null,
   "metadata": {
    "id": "qybCIIAEebwm",
    "outputId": "37e66fd4-ce0f-4288-849c-cb1a18efe0a5"
   },
   "outputs": [
    {
     "data": {
      "text/plain": "                  Count      \nGender                F     M\nName   State Year            \nAaden  MA    2008   NaN  10.0\n             2009   NaN  25.0\n             2012   NaN   5.0\n       ME    2009   NaN   5.0\nAadhya MA    2013   8.0   NaN\n...                 ...   ...\nZyaire MA    2021   NaN  13.0\nZyla   MA    2021   5.0   NaN\nZylah  MA    2020   5.0   NaN\nZyon   MA    2013   NaN   6.0\n             2021   NaN   8.0\n\n[240544 rows x 2 columns]",
      "text/html": "<div>\n<style scoped>\n    .dataframe tbody tr th:only-of-type {\n        vertical-align: middle;\n    }\n\n    .dataframe tbody tr th {\n        vertical-align: top;\n    }\n\n    .dataframe thead tr th {\n        text-align: left;\n    }\n\n    .dataframe thead tr:last-of-type th {\n        text-align: right;\n    }\n</style>\n<table border=\"1\" class=\"dataframe\">\n  <thead>\n    <tr>\n      <th></th>\n      <th></th>\n      <th></th>\n      <th colspan=\"2\" halign=\"left\">Count</th>\n    </tr>\n    <tr>\n      <th></th>\n      <th></th>\n      <th>Gender</th>\n      <th>F</th>\n      <th>M</th>\n    </tr>\n    <tr>\n      <th>Name</th>\n      <th>State</th>\n      <th>Year</th>\n      <th></th>\n      <th></th>\n    </tr>\n  </thead>\n  <tbody>\n    <tr>\n      <th rowspan=\"4\" valign=\"top\">Aaden</th>\n      <th rowspan=\"3\" valign=\"top\">MA</th>\n      <th>2008</th>\n      <td>NaN</td>\n      <td>10.0</td>\n    </tr>\n    <tr>\n      <th>2009</th>\n      <td>NaN</td>\n      <td>25.0</td>\n    </tr>\n    <tr>\n      <th>2012</th>\n      <td>NaN</td>\n      <td>5.0</td>\n    </tr>\n    <tr>\n      <th>ME</th>\n      <th>2009</th>\n      <td>NaN</td>\n      <td>5.0</td>\n    </tr>\n    <tr>\n      <th>Aadhya</th>\n      <th>MA</th>\n      <th>2013</th>\n      <td>8.0</td>\n      <td>NaN</td>\n    </tr>\n    <tr>\n      <th>...</th>\n      <th>...</th>\n      <th>...</th>\n      <td>...</td>\n      <td>...</td>\n    </tr>\n    <tr>\n      <th>Zyaire</th>\n      <th>MA</th>\n      <th>2021</th>\n      <td>NaN</td>\n      <td>13.0</td>\n    </tr>\n    <tr>\n      <th>Zyla</th>\n      <th>MA</th>\n      <th>2021</th>\n      <td>5.0</td>\n      <td>NaN</td>\n    </tr>\n    <tr>\n      <th>Zylah</th>\n      <th>MA</th>\n      <th>2020</th>\n      <td>5.0</td>\n      <td>NaN</td>\n    </tr>\n    <tr>\n      <th rowspan=\"2\" valign=\"top\">Zyon</th>\n      <th rowspan=\"2\" valign=\"top\">MA</th>\n      <th>2013</th>\n      <td>NaN</td>\n      <td>6.0</td>\n    </tr>\n    <tr>\n      <th>2021</th>\n      <td>NaN</td>\n      <td>8.0</td>\n    </tr>\n  </tbody>\n</table>\n<p>240544 rows × 2 columns</p>\n</div>"
     },
     "execution_count": 43,
     "metadata": {},
     "output_type": "execute_result"
    }
   ],
   "source": [
    "# Unstack puts the values of last index, Gender, into columns\n",
    "babynames_index = babynames_index.unstack()\n",
    "babynames_index"
   ]
  },
  {
   "cell_type": "code",
   "execution_count": null,
   "outputs": [
    {
     "data": {
      "text/plain": "MultiIndex([('Count', 'F'),\n            ('Count', 'M')],\n           names=[None, 'Gender'])"
     },
     "execution_count": 44,
     "metadata": {},
     "output_type": "execute_result"
    }
   ],
   "source": [
    "# Now we have columns which are multi-index\n",
    "babynames_index.columns"
   ],
   "metadata": {
    "id": "7kvwRedSebwm",
    "outputId": "ef6d653a-0554-4fe6-a0a0-c74d85f27ce4"
   }
  },
  {
   "cell_type": "code",
   "execution_count": null,
   "outputs": [
    {
     "data": {
      "text/plain": "Name    State  Year\nAaden   MA     2008    NaN\n               2009    NaN\n               2012    NaN\n        ME     2009    NaN\nAadhya  MA     2013    8.0\n                      ... \nZyaire  MA     2021    NaN\nZyla    MA     2021    5.0\nZylah   MA     2020    5.0\nZyon    MA     2013    NaN\n               2021    NaN\nName: (Count, F), Length: 240544, dtype: float64"
     },
     "execution_count": 45,
     "metadata": {},
     "output_type": "execute_result"
    }
   ],
   "source": [
    "#lets access one of the two columns\n",
    "babynames_index[('Count','F')]"
   ],
   "metadata": {
    "id": "NjSHS3s6ebwm",
    "outputId": "2eb7fda0-fb9e-42ad-cc92-be130b69542e"
   }
  },
  {
   "cell_type": "code",
   "execution_count": null,
   "outputs": [
    {
     "data": {
      "text/plain": "                   Count       \nGender                 F      M\nName    State Year             \nAdam    MA    1983   8.0  673.0\n              1984   7.0  635.0\nAddison MA    1995   7.0    7.0\n              1999   7.0    7.0\n              2003  12.0    6.0\n...                  ...    ...\nWilliam MA    1985   7.0  575.0\n              1988   5.0  634.0\n        ME    1930   5.0  186.0\nWren    MA    2021  23.0    6.0\nZion    MA    2018   9.0   36.0\n\n[4906 rows x 2 columns]",
      "text/html": "<div>\n<style scoped>\n    .dataframe tbody tr th:only-of-type {\n        vertical-align: middle;\n    }\n\n    .dataframe tbody tr th {\n        vertical-align: top;\n    }\n\n    .dataframe thead tr th {\n        text-align: left;\n    }\n\n    .dataframe thead tr:last-of-type th {\n        text-align: right;\n    }\n</style>\n<table border=\"1\" class=\"dataframe\">\n  <thead>\n    <tr>\n      <th></th>\n      <th></th>\n      <th></th>\n      <th colspan=\"2\" halign=\"left\">Count</th>\n    </tr>\n    <tr>\n      <th></th>\n      <th></th>\n      <th>Gender</th>\n      <th>F</th>\n      <th>M</th>\n    </tr>\n    <tr>\n      <th>Name</th>\n      <th>State</th>\n      <th>Year</th>\n      <th></th>\n      <th></th>\n    </tr>\n  </thead>\n  <tbody>\n    <tr>\n      <th rowspan=\"2\" valign=\"top\">Adam</th>\n      <th rowspan=\"2\" valign=\"top\">MA</th>\n      <th>1983</th>\n      <td>8.0</td>\n      <td>673.0</td>\n    </tr>\n    <tr>\n      <th>1984</th>\n      <td>7.0</td>\n      <td>635.0</td>\n    </tr>\n    <tr>\n      <th rowspan=\"3\" valign=\"top\">Addison</th>\n      <th rowspan=\"3\" valign=\"top\">MA</th>\n      <th>1995</th>\n      <td>7.0</td>\n      <td>7.0</td>\n    </tr>\n    <tr>\n      <th>1999</th>\n      <td>7.0</td>\n      <td>7.0</td>\n    </tr>\n    <tr>\n      <th>2003</th>\n      <td>12.0</td>\n      <td>6.0</td>\n    </tr>\n    <tr>\n      <th>...</th>\n      <th>...</th>\n      <th>...</th>\n      <td>...</td>\n      <td>...</td>\n    </tr>\n    <tr>\n      <th rowspan=\"3\" valign=\"top\">William</th>\n      <th rowspan=\"2\" valign=\"top\">MA</th>\n      <th>1985</th>\n      <td>7.0</td>\n      <td>575.0</td>\n    </tr>\n    <tr>\n      <th>1988</th>\n      <td>5.0</td>\n      <td>634.0</td>\n    </tr>\n    <tr>\n      <th>ME</th>\n      <th>1930</th>\n      <td>5.0</td>\n      <td>186.0</td>\n    </tr>\n    <tr>\n      <th>Wren</th>\n      <th>MA</th>\n      <th>2021</th>\n      <td>23.0</td>\n      <td>6.0</td>\n    </tr>\n    <tr>\n      <th>Zion</th>\n      <th>MA</th>\n      <th>2018</th>\n      <td>9.0</td>\n      <td>36.0</td>\n    </tr>\n  </tbody>\n</table>\n<p>4906 rows × 2 columns</p>\n</div>"
     },
     "execution_count": 46,
     "metadata": {},
     "output_type": "execute_result"
    }
   ],
   "source": [
    "# Show all the names that have both male and female babies during a given year\n",
    "babynames_index[~babynames_index.isnull().any(axis=1)]"
   ],
   "metadata": {
    "id": "5pgvJeYtebwn",
    "outputId": "66af8292-f953-4577-91e2-8312df854988"
   }
  },
  {
   "cell_type": "code",
   "execution_count": null,
   "metadata": {
    "id": "qepKMDgpebwn",
    "outputId": "4e8a5a94-5107-4840-f123-69eaef2b1e49"
   },
   "outputs": [
    {
     "data": {
      "text/plain": "             Count                                               ...       \\\nGender           F                                               ...    M   \nYear          1910 1911 1912 1913 1914 1915 1916 1917 1918 1919  ... 2012   \nName   State                                                     ...        \nAaden  MA      NaN  NaN  NaN  NaN  NaN  NaN  NaN  NaN  NaN  NaN  ...  5.0   \n       ME      NaN  NaN  NaN  NaN  NaN  NaN  NaN  NaN  NaN  NaN  ...  NaN   \nAadhya MA      NaN  NaN  NaN  NaN  NaN  NaN  NaN  NaN  NaN  NaN  ...  NaN   \nAadi   MA      NaN  NaN  NaN  NaN  NaN  NaN  NaN  NaN  NaN  NaN  ...  NaN   \nAadya  MA      NaN  NaN  NaN  NaN  NaN  NaN  NaN  NaN  NaN  NaN  ...  NaN   \n...            ...  ...  ...  ...  ...  ...  ...  ...  ...  ...  ...  ...   \nZyair  MA      NaN  NaN  NaN  NaN  NaN  NaN  NaN  NaN  NaN  NaN  ...  NaN   \nZyaire MA      NaN  NaN  NaN  NaN  NaN  NaN  NaN  NaN  NaN  NaN  ...  NaN   \nZyla   MA      NaN  NaN  NaN  NaN  NaN  NaN  NaN  NaN  NaN  NaN  ...  NaN   \nZylah  MA      NaN  NaN  NaN  NaN  NaN  NaN  NaN  NaN  NaN  NaN  ...  NaN   \nZyon   MA      NaN  NaN  NaN  NaN  NaN  NaN  NaN  NaN  NaN  NaN  ...  NaN   \n\n                                                             \nGender                                                       \nYear         2013 2014 2015 2016 2017 2018 2019  2020  2021  \nName   State                                                 \nAaden  MA     NaN  NaN  NaN  NaN  NaN  NaN  NaN   NaN   NaN  \n       ME     NaN  NaN  NaN  NaN  NaN  NaN  NaN   NaN   NaN  \nAadhya MA     NaN  NaN  NaN  NaN  NaN  NaN  NaN   NaN   NaN  \nAadi   MA     NaN  NaN  NaN  NaN  NaN  NaN  NaN   NaN   NaN  \nAadya  MA     NaN  NaN  NaN  NaN  NaN  NaN  NaN   NaN   NaN  \n...           ...  ...  ...  ...  ...  ...  ...   ...   ...  \nZyair  MA     NaN  NaN  NaN  NaN  NaN  NaN  NaN   6.0   5.0  \nZyaire MA     NaN  NaN  NaN  7.0  NaN  5.0  6.0  10.0  13.0  \nZyla   MA     NaN  NaN  NaN  NaN  NaN  NaN  NaN   NaN   NaN  \nZylah  MA     NaN  NaN  NaN  NaN  NaN  NaN  NaN   NaN   NaN  \nZyon   MA     6.0  NaN  NaN  NaN  NaN  NaN  NaN   NaN   8.0  \n\n[11155 rows x 224 columns]",
      "text/html": "<div>\n<style scoped>\n    .dataframe tbody tr th:only-of-type {\n        vertical-align: middle;\n    }\n\n    .dataframe tbody tr th {\n        vertical-align: top;\n    }\n\n    .dataframe thead tr th {\n        text-align: left;\n    }\n\n    .dataframe thead tr:last-of-type th {\n        text-align: right;\n    }\n</style>\n<table border=\"1\" class=\"dataframe\">\n  <thead>\n    <tr>\n      <th></th>\n      <th></th>\n      <th colspan=\"21\" halign=\"left\">Count</th>\n    </tr>\n    <tr>\n      <th></th>\n      <th>Gender</th>\n      <th colspan=\"10\" halign=\"left\">F</th>\n      <th>...</th>\n      <th colspan=\"10\" halign=\"left\">M</th>\n    </tr>\n    <tr>\n      <th></th>\n      <th>Year</th>\n      <th>1910</th>\n      <th>1911</th>\n      <th>1912</th>\n      <th>1913</th>\n      <th>1914</th>\n      <th>1915</th>\n      <th>1916</th>\n      <th>1917</th>\n      <th>1918</th>\n      <th>1919</th>\n      <th>...</th>\n      <th>2012</th>\n      <th>2013</th>\n      <th>2014</th>\n      <th>2015</th>\n      <th>2016</th>\n      <th>2017</th>\n      <th>2018</th>\n      <th>2019</th>\n      <th>2020</th>\n      <th>2021</th>\n    </tr>\n    <tr>\n      <th>Name</th>\n      <th>State</th>\n      <th></th>\n      <th></th>\n      <th></th>\n      <th></th>\n      <th></th>\n      <th></th>\n      <th></th>\n      <th></th>\n      <th></th>\n      <th></th>\n      <th></th>\n      <th></th>\n      <th></th>\n      <th></th>\n      <th></th>\n      <th></th>\n      <th></th>\n      <th></th>\n      <th></th>\n      <th></th>\n      <th></th>\n    </tr>\n  </thead>\n  <tbody>\n    <tr>\n      <th rowspan=\"2\" valign=\"top\">Aaden</th>\n      <th>MA</th>\n      <td>NaN</td>\n      <td>NaN</td>\n      <td>NaN</td>\n      <td>NaN</td>\n      <td>NaN</td>\n      <td>NaN</td>\n      <td>NaN</td>\n      <td>NaN</td>\n      <td>NaN</td>\n      <td>NaN</td>\n      <td>...</td>\n      <td>5.0</td>\n      <td>NaN</td>\n      <td>NaN</td>\n      <td>NaN</td>\n      <td>NaN</td>\n      <td>NaN</td>\n      <td>NaN</td>\n      <td>NaN</td>\n      <td>NaN</td>\n      <td>NaN</td>\n    </tr>\n    <tr>\n      <th>ME</th>\n      <td>NaN</td>\n      <td>NaN</td>\n      <td>NaN</td>\n      <td>NaN</td>\n      <td>NaN</td>\n      <td>NaN</td>\n      <td>NaN</td>\n      <td>NaN</td>\n      <td>NaN</td>\n      <td>NaN</td>\n      <td>...</td>\n      <td>NaN</td>\n      <td>NaN</td>\n      <td>NaN</td>\n      <td>NaN</td>\n      <td>NaN</td>\n      <td>NaN</td>\n      <td>NaN</td>\n      <td>NaN</td>\n      <td>NaN</td>\n      <td>NaN</td>\n    </tr>\n    <tr>\n      <th>Aadhya</th>\n      <th>MA</th>\n      <td>NaN</td>\n      <td>NaN</td>\n      <td>NaN</td>\n      <td>NaN</td>\n      <td>NaN</td>\n      <td>NaN</td>\n      <td>NaN</td>\n      <td>NaN</td>\n      <td>NaN</td>\n      <td>NaN</td>\n      <td>...</td>\n      <td>NaN</td>\n      <td>NaN</td>\n      <td>NaN</td>\n      <td>NaN</td>\n      <td>NaN</td>\n      <td>NaN</td>\n      <td>NaN</td>\n      <td>NaN</td>\n      <td>NaN</td>\n      <td>NaN</td>\n    </tr>\n    <tr>\n      <th>Aadi</th>\n      <th>MA</th>\n      <td>NaN</td>\n      <td>NaN</td>\n      <td>NaN</td>\n      <td>NaN</td>\n      <td>NaN</td>\n      <td>NaN</td>\n      <td>NaN</td>\n      <td>NaN</td>\n      <td>NaN</td>\n      <td>NaN</td>\n      <td>...</td>\n      <td>NaN</td>\n      <td>NaN</td>\n      <td>NaN</td>\n      <td>NaN</td>\n      <td>NaN</td>\n      <td>NaN</td>\n      <td>NaN</td>\n      <td>NaN</td>\n      <td>NaN</td>\n      <td>NaN</td>\n    </tr>\n    <tr>\n      <th>Aadya</th>\n      <th>MA</th>\n      <td>NaN</td>\n      <td>NaN</td>\n      <td>NaN</td>\n      <td>NaN</td>\n      <td>NaN</td>\n      <td>NaN</td>\n      <td>NaN</td>\n      <td>NaN</td>\n      <td>NaN</td>\n      <td>NaN</td>\n      <td>...</td>\n      <td>NaN</td>\n      <td>NaN</td>\n      <td>NaN</td>\n      <td>NaN</td>\n      <td>NaN</td>\n      <td>NaN</td>\n      <td>NaN</td>\n      <td>NaN</td>\n      <td>NaN</td>\n      <td>NaN</td>\n    </tr>\n    <tr>\n      <th>...</th>\n      <th>...</th>\n      <td>...</td>\n      <td>...</td>\n      <td>...</td>\n      <td>...</td>\n      <td>...</td>\n      <td>...</td>\n      <td>...</td>\n      <td>...</td>\n      <td>...</td>\n      <td>...</td>\n      <td>...</td>\n      <td>...</td>\n      <td>...</td>\n      <td>...</td>\n      <td>...</td>\n      <td>...</td>\n      <td>...</td>\n      <td>...</td>\n      <td>...</td>\n      <td>...</td>\n      <td>...</td>\n    </tr>\n    <tr>\n      <th>Zyair</th>\n      <th>MA</th>\n      <td>NaN</td>\n      <td>NaN</td>\n      <td>NaN</td>\n      <td>NaN</td>\n      <td>NaN</td>\n      <td>NaN</td>\n      <td>NaN</td>\n      <td>NaN</td>\n      <td>NaN</td>\n      <td>NaN</td>\n      <td>...</td>\n      <td>NaN</td>\n      <td>NaN</td>\n      <td>NaN</td>\n      <td>NaN</td>\n      <td>NaN</td>\n      <td>NaN</td>\n      <td>NaN</td>\n      <td>NaN</td>\n      <td>6.0</td>\n      <td>5.0</td>\n    </tr>\n    <tr>\n      <th>Zyaire</th>\n      <th>MA</th>\n      <td>NaN</td>\n      <td>NaN</td>\n      <td>NaN</td>\n      <td>NaN</td>\n      <td>NaN</td>\n      <td>NaN</td>\n      <td>NaN</td>\n      <td>NaN</td>\n      <td>NaN</td>\n      <td>NaN</td>\n      <td>...</td>\n      <td>NaN</td>\n      <td>NaN</td>\n      <td>NaN</td>\n      <td>NaN</td>\n      <td>7.0</td>\n      <td>NaN</td>\n      <td>5.0</td>\n      <td>6.0</td>\n      <td>10.0</td>\n      <td>13.0</td>\n    </tr>\n    <tr>\n      <th>Zyla</th>\n      <th>MA</th>\n      <td>NaN</td>\n      <td>NaN</td>\n      <td>NaN</td>\n      <td>NaN</td>\n      <td>NaN</td>\n      <td>NaN</td>\n      <td>NaN</td>\n      <td>NaN</td>\n      <td>NaN</td>\n      <td>NaN</td>\n      <td>...</td>\n      <td>NaN</td>\n      <td>NaN</td>\n      <td>NaN</td>\n      <td>NaN</td>\n      <td>NaN</td>\n      <td>NaN</td>\n      <td>NaN</td>\n      <td>NaN</td>\n      <td>NaN</td>\n      <td>NaN</td>\n    </tr>\n    <tr>\n      <th>Zylah</th>\n      <th>MA</th>\n      <td>NaN</td>\n      <td>NaN</td>\n      <td>NaN</td>\n      <td>NaN</td>\n      <td>NaN</td>\n      <td>NaN</td>\n      <td>NaN</td>\n      <td>NaN</td>\n      <td>NaN</td>\n      <td>NaN</td>\n      <td>...</td>\n      <td>NaN</td>\n      <td>NaN</td>\n      <td>NaN</td>\n      <td>NaN</td>\n      <td>NaN</td>\n      <td>NaN</td>\n      <td>NaN</td>\n      <td>NaN</td>\n      <td>NaN</td>\n      <td>NaN</td>\n    </tr>\n    <tr>\n      <th>Zyon</th>\n      <th>MA</th>\n      <td>NaN</td>\n      <td>NaN</td>\n      <td>NaN</td>\n      <td>NaN</td>\n      <td>NaN</td>\n      <td>NaN</td>\n      <td>NaN</td>\n      <td>NaN</td>\n      <td>NaN</td>\n      <td>NaN</td>\n      <td>...</td>\n      <td>NaN</td>\n      <td>6.0</td>\n      <td>NaN</td>\n      <td>NaN</td>\n      <td>NaN</td>\n      <td>NaN</td>\n      <td>NaN</td>\n      <td>NaN</td>\n      <td>NaN</td>\n      <td>8.0</td>\n    </tr>\n  </tbody>\n</table>\n<p>11155 rows × 224 columns</p>\n</div>"
     },
     "execution_count": 47,
     "metadata": {},
     "output_type": "execute_result"
    }
   ],
   "source": [
    "babynames_index = babynames_index.unstack()\n",
    "babynames_index"
   ]
  },
  {
   "cell_type": "code",
   "execution_count": null,
   "outputs": [
    {
     "data": {
      "text/plain": "MultiIndex([('Count', 'F', 1910),\n            ('Count', 'F', 1911),\n            ('Count', 'F', 1912),\n            ('Count', 'F', 1913),\n            ('Count', 'F', 1914),\n            ('Count', 'F', 1915),\n            ('Count', 'F', 1916),\n            ('Count', 'F', 1917),\n            ('Count', 'F', 1918),\n            ('Count', 'F', 1919),\n            ...\n            ('Count', 'M', 2012),\n            ('Count', 'M', 2013),\n            ('Count', 'M', 2014),\n            ('Count', 'M', 2015),\n            ('Count', 'M', 2016),\n            ('Count', 'M', 2017),\n            ('Count', 'M', 2018),\n            ('Count', 'M', 2019),\n            ('Count', 'M', 2020),\n            ('Count', 'M', 2021)],\n           names=[None, 'Gender', 'Year'], length=224)"
     },
     "execution_count": 48,
     "metadata": {},
     "output_type": "execute_result"
    }
   ],
   "source": [
    "#Get the columns\n",
    "babynames_index.columns"
   ],
   "metadata": {
    "id": "ZZ8I1Ry2ebwn",
    "outputId": "d00c5184-d937-4567-d883-2de37ef2fd20"
   }
  },
  {
   "cell_type": "code",
   "execution_count": null,
   "metadata": {
    "id": "x_bv7lOVebwn",
    "outputId": "07a637e0-0bbc-419b-a92c-a701887cb87d"
   },
   "outputs": [
    {
     "data": {
      "text/plain": "                         State Gender  Year    Name  Count\nState Name   Year Gender                                  \nMA    Aaden  2008 M         MA      M  2008   Aaden     10\n             2009 M         MA      M  2009   Aaden     25\n             2012 M         MA      M  2012   Aaden      5\n      Aadhya 2013 F         MA      F  2013  Aadhya      8\n             2014 F         MA      F  2014  Aadhya      7\n...                        ...    ...   ...     ...    ...\nVT    Zoey   2015 F         VT      F  2015    Zoey     10\n             2016 F         VT      F  2016    Zoey     12\n             2017 F         VT      F  2017    Zoey      8\n             2020 F         VT      F  2020    Zoey      9\n             2021 F         VT      F  2021    Zoey     11\n\n[245450 rows x 5 columns]",
      "text/html": "<div>\n<style scoped>\n    .dataframe tbody tr th:only-of-type {\n        vertical-align: middle;\n    }\n\n    .dataframe tbody tr th {\n        vertical-align: top;\n    }\n\n    .dataframe thead th {\n        text-align: right;\n    }\n</style>\n<table border=\"1\" class=\"dataframe\">\n  <thead>\n    <tr style=\"text-align: right;\">\n      <th></th>\n      <th></th>\n      <th></th>\n      <th></th>\n      <th>State</th>\n      <th>Gender</th>\n      <th>Year</th>\n      <th>Name</th>\n      <th>Count</th>\n    </tr>\n    <tr>\n      <th>State</th>\n      <th>Name</th>\n      <th>Year</th>\n      <th>Gender</th>\n      <th></th>\n      <th></th>\n      <th></th>\n      <th></th>\n      <th></th>\n    </tr>\n  </thead>\n  <tbody>\n    <tr>\n      <th rowspan=\"5\" valign=\"top\">MA</th>\n      <th rowspan=\"3\" valign=\"top\">Aaden</th>\n      <th>2008</th>\n      <th>M</th>\n      <td>MA</td>\n      <td>M</td>\n      <td>2008</td>\n      <td>Aaden</td>\n      <td>10</td>\n    </tr>\n    <tr>\n      <th>2009</th>\n      <th>M</th>\n      <td>MA</td>\n      <td>M</td>\n      <td>2009</td>\n      <td>Aaden</td>\n      <td>25</td>\n    </tr>\n    <tr>\n      <th>2012</th>\n      <th>M</th>\n      <td>MA</td>\n      <td>M</td>\n      <td>2012</td>\n      <td>Aaden</td>\n      <td>5</td>\n    </tr>\n    <tr>\n      <th rowspan=\"2\" valign=\"top\">Aadhya</th>\n      <th>2013</th>\n      <th>F</th>\n      <td>MA</td>\n      <td>F</td>\n      <td>2013</td>\n      <td>Aadhya</td>\n      <td>8</td>\n    </tr>\n    <tr>\n      <th>2014</th>\n      <th>F</th>\n      <td>MA</td>\n      <td>F</td>\n      <td>2014</td>\n      <td>Aadhya</td>\n      <td>7</td>\n    </tr>\n    <tr>\n      <th>...</th>\n      <th>...</th>\n      <th>...</th>\n      <th>...</th>\n      <td>...</td>\n      <td>...</td>\n      <td>...</td>\n      <td>...</td>\n      <td>...</td>\n    </tr>\n    <tr>\n      <th rowspan=\"5\" valign=\"top\">VT</th>\n      <th rowspan=\"5\" valign=\"top\">Zoey</th>\n      <th>2015</th>\n      <th>F</th>\n      <td>VT</td>\n      <td>F</td>\n      <td>2015</td>\n      <td>Zoey</td>\n      <td>10</td>\n    </tr>\n    <tr>\n      <th>2016</th>\n      <th>F</th>\n      <td>VT</td>\n      <td>F</td>\n      <td>2016</td>\n      <td>Zoey</td>\n      <td>12</td>\n    </tr>\n    <tr>\n      <th>2017</th>\n      <th>F</th>\n      <td>VT</td>\n      <td>F</td>\n      <td>2017</td>\n      <td>Zoey</td>\n      <td>8</td>\n    </tr>\n    <tr>\n      <th>2020</th>\n      <th>F</th>\n      <td>VT</td>\n      <td>F</td>\n      <td>2020</td>\n      <td>Zoey</td>\n      <td>9</td>\n    </tr>\n    <tr>\n      <th>2021</th>\n      <th>F</th>\n      <td>VT</td>\n      <td>F</td>\n      <td>2021</td>\n      <td>Zoey</td>\n      <td>11</td>\n    </tr>\n  </tbody>\n</table>\n<p>245450 rows × 5 columns</p>\n</div>"
     },
     "execution_count": 49,
     "metadata": {},
     "output_type": "execute_result"
    }
   ],
   "source": [
    "# drop = false keeps the columns as well as having them in the index\n",
    "babynames_index = babynames.set_index(['State','Name','Year', 'Gender'],drop=False).sort_index()\n",
    "babynames_index"
   ]
  },
  {
   "cell_type": "code",
   "execution_count": null,
   "metadata": {
    "id": "KRHnpU-Oebwn",
    "outputId": "f48e4179-5125-49f8-a399-2aecc8ae2a39"
   },
   "outputs": [
    {
     "data": {
      "text/plain": "                  State      Gender         Year            Name        Count  \\\nGender                F    M      F    M       F       M       F      M     F   \nState Name   Year                                                               \nMA    Aaden  2008   NaN   MA    NaN    M     NaN  2008.0     NaN  Aaden   NaN   \n             2009   NaN   MA    NaN    M     NaN  2009.0     NaN  Aaden   NaN   \n             2012   NaN   MA    NaN    M     NaN  2012.0     NaN  Aaden   NaN   \n      Aadhya 2013    MA  NaN      F  NaN  2013.0     NaN  Aadhya    NaN   8.0   \n             2014    MA  NaN      F  NaN  2014.0     NaN  Aadhya    NaN   7.0   \n...                 ...  ...    ...  ...     ...     ...     ...    ...   ...   \nVT    Zoey   2015    VT  NaN      F  NaN  2015.0     NaN    Zoey    NaN  10.0   \n             2016    VT  NaN      F  NaN  2016.0     NaN    Zoey    NaN  12.0   \n             2017    VT  NaN      F  NaN  2017.0     NaN    Zoey    NaN   8.0   \n             2020    VT  NaN      F  NaN  2020.0     NaN    Zoey    NaN   9.0   \n             2021    VT  NaN      F  NaN  2021.0     NaN    Zoey    NaN  11.0   \n\n                         \nGender                M  \nState Name   Year        \nMA    Aaden  2008  10.0  \n             2009  25.0  \n             2012   5.0  \n      Aadhya 2013   NaN  \n             2014   NaN  \n...                 ...  \nVT    Zoey   2015   NaN  \n             2016   NaN  \n             2017   NaN  \n             2020   NaN  \n             2021   NaN  \n\n[240544 rows x 10 columns]",
      "text/html": "<div>\n<style scoped>\n    .dataframe tbody tr th:only-of-type {\n        vertical-align: middle;\n    }\n\n    .dataframe tbody tr th {\n        vertical-align: top;\n    }\n\n    .dataframe thead tr th {\n        text-align: left;\n    }\n\n    .dataframe thead tr:last-of-type th {\n        text-align: right;\n    }\n</style>\n<table border=\"1\" class=\"dataframe\">\n  <thead>\n    <tr>\n      <th></th>\n      <th></th>\n      <th></th>\n      <th colspan=\"2\" halign=\"left\">State</th>\n      <th colspan=\"2\" halign=\"left\">Gender</th>\n      <th colspan=\"2\" halign=\"left\">Year</th>\n      <th colspan=\"2\" halign=\"left\">Name</th>\n      <th colspan=\"2\" halign=\"left\">Count</th>\n    </tr>\n    <tr>\n      <th></th>\n      <th></th>\n      <th>Gender</th>\n      <th>F</th>\n      <th>M</th>\n      <th>F</th>\n      <th>M</th>\n      <th>F</th>\n      <th>M</th>\n      <th>F</th>\n      <th>M</th>\n      <th>F</th>\n      <th>M</th>\n    </tr>\n    <tr>\n      <th>State</th>\n      <th>Name</th>\n      <th>Year</th>\n      <th></th>\n      <th></th>\n      <th></th>\n      <th></th>\n      <th></th>\n      <th></th>\n      <th></th>\n      <th></th>\n      <th></th>\n      <th></th>\n    </tr>\n  </thead>\n  <tbody>\n    <tr>\n      <th rowspan=\"5\" valign=\"top\">MA</th>\n      <th rowspan=\"3\" valign=\"top\">Aaden</th>\n      <th>2008</th>\n      <td>NaN</td>\n      <td>MA</td>\n      <td>NaN</td>\n      <td>M</td>\n      <td>NaN</td>\n      <td>2008.0</td>\n      <td>NaN</td>\n      <td>Aaden</td>\n      <td>NaN</td>\n      <td>10.0</td>\n    </tr>\n    <tr>\n      <th>2009</th>\n      <td>NaN</td>\n      <td>MA</td>\n      <td>NaN</td>\n      <td>M</td>\n      <td>NaN</td>\n      <td>2009.0</td>\n      <td>NaN</td>\n      <td>Aaden</td>\n      <td>NaN</td>\n      <td>25.0</td>\n    </tr>\n    <tr>\n      <th>2012</th>\n      <td>NaN</td>\n      <td>MA</td>\n      <td>NaN</td>\n      <td>M</td>\n      <td>NaN</td>\n      <td>2012.0</td>\n      <td>NaN</td>\n      <td>Aaden</td>\n      <td>NaN</td>\n      <td>5.0</td>\n    </tr>\n    <tr>\n      <th rowspan=\"2\" valign=\"top\">Aadhya</th>\n      <th>2013</th>\n      <td>MA</td>\n      <td>NaN</td>\n      <td>F</td>\n      <td>NaN</td>\n      <td>2013.0</td>\n      <td>NaN</td>\n      <td>Aadhya</td>\n      <td>NaN</td>\n      <td>8.0</td>\n      <td>NaN</td>\n    </tr>\n    <tr>\n      <th>2014</th>\n      <td>MA</td>\n      <td>NaN</td>\n      <td>F</td>\n      <td>NaN</td>\n      <td>2014.0</td>\n      <td>NaN</td>\n      <td>Aadhya</td>\n      <td>NaN</td>\n      <td>7.0</td>\n      <td>NaN</td>\n    </tr>\n    <tr>\n      <th>...</th>\n      <th>...</th>\n      <th>...</th>\n      <td>...</td>\n      <td>...</td>\n      <td>...</td>\n      <td>...</td>\n      <td>...</td>\n      <td>...</td>\n      <td>...</td>\n      <td>...</td>\n      <td>...</td>\n      <td>...</td>\n    </tr>\n    <tr>\n      <th rowspan=\"5\" valign=\"top\">VT</th>\n      <th rowspan=\"5\" valign=\"top\">Zoey</th>\n      <th>2015</th>\n      <td>VT</td>\n      <td>NaN</td>\n      <td>F</td>\n      <td>NaN</td>\n      <td>2015.0</td>\n      <td>NaN</td>\n      <td>Zoey</td>\n      <td>NaN</td>\n      <td>10.0</td>\n      <td>NaN</td>\n    </tr>\n    <tr>\n      <th>2016</th>\n      <td>VT</td>\n      <td>NaN</td>\n      <td>F</td>\n      <td>NaN</td>\n      <td>2016.0</td>\n      <td>NaN</td>\n      <td>Zoey</td>\n      <td>NaN</td>\n      <td>12.0</td>\n      <td>NaN</td>\n    </tr>\n    <tr>\n      <th>2017</th>\n      <td>VT</td>\n      <td>NaN</td>\n      <td>F</td>\n      <td>NaN</td>\n      <td>2017.0</td>\n      <td>NaN</td>\n      <td>Zoey</td>\n      <td>NaN</td>\n      <td>8.0</td>\n      <td>NaN</td>\n    </tr>\n    <tr>\n      <th>2020</th>\n      <td>VT</td>\n      <td>NaN</td>\n      <td>F</td>\n      <td>NaN</td>\n      <td>2020.0</td>\n      <td>NaN</td>\n      <td>Zoey</td>\n      <td>NaN</td>\n      <td>9.0</td>\n      <td>NaN</td>\n    </tr>\n    <tr>\n      <th>2021</th>\n      <td>VT</td>\n      <td>NaN</td>\n      <td>F</td>\n      <td>NaN</td>\n      <td>2021.0</td>\n      <td>NaN</td>\n      <td>Zoey</td>\n      <td>NaN</td>\n      <td>11.0</td>\n      <td>NaN</td>\n    </tr>\n  </tbody>\n</table>\n<p>240544 rows × 10 columns</p>\n</div>"
     },
     "execution_count": 50,
     "metadata": {},
     "output_type": "execute_result"
    }
   ],
   "source": [
    "# When we unstack gender, we have to create M/F columns for each field\n",
    "babynames_index = babynames_index.unstack()\n",
    "babynames_index"
   ]
  },
  {
   "cell_type": "code",
   "execution_count": null,
   "metadata": {
    "id": "sN-xvJ25ebwn",
    "outputId": "ef7e29bb-3f50-4a14-f729-b8c0b6195b13"
   },
   "outputs": [
    {
     "data": {
      "text/plain": "                  Count      \nGender                F     M\nState Name   Year            \nMA    Aaden  2008   NaN  10.0\n             2009   NaN  25.0\n             2012   NaN   5.0\n      Aadhya 2013   8.0   NaN\n             2014   7.0   NaN\n...                 ...   ...\nVT    Zoey   2015  10.0   NaN\n             2016  12.0   NaN\n             2017   8.0   NaN\n             2020   9.0   NaN\n             2021  11.0   NaN\n\n[240544 rows x 2 columns]",
      "text/html": "<div>\n<style scoped>\n    .dataframe tbody tr th:only-of-type {\n        vertical-align: middle;\n    }\n\n    .dataframe tbody tr th {\n        vertical-align: top;\n    }\n\n    .dataframe thead tr th {\n        text-align: left;\n    }\n\n    .dataframe thead tr:last-of-type th {\n        text-align: right;\n    }\n</style>\n<table border=\"1\" class=\"dataframe\">\n  <thead>\n    <tr>\n      <th></th>\n      <th></th>\n      <th></th>\n      <th colspan=\"2\" halign=\"left\">Count</th>\n    </tr>\n    <tr>\n      <th></th>\n      <th></th>\n      <th>Gender</th>\n      <th>F</th>\n      <th>M</th>\n    </tr>\n    <tr>\n      <th>State</th>\n      <th>Name</th>\n      <th>Year</th>\n      <th></th>\n      <th></th>\n    </tr>\n  </thead>\n  <tbody>\n    <tr>\n      <th rowspan=\"5\" valign=\"top\">MA</th>\n      <th rowspan=\"3\" valign=\"top\">Aaden</th>\n      <th>2008</th>\n      <td>NaN</td>\n      <td>10.0</td>\n    </tr>\n    <tr>\n      <th>2009</th>\n      <td>NaN</td>\n      <td>25.0</td>\n    </tr>\n    <tr>\n      <th>2012</th>\n      <td>NaN</td>\n      <td>5.0</td>\n    </tr>\n    <tr>\n      <th rowspan=\"2\" valign=\"top\">Aadhya</th>\n      <th>2013</th>\n      <td>8.0</td>\n      <td>NaN</td>\n    </tr>\n    <tr>\n      <th>2014</th>\n      <td>7.0</td>\n      <td>NaN</td>\n    </tr>\n    <tr>\n      <th>...</th>\n      <th>...</th>\n      <th>...</th>\n      <td>...</td>\n      <td>...</td>\n    </tr>\n    <tr>\n      <th rowspan=\"5\" valign=\"top\">VT</th>\n      <th rowspan=\"5\" valign=\"top\">Zoey</th>\n      <th>2015</th>\n      <td>10.0</td>\n      <td>NaN</td>\n    </tr>\n    <tr>\n      <th>2016</th>\n      <td>12.0</td>\n      <td>NaN</td>\n    </tr>\n    <tr>\n      <th>2017</th>\n      <td>8.0</td>\n      <td>NaN</td>\n    </tr>\n    <tr>\n      <th>2020</th>\n      <td>9.0</td>\n      <td>NaN</td>\n    </tr>\n    <tr>\n      <th>2021</th>\n      <td>11.0</td>\n      <td>NaN</td>\n    </tr>\n  </tbody>\n</table>\n<p>240544 rows × 2 columns</p>\n</div>"
     },
     "execution_count": 51,
     "metadata": {},
     "output_type": "execute_result"
    }
   ],
   "source": [
    "# When can drop those fields\n",
    "babynames_index = babynames_index.drop([\"State\", \"Name\", \"Year\", \"Gender\"], axis=1)\n",
    "babynames_index"
   ]
  },
  {
   "cell_type": "code",
   "execution_count": null,
   "metadata": {
    "id": "p9ErKqtvebwn",
    "outputId": "cdecefff-9951-4390-89fa-908f8013c03c"
   },
   "outputs": [
    {
     "data": {
      "text/plain": "       State    Name  Year Count      \nGender                         F     M\n0         MA   Aaden  2008   NaN  10.0\n1         MA   Aaden  2009   NaN  25.0\n2         MA   Aaden  2012   NaN   5.0\n3         MA  Aadhya  2013   8.0   NaN\n4         MA  Aadhya  2014   7.0   NaN\n...      ...     ...   ...   ...   ...\n240539    VT    Zoey  2015  10.0   NaN\n240540    VT    Zoey  2016  12.0   NaN\n240541    VT    Zoey  2017   8.0   NaN\n240542    VT    Zoey  2020   9.0   NaN\n240543    VT    Zoey  2021  11.0   NaN\n\n[240544 rows x 5 columns]",
      "text/html": "<div>\n<style scoped>\n    .dataframe tbody tr th:only-of-type {\n        vertical-align: middle;\n    }\n\n    .dataframe tbody tr th {\n        vertical-align: top;\n    }\n\n    .dataframe thead tr th {\n        text-align: left;\n    }\n</style>\n<table border=\"1\" class=\"dataframe\">\n  <thead>\n    <tr>\n      <th></th>\n      <th>State</th>\n      <th>Name</th>\n      <th>Year</th>\n      <th colspan=\"2\" halign=\"left\">Count</th>\n    </tr>\n    <tr>\n      <th>Gender</th>\n      <th></th>\n      <th></th>\n      <th></th>\n      <th>F</th>\n      <th>M</th>\n    </tr>\n  </thead>\n  <tbody>\n    <tr>\n      <th>0</th>\n      <td>MA</td>\n      <td>Aaden</td>\n      <td>2008</td>\n      <td>NaN</td>\n      <td>10.0</td>\n    </tr>\n    <tr>\n      <th>1</th>\n      <td>MA</td>\n      <td>Aaden</td>\n      <td>2009</td>\n      <td>NaN</td>\n      <td>25.0</td>\n    </tr>\n    <tr>\n      <th>2</th>\n      <td>MA</td>\n      <td>Aaden</td>\n      <td>2012</td>\n      <td>NaN</td>\n      <td>5.0</td>\n    </tr>\n    <tr>\n      <th>3</th>\n      <td>MA</td>\n      <td>Aadhya</td>\n      <td>2013</td>\n      <td>8.0</td>\n      <td>NaN</td>\n    </tr>\n    <tr>\n      <th>4</th>\n      <td>MA</td>\n      <td>Aadhya</td>\n      <td>2014</td>\n      <td>7.0</td>\n      <td>NaN</td>\n    </tr>\n    <tr>\n      <th>...</th>\n      <td>...</td>\n      <td>...</td>\n      <td>...</td>\n      <td>...</td>\n      <td>...</td>\n    </tr>\n    <tr>\n      <th>240539</th>\n      <td>VT</td>\n      <td>Zoey</td>\n      <td>2015</td>\n      <td>10.0</td>\n      <td>NaN</td>\n    </tr>\n    <tr>\n      <th>240540</th>\n      <td>VT</td>\n      <td>Zoey</td>\n      <td>2016</td>\n      <td>12.0</td>\n      <td>NaN</td>\n    </tr>\n    <tr>\n      <th>240541</th>\n      <td>VT</td>\n      <td>Zoey</td>\n      <td>2017</td>\n      <td>8.0</td>\n      <td>NaN</td>\n    </tr>\n    <tr>\n      <th>240542</th>\n      <td>VT</td>\n      <td>Zoey</td>\n      <td>2020</td>\n      <td>9.0</td>\n      <td>NaN</td>\n    </tr>\n    <tr>\n      <th>240543</th>\n      <td>VT</td>\n      <td>Zoey</td>\n      <td>2021</td>\n      <td>11.0</td>\n      <td>NaN</td>\n    </tr>\n  </tbody>\n</table>\n<p>240544 rows × 5 columns</p>\n</div>"
     },
     "execution_count": 52,
     "metadata": {},
     "output_type": "execute_result"
    }
   ],
   "source": [
    "babynames_index.reset_index()"
   ]
  },
  {
   "cell_type": "markdown",
   "source": [
    "## Groups\n",
    "Groups are another form of hierachical ordering of data"
   ],
   "metadata": {
    "collapsed": false
   }
  },
  {
   "cell_type": "code",
   "execution_count": 72,
   "outputs": [
    {
     "data": {
      "text/plain": "         Count\nName          \nAaden       45\nAadhya      58\nAadi         5\nAadya       34\nAaliyah   1883\n...        ...\nZyair       11\nZyaire      41\nZyla         5\nZylah        5\nZyon        14\n\n[5705 rows x 1 columns]",
      "text/html": "<div>\n<style scoped>\n    .dataframe tbody tr th:only-of-type {\n        vertical-align: middle;\n    }\n\n    .dataframe tbody tr th {\n        vertical-align: top;\n    }\n\n    .dataframe thead th {\n        text-align: right;\n    }\n</style>\n<table border=\"1\" class=\"dataframe\">\n  <thead>\n    <tr style=\"text-align: right;\">\n      <th></th>\n      <th>Count</th>\n    </tr>\n    <tr>\n      <th>Name</th>\n      <th></th>\n    </tr>\n  </thead>\n  <tbody>\n    <tr>\n      <th>Aaden</th>\n      <td>45</td>\n    </tr>\n    <tr>\n      <th>Aadhya</th>\n      <td>58</td>\n    </tr>\n    <tr>\n      <th>Aadi</th>\n      <td>5</td>\n    </tr>\n    <tr>\n      <th>Aadya</th>\n      <td>34</td>\n    </tr>\n    <tr>\n      <th>Aaliyah</th>\n      <td>1883</td>\n    </tr>\n    <tr>\n      <th>...</th>\n      <td>...</td>\n    </tr>\n    <tr>\n      <th>Zyair</th>\n      <td>11</td>\n    </tr>\n    <tr>\n      <th>Zyaire</th>\n      <td>41</td>\n    </tr>\n    <tr>\n      <th>Zyla</th>\n      <td>5</td>\n    </tr>\n    <tr>\n      <th>Zylah</th>\n      <td>5</td>\n    </tr>\n    <tr>\n      <th>Zyon</th>\n      <td>14</td>\n    </tr>\n  </tbody>\n</table>\n<p>5705 rows × 1 columns</p>\n</div>"
     },
     "execution_count": 72,
     "metadata": {},
     "output_type": "execute_result"
    }
   ],
   "source": [
    "# We can form groups from Index levels\n",
    "babynames_index.groupby(level='Name').sum()\n",
    "#babynames_index.groupby(level='State').sum()"
   ],
   "metadata": {
    "collapsed": false
   }
  },
  {
   "cell_type": "code",
   "execution_count": 44,
   "outputs": [
    {
     "data": {
      "text/plain": "      State Gender  Year   Name  Count\n23682    NH      M  1922  Bruce      7\n23807    NH      M  1923  Bruce      7\n23935    NH      M  1924  Bruce      7\n24064    NH      M  1925  Bruce      7\n24192    NH      M  1926  Bruce      5\n...     ...    ...   ...    ...    ...\n24309    VT      M  1984  Bruce      5\n24439    VT      M  1985  Bruce      5\n24569    VT      M  1986  Bruce      5\n24811    VT      M  1988  Bruce      6\n24940    VT      M  1989  Bruce      6\n\n[314 rows x 5 columns]",
      "text/html": "<div>\n<style scoped>\n    .dataframe tbody tr th:only-of-type {\n        vertical-align: middle;\n    }\n\n    .dataframe tbody tr th {\n        vertical-align: top;\n    }\n\n    .dataframe thead th {\n        text-align: right;\n    }\n</style>\n<table border=\"1\" class=\"dataframe\">\n  <thead>\n    <tr style=\"text-align: right;\">\n      <th></th>\n      <th>State</th>\n      <th>Gender</th>\n      <th>Year</th>\n      <th>Name</th>\n      <th>Count</th>\n    </tr>\n  </thead>\n  <tbody>\n    <tr>\n      <th>23682</th>\n      <td>NH</td>\n      <td>M</td>\n      <td>1922</td>\n      <td>Bruce</td>\n      <td>7</td>\n    </tr>\n    <tr>\n      <th>23807</th>\n      <td>NH</td>\n      <td>M</td>\n      <td>1923</td>\n      <td>Bruce</td>\n      <td>7</td>\n    </tr>\n    <tr>\n      <th>23935</th>\n      <td>NH</td>\n      <td>M</td>\n      <td>1924</td>\n      <td>Bruce</td>\n      <td>7</td>\n    </tr>\n    <tr>\n      <th>24064</th>\n      <td>NH</td>\n      <td>M</td>\n      <td>1925</td>\n      <td>Bruce</td>\n      <td>7</td>\n    </tr>\n    <tr>\n      <th>24192</th>\n      <td>NH</td>\n      <td>M</td>\n      <td>1926</td>\n      <td>Bruce</td>\n      <td>5</td>\n    </tr>\n    <tr>\n      <th>...</th>\n      <td>...</td>\n      <td>...</td>\n      <td>...</td>\n      <td>...</td>\n      <td>...</td>\n    </tr>\n    <tr>\n      <th>24309</th>\n      <td>VT</td>\n      <td>M</td>\n      <td>1984</td>\n      <td>Bruce</td>\n      <td>5</td>\n    </tr>\n    <tr>\n      <th>24439</th>\n      <td>VT</td>\n      <td>M</td>\n      <td>1985</td>\n      <td>Bruce</td>\n      <td>5</td>\n    </tr>\n    <tr>\n      <th>24569</th>\n      <td>VT</td>\n      <td>M</td>\n      <td>1986</td>\n      <td>Bruce</td>\n      <td>5</td>\n    </tr>\n    <tr>\n      <th>24811</th>\n      <td>VT</td>\n      <td>M</td>\n      <td>1988</td>\n      <td>Bruce</td>\n      <td>6</td>\n    </tr>\n    <tr>\n      <th>24940</th>\n      <td>VT</td>\n      <td>M</td>\n      <td>1989</td>\n      <td>Bruce</td>\n      <td>6</td>\n    </tr>\n  </tbody>\n</table>\n<p>314 rows × 5 columns</p>\n</div>"
     },
     "execution_count": 44,
     "metadata": {},
     "output_type": "execute_result"
    }
   ],
   "source": [
    "# Or we can build the group directly from the original data file\n",
    "name_groups = babynames.groupby('Name')\n",
    "bruce_group = name_groups.get_group('Bruce')\n",
    "bruce_group"
   ],
   "metadata": {
    "collapsed": false
   }
  },
  {
   "cell_type": "code",
   "execution_count": 50,
   "outputs": [
    {
     "data": {
      "text/plain": "    State Gender  Year   Name  Count\n0      NH      M  1922  Bruce      7\n1      NH      M  1923  Bruce      7\n2      NH      M  1924  Bruce      7\n3      NH      M  1925  Bruce      7\n4      NH      M  1926  Bruce      5\n..    ...    ...   ...    ...    ...\n309    VT      M  1984  Bruce      5\n310    VT      M  1985  Bruce      5\n311    VT      M  1986  Bruce      5\n312    VT      M  1988  Bruce      6\n313    VT      M  1989  Bruce      6\n\n[314 rows x 5 columns]",
      "text/html": "<div>\n<style scoped>\n    .dataframe tbody tr th:only-of-type {\n        vertical-align: middle;\n    }\n\n    .dataframe tbody tr th {\n        vertical-align: top;\n    }\n\n    .dataframe thead th {\n        text-align: right;\n    }\n</style>\n<table border=\"1\" class=\"dataframe\">\n  <thead>\n    <tr style=\"text-align: right;\">\n      <th></th>\n      <th>State</th>\n      <th>Gender</th>\n      <th>Year</th>\n      <th>Name</th>\n      <th>Count</th>\n    </tr>\n  </thead>\n  <tbody>\n    <tr>\n      <th>0</th>\n      <td>NH</td>\n      <td>M</td>\n      <td>1922</td>\n      <td>Bruce</td>\n      <td>7</td>\n    </tr>\n    <tr>\n      <th>1</th>\n      <td>NH</td>\n      <td>M</td>\n      <td>1923</td>\n      <td>Bruce</td>\n      <td>7</td>\n    </tr>\n    <tr>\n      <th>2</th>\n      <td>NH</td>\n      <td>M</td>\n      <td>1924</td>\n      <td>Bruce</td>\n      <td>7</td>\n    </tr>\n    <tr>\n      <th>3</th>\n      <td>NH</td>\n      <td>M</td>\n      <td>1925</td>\n      <td>Bruce</td>\n      <td>7</td>\n    </tr>\n    <tr>\n      <th>4</th>\n      <td>NH</td>\n      <td>M</td>\n      <td>1926</td>\n      <td>Bruce</td>\n      <td>5</td>\n    </tr>\n    <tr>\n      <th>...</th>\n      <td>...</td>\n      <td>...</td>\n      <td>...</td>\n      <td>...</td>\n      <td>...</td>\n    </tr>\n    <tr>\n      <th>309</th>\n      <td>VT</td>\n      <td>M</td>\n      <td>1984</td>\n      <td>Bruce</td>\n      <td>5</td>\n    </tr>\n    <tr>\n      <th>310</th>\n      <td>VT</td>\n      <td>M</td>\n      <td>1985</td>\n      <td>Bruce</td>\n      <td>5</td>\n    </tr>\n    <tr>\n      <th>311</th>\n      <td>VT</td>\n      <td>M</td>\n      <td>1986</td>\n      <td>Bruce</td>\n      <td>5</td>\n    </tr>\n    <tr>\n      <th>312</th>\n      <td>VT</td>\n      <td>M</td>\n      <td>1988</td>\n      <td>Bruce</td>\n      <td>6</td>\n    </tr>\n    <tr>\n      <th>313</th>\n      <td>VT</td>\n      <td>M</td>\n      <td>1989</td>\n      <td>Bruce</td>\n      <td>6</td>\n    </tr>\n  </tbody>\n</table>\n<p>314 rows × 5 columns</p>\n</div>"
     },
     "execution_count": 50,
     "metadata": {},
     "output_type": "execute_result"
    }
   ],
   "source": [
    "bruce_group.reset_index(drop=True)"
   ],
   "metadata": {
    "collapsed": false
   }
  },
  {
   "cell_type": "code",
   "execution_count": 46,
   "outputs": [
    {
     "data": {
      "text/plain": "State     VT\nCount    578\ndtype: object"
     },
     "execution_count": 46,
     "metadata": {},
     "output_type": "execute_result"
    }
   ],
   "source": [
    "#What state had the maximum number of Bruces\n",
    "bruce_group[['State','Count']].max()"
   ],
   "metadata": {
    "collapsed": false
   }
  },
  {
   "cell_type": "code",
   "execution_count": 48,
   "outputs": [
    {
     "data": {
      "text/plain": "               Year  Count\nName   State              \nAaden  MA      6029     40\n       ME      2009      5\nAadhya MA     16136     58\nAadi   MA      2007      5\nAadya  MA     10085     34\n...             ...    ...\nZyair  MA      4041     11\nZyaire MA     10094     41\nZyla   MA      2021      5\nZylah  MA      2020      5\nZyon   MA      4034     14\n\n[11155 rows x 2 columns]",
      "text/html": "<div>\n<style scoped>\n    .dataframe tbody tr th:only-of-type {\n        vertical-align: middle;\n    }\n\n    .dataframe tbody tr th {\n        vertical-align: top;\n    }\n\n    .dataframe thead th {\n        text-align: right;\n    }\n</style>\n<table border=\"1\" class=\"dataframe\">\n  <thead>\n    <tr style=\"text-align: right;\">\n      <th></th>\n      <th></th>\n      <th>Year</th>\n      <th>Count</th>\n    </tr>\n    <tr>\n      <th>Name</th>\n      <th>State</th>\n      <th></th>\n      <th></th>\n    </tr>\n  </thead>\n  <tbody>\n    <tr>\n      <th rowspan=\"2\" valign=\"top\">Aaden</th>\n      <th>MA</th>\n      <td>6029</td>\n      <td>40</td>\n    </tr>\n    <tr>\n      <th>ME</th>\n      <td>2009</td>\n      <td>5</td>\n    </tr>\n    <tr>\n      <th>Aadhya</th>\n      <th>MA</th>\n      <td>16136</td>\n      <td>58</td>\n    </tr>\n    <tr>\n      <th>Aadi</th>\n      <th>MA</th>\n      <td>2007</td>\n      <td>5</td>\n    </tr>\n    <tr>\n      <th>Aadya</th>\n      <th>MA</th>\n      <td>10085</td>\n      <td>34</td>\n    </tr>\n    <tr>\n      <th>...</th>\n      <th>...</th>\n      <td>...</td>\n      <td>...</td>\n    </tr>\n    <tr>\n      <th>Zyair</th>\n      <th>MA</th>\n      <td>4041</td>\n      <td>11</td>\n    </tr>\n    <tr>\n      <th>Zyaire</th>\n      <th>MA</th>\n      <td>10094</td>\n      <td>41</td>\n    </tr>\n    <tr>\n      <th>Zyla</th>\n      <th>MA</th>\n      <td>2021</td>\n      <td>5</td>\n    </tr>\n    <tr>\n      <th>Zylah</th>\n      <th>MA</th>\n      <td>2020</td>\n      <td>5</td>\n    </tr>\n    <tr>\n      <th>Zyon</th>\n      <th>MA</th>\n      <td>4034</td>\n      <td>14</td>\n    </tr>\n  </tbody>\n</table>\n<p>11155 rows × 2 columns</p>\n</div>"
     },
     "execution_count": 48,
     "metadata": {},
     "output_type": "execute_result"
    }
   ],
   "source": [
    "babynames.groupby(['Name','State']).sum()\n",
    "# to get rid of sum years : babynames.groupby(['Name','State']).mean()['Count']"
   ],
   "metadata": {
    "collapsed": false
   }
  },
  {
   "cell_type": "code",
   "execution_count": 57,
   "outputs": [
    {
     "data": {
      "text/plain": "      State Gender  Year   Name  Count\n29198    ME      M  1917  Bruce      5\n29392    ME      M  1918  Bruce      6\n30476    ME      M  1923  Bruce      5\n30612    ME      M  1924  Bruce     12\n30868    ME      M  1925  Bruce      8\n...     ...    ...   ...    ...    ...\n44528    ME      M  1991  Bruce     12\n44764    ME      M  1992  Bruce      8\n45231    ME      M  1994  Bruce      5\n45431    ME      M  1995  Bruce      5\n46047    ME      M  1998  Bruce      5\n\n[75 rows x 5 columns]",
      "text/html": "<div>\n<style scoped>\n    .dataframe tbody tr th:only-of-type {\n        vertical-align: middle;\n    }\n\n    .dataframe tbody tr th {\n        vertical-align: top;\n    }\n\n    .dataframe thead th {\n        text-align: right;\n    }\n</style>\n<table border=\"1\" class=\"dataframe\">\n  <thead>\n    <tr style=\"text-align: right;\">\n      <th></th>\n      <th>State</th>\n      <th>Gender</th>\n      <th>Year</th>\n      <th>Name</th>\n      <th>Count</th>\n    </tr>\n  </thead>\n  <tbody>\n    <tr>\n      <th>29198</th>\n      <td>ME</td>\n      <td>M</td>\n      <td>1917</td>\n      <td>Bruce</td>\n      <td>5</td>\n    </tr>\n    <tr>\n      <th>29392</th>\n      <td>ME</td>\n      <td>M</td>\n      <td>1918</td>\n      <td>Bruce</td>\n      <td>6</td>\n    </tr>\n    <tr>\n      <th>30476</th>\n      <td>ME</td>\n      <td>M</td>\n      <td>1923</td>\n      <td>Bruce</td>\n      <td>5</td>\n    </tr>\n    <tr>\n      <th>30612</th>\n      <td>ME</td>\n      <td>M</td>\n      <td>1924</td>\n      <td>Bruce</td>\n      <td>12</td>\n    </tr>\n    <tr>\n      <th>30868</th>\n      <td>ME</td>\n      <td>M</td>\n      <td>1925</td>\n      <td>Bruce</td>\n      <td>8</td>\n    </tr>\n    <tr>\n      <th>...</th>\n      <td>...</td>\n      <td>...</td>\n      <td>...</td>\n      <td>...</td>\n      <td>...</td>\n    </tr>\n    <tr>\n      <th>44528</th>\n      <td>ME</td>\n      <td>M</td>\n      <td>1991</td>\n      <td>Bruce</td>\n      <td>12</td>\n    </tr>\n    <tr>\n      <th>44764</th>\n      <td>ME</td>\n      <td>M</td>\n      <td>1992</td>\n      <td>Bruce</td>\n      <td>8</td>\n    </tr>\n    <tr>\n      <th>45231</th>\n      <td>ME</td>\n      <td>M</td>\n      <td>1994</td>\n      <td>Bruce</td>\n      <td>5</td>\n    </tr>\n    <tr>\n      <th>45431</th>\n      <td>ME</td>\n      <td>M</td>\n      <td>1995</td>\n      <td>Bruce</td>\n      <td>5</td>\n    </tr>\n    <tr>\n      <th>46047</th>\n      <td>ME</td>\n      <td>M</td>\n      <td>1998</td>\n      <td>Bruce</td>\n      <td>5</td>\n    </tr>\n  </tbody>\n</table>\n<p>75 rows × 5 columns</p>\n</div>"
     },
     "execution_count": 57,
     "metadata": {},
     "output_type": "execute_result"
    }
   ],
   "source": [
    "babynames.groupby(['Name','State']).get_group(('Bruce','ME'))"
   ],
   "metadata": {
    "collapsed": false
   }
  },
  {
   "cell_type": "code",
   "execution_count": 58,
   "outputs": [
    {
     "data": {
      "text/plain": "State        ME\nGender        M\nYear       1998\nName      Bruce\nCount       156\ndtype: object"
     },
     "execution_count": 58,
     "metadata": {},
     "output_type": "execute_result"
    }
   ],
   "source": [
    "# Finds the maximum in each numeric column\n",
    "babynames.groupby(['Name','State']).get_group(('Bruce','ME')).max()"
   ],
   "metadata": {
    "collapsed": false
   }
  },
  {
   "cell_type": "code",
   "execution_count": null,
   "outputs": [],
   "source": [],
   "metadata": {
    "collapsed": false
   }
  }
 ],
 "metadata": {
  "kernelspec": {
   "display_name": "Python 3",
   "language": "python",
   "name": "python3"
  },
  "language_info": {
   "codemirror_mode": {
    "name": "ipython",
    "version": 3
   },
   "file_extension": ".py",
   "mimetype": "text/x-python",
   "name": "python",
   "nbconvert_exporter": "python",
   "pygments_lexer": "ipython3",
   "version": "3.7.6"
  },
  "colab": {
   "provenance": [],
   "include_colab_link": true
  }
 },
 "nbformat": 4,
 "nbformat_minor": 0
}
