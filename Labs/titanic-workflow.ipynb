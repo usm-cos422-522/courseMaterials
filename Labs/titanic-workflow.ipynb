{
  "nbformat": 4,
  "nbformat_minor": 0,
  "metadata": {
    "kernelspec": {
      "display_name": "Python 3",
      "language": "python",
      "name": "python3"
    },
    "language_info": {
      "codemirror_mode": {
        "name": "ipython",
        "version": 3
      },
      "file_extension": ".py",
      "mimetype": "text/x-python",
      "name": "python",
      "nbconvert_exporter": "python",
      "pygments_lexer": "ipython3",
      "version": "3.7.6"
    },
    "colab": {
      "name": "titanic-workflow.ipynb",
      "provenance": []
    }
  },
  "cells": [
    {
      "cell_type": "markdown",
      "metadata": {
        "id": "2CR-MXkccWNg"
      },
      "source": [
        "<a href=\"https://colab.research.google.com/github/usm-cos422-522/courseMaterials/blob/main/Labs/titanic-workflow.ipynb\" target=\"_parent\">\n",
        "  <img src=\"https://colab.research.google.com/assets/colab-badge.svg\" alt=\"Open In Colab\"/>\n",
        "</a>"
      ]
    },
    {
      "cell_type": "markdown",
      "metadata": {
        "_uuid": "ed8c7b7e0279196a2088d22b1f0780e5139c1862",
        "id": "eplVC0FGcWNk"
      },
      "source": [
        "# <center> Titanic Survival Prediction:  Workflow </center>"
      ]
    },
    {
      "cell_type": "markdown",
      "metadata": {
        "_uuid": "d55df81bd31b6126a780d3371329ce69716a41d6",
        "id": "F9Y2ub0YcWNl"
      },
      "source": [
        "This notebook shows some of the essential steps of a workflow for building predictive models. The notebook provides a few examples of each step. The workflow includes:\n",
        "1. **Problem Definition**:  A clear definition of the problem enables us to identify the appropriate data to gather and technique(s) to use in order to solve the problem. For many problems this many require background reading, discussion with domain experts, and layered problem specification. \n",
        "2. **Data Gathering**: We have to know which data to use, where to gather them, and how to make them useful to solve our problem. In many cases, data from multiple sources can provide deeper insights. \n",
        "3. **Data Wrangling**: Raw data are generally incomplete, inconsistent, and contain many errors. Thus, we need to prepare the data for further processing. Data wrangling is the process of cleaning, structuring, and enriching raw data into another format with the intent of making it more appropriate and valuable for a variety of downstream purposes, such as analytics.\n",
        "4. **Exploratory Data Analysis**: Exploratory data analysis (EDA) is an approach of performing initial investigations on our data. EDA normally has descriptive nature and uses graphical statistics to discover patterns, to identify anomalies, to test hypothesis, and to check assumptions regarding our data. \n",
        "5. **Data Modelling**:  Data modelling involves selecting and optiming the machine learning models that generate the best predictive performance based on the data we have. \n",
        "6. **Prediction**: Once we have developed the best predictive model, we can deploy it to make predictions.\n",
        "\n"
      ]
    },
    {
      "cell_type": "markdown",
      "metadata": {
        "_uuid": "ad0ea81472575ac777f14fba5a28a23ee10345e7",
        "id": "GNGUXIdjcWNm"
      },
      "source": [
        "<a id='section 1.0.'></a>"
      ]
    },
    {
      "cell_type": "markdown",
      "metadata": {
        "_uuid": "960d0cd162168e6e419bbe5f16024a56379fbaf2",
        "id": "mb9OgBHLcWNo"
      },
      "source": [
        "# 1.0. Problem Definition\n",
        " On April 15, 1912, during her maiden voyage, the Titanic sank after colliding with an iceberg, killing 1502 out of 2224 passengers and crew. This sensational tragedy shocked the international community and led to better safety regulations for ships.\n",
        "\n",
        "One of the reasons that the shipwreck led to such loss of life was that there were not enough lifeboats for the passengers and crew. Although there was some element of luck involved in surviving the sinking, some groups of people were more likely to survive than others.\n",
        "\n",
        "In this challenge, we are to perform analysis of what sorts of people were likely to survive. In particular, we ask you to apply the tools of machine learning to predict which passengers survived the tragedy.\n",
        "\n",
        "Before moving to the next section, we need to import all packages required to do the analysis by calling the following:"
      ]
    },
    {
      "cell_type": "markdown",
      "metadata": {
        "_uuid": "62817c47c04fc4506a6a2c51fcfd0541279c125b",
        "id": "0tKPT4tqcWNp"
      },
      "source": [
        "<a id='section 2.0.'></a>"
      ]
    },
    {
      "cell_type": "markdown",
      "metadata": {
        "_uuid": "287cfab8a444820ebfe7d67fbb6c6bd978f25f78",
        "id": "qIeKndCJcWNp"
      },
      "source": [
        "# 2.0. Data Gathering and Import\n"
      ]
    },
    {
      "cell_type": "markdown",
      "metadata": {
        "_uuid": "50707b57e18070955cadeb8ac494b5a3432f7160",
        "id": "j_l44YkCcWNq"
      },
      "source": [
        "<a id='section 2.1.'></a>"
      ]
    },
    {
      "cell_type": "markdown",
      "metadata": {
        "_uuid": "5c1ad3ca18c051d198b5009e654a2a04b94217f8",
        "id": "L6W5Jmu7cWNq"
      },
      "source": [
        "## 2.1. Gathering and Importing Data\n",
        "The train and test dataset originated in Kaggle from this [link](https://www.kaggle.com/c/titanic/data). We will import a copy of the datasets from the book's Github site:"
      ]
    },
    {
      "cell_type": "code",
      "metadata": {
        "id": "cSG2r7ducWNr"
      },
      "source": [
        "# Importing data analysis packages\n",
        "import pandas as pd\n",
        "import numpy as np\n",
        "\n",
        "# Importing data visualization packages\n",
        "import seaborn as sns\n",
        "import matplotlib.pyplot as plt\n",
        "%matplotlib inline\n",
        "sns.set(style=\"whitegrid\")\n",
        "\n",
        "from sklearn.model_selection import cross_validate, cross_val_score\n",
        "\n",
        "# Importing machine learning packages\n",
        "from sklearn.linear_model import LogisticRegression\n",
        "\n",
        "# Miscellaneous\n",
        "import time\n",
        "import warnings\n",
        "warnings.filterwarnings('ignore')\n",
        "pd.set_option('max_colwidth',80)"
      ],
      "execution_count": 27,
      "outputs": []
    },
    {
      "cell_type": "code",
      "metadata": {
        "_uuid": "034577502c05786b37a0221ab3f4e034ccb345d9",
        "id": "zzBBgNZAcWNs"
      },
      "source": [
        "# Importing datasets\n",
        "url = 'https://raw.githubusercontent.com/wesm/pydata-book/2nd-edition/datasets/titanic/train.csv'\n",
        "df_train = pd.read_csv(url)\n"
      ],
      "execution_count": 2,
      "outputs": []
    },
    {
      "cell_type": "markdown",
      "metadata": {
        "_uuid": "eea2453dc3a65c91135403adee2c9e0db2e0d476",
        "id": "NF_LlBi-cWNt"
      },
      "source": [
        "<a id='section 2.2.'></a>"
      ]
    },
    {
      "cell_type": "markdown",
      "metadata": {
        "_uuid": "5dae965b3925d173a294090592494d41f3d9de1c",
        "id": "-1gfHc89cWNt"
      },
      "source": [
        "## 2.2. Exploring Data Structure and Features\n",
        "Before performing data analysis, we often need to know the structure of our data. Therefore, we perform the following:\n",
        "- Viewing a small part of our datasets\n",
        "- Viewing data shape\n",
        "- Describing the features contained in the datasets"
      ]
    },
    {
      "cell_type": "markdown",
      "metadata": {
        "_uuid": "b117163ab1adb642ee0b16fa7f33d7b2052ada7d",
        "id": "JnszZN4lcWNt"
      },
      "source": [
        "<a id='Viewing a small part of the dataset'></a>"
      ]
    },
    {
      "cell_type": "markdown",
      "metadata": {
        "_uuid": "79a2b004624ab1e0e9d46c044e66a7d28423d501",
        "id": "MlSyyEYRcWNu"
      },
      "source": [
        "### Viewing a small part of the dataset "
      ]
    },
    {
      "cell_type": "code",
      "metadata": {
        "_uuid": "7610805fc8fea47f14571c49b06b128c223fd01a",
        "id": "agSFGycxcWNu",
        "colab": {
          "base_uri": "https://localhost:8080/",
          "height": 442
        },
        "outputId": "f07bcae7-2edc-4d70-bfcd-d0899fa38c2e"
      },
      "source": [
        "df_train.head()"
      ],
      "execution_count": 3,
      "outputs": [
        {
          "output_type": "execute_result",
          "data": {
            "text/html": [
              "<div>\n",
              "<style scoped>\n",
              "    .dataframe tbody tr th:only-of-type {\n",
              "        vertical-align: middle;\n",
              "    }\n",
              "\n",
              "    .dataframe tbody tr th {\n",
              "        vertical-align: top;\n",
              "    }\n",
              "\n",
              "    .dataframe thead th {\n",
              "        text-align: right;\n",
              "    }\n",
              "</style>\n",
              "<table border=\"1\" class=\"dataframe\">\n",
              "  <thead>\n",
              "    <tr style=\"text-align: right;\">\n",
              "      <th></th>\n",
              "      <th>PassengerId</th>\n",
              "      <th>Survived</th>\n",
              "      <th>Pclass</th>\n",
              "      <th>Name</th>\n",
              "      <th>Sex</th>\n",
              "      <th>Age</th>\n",
              "      <th>SibSp</th>\n",
              "      <th>Parch</th>\n",
              "      <th>Ticket</th>\n",
              "      <th>Fare</th>\n",
              "      <th>Cabin</th>\n",
              "      <th>Embarked</th>\n",
              "    </tr>\n",
              "  </thead>\n",
              "  <tbody>\n",
              "    <tr>\n",
              "      <th>0</th>\n",
              "      <td>1</td>\n",
              "      <td>0</td>\n",
              "      <td>3</td>\n",
              "      <td>Braund, Mr. Owen Harris</td>\n",
              "      <td>male</td>\n",
              "      <td>22.0</td>\n",
              "      <td>1</td>\n",
              "      <td>0</td>\n",
              "      <td>A/5 21171</td>\n",
              "      <td>7.2500</td>\n",
              "      <td>NaN</td>\n",
              "      <td>S</td>\n",
              "    </tr>\n",
              "    <tr>\n",
              "      <th>1</th>\n",
              "      <td>2</td>\n",
              "      <td>1</td>\n",
              "      <td>1</td>\n",
              "      <td>Cumings, Mrs. John Bradley (Florence Briggs Thayer)</td>\n",
              "      <td>female</td>\n",
              "      <td>38.0</td>\n",
              "      <td>1</td>\n",
              "      <td>0</td>\n",
              "      <td>PC 17599</td>\n",
              "      <td>71.2833</td>\n",
              "      <td>C85</td>\n",
              "      <td>C</td>\n",
              "    </tr>\n",
              "    <tr>\n",
              "      <th>2</th>\n",
              "      <td>3</td>\n",
              "      <td>1</td>\n",
              "      <td>3</td>\n",
              "      <td>Heikkinen, Miss. Laina</td>\n",
              "      <td>female</td>\n",
              "      <td>26.0</td>\n",
              "      <td>0</td>\n",
              "      <td>0</td>\n",
              "      <td>STON/O2. 3101282</td>\n",
              "      <td>7.9250</td>\n",
              "      <td>NaN</td>\n",
              "      <td>S</td>\n",
              "    </tr>\n",
              "    <tr>\n",
              "      <th>3</th>\n",
              "      <td>4</td>\n",
              "      <td>1</td>\n",
              "      <td>1</td>\n",
              "      <td>Futrelle, Mrs. Jacques Heath (Lily May Peel)</td>\n",
              "      <td>female</td>\n",
              "      <td>35.0</td>\n",
              "      <td>1</td>\n",
              "      <td>0</td>\n",
              "      <td>113803</td>\n",
              "      <td>53.1000</td>\n",
              "      <td>C123</td>\n",
              "      <td>S</td>\n",
              "    </tr>\n",
              "    <tr>\n",
              "      <th>4</th>\n",
              "      <td>5</td>\n",
              "      <td>0</td>\n",
              "      <td>3</td>\n",
              "      <td>Allen, Mr. William Henry</td>\n",
              "      <td>male</td>\n",
              "      <td>35.0</td>\n",
              "      <td>0</td>\n",
              "      <td>0</td>\n",
              "      <td>373450</td>\n",
              "      <td>8.0500</td>\n",
              "      <td>NaN</td>\n",
              "      <td>S</td>\n",
              "    </tr>\n",
              "  </tbody>\n",
              "</table>\n",
              "</div>"
            ],
            "text/plain": [
              "   PassengerId  Survived  Pclass  ...     Fare Cabin  Embarked\n",
              "0            1         0       3  ...   7.2500   NaN         S\n",
              "1            2         1       1  ...  71.2833   C85         C\n",
              "2            3         1       3  ...   7.9250   NaN         S\n",
              "3            4         1       1  ...  53.1000  C123         S\n",
              "4            5         0       3  ...   8.0500   NaN         S\n",
              "\n",
              "[5 rows x 12 columns]"
            ]
          },
          "metadata": {},
          "execution_count": 3
        }
      ]
    },
    {
      "cell_type": "code",
      "metadata": {
        "_uuid": "452d2f6beaca0551d4b1c20be670720b2b4eb02c",
        "id": "Io4noJhDcWNv",
        "outputId": "bfb66527-ac2f-41be-a699-1932ba5f0138"
      },
      "source": [
        "df_train.tail()"
      ],
      "execution_count": null,
      "outputs": [
        {
          "output_type": "execute_result",
          "data": {
            "text/html": [
              "<div>\n",
              "<style scoped>\n",
              "    .dataframe tbody tr th:only-of-type {\n",
              "        vertical-align: middle;\n",
              "    }\n",
              "\n",
              "    .dataframe tbody tr th {\n",
              "        vertical-align: top;\n",
              "    }\n",
              "\n",
              "    .dataframe thead th {\n",
              "        text-align: right;\n",
              "    }\n",
              "</style>\n",
              "<table border=\"1\" class=\"dataframe\">\n",
              "  <thead>\n",
              "    <tr style=\"text-align: right;\">\n",
              "      <th></th>\n",
              "      <th>PassengerId</th>\n",
              "      <th>Survived</th>\n",
              "      <th>Pclass</th>\n",
              "      <th>Name</th>\n",
              "      <th>Sex</th>\n",
              "      <th>Age</th>\n",
              "      <th>SibSp</th>\n",
              "      <th>Parch</th>\n",
              "      <th>Ticket</th>\n",
              "      <th>Fare</th>\n",
              "      <th>Cabin</th>\n",
              "      <th>Embarked</th>\n",
              "    </tr>\n",
              "  </thead>\n",
              "  <tbody>\n",
              "    <tr>\n",
              "      <th>886</th>\n",
              "      <td>887</td>\n",
              "      <td>0</td>\n",
              "      <td>2</td>\n",
              "      <td>Montvila, Rev. Juozas</td>\n",
              "      <td>male</td>\n",
              "      <td>27.0</td>\n",
              "      <td>0</td>\n",
              "      <td>0</td>\n",
              "      <td>211536</td>\n",
              "      <td>13.00</td>\n",
              "      <td>NaN</td>\n",
              "      <td>S</td>\n",
              "    </tr>\n",
              "    <tr>\n",
              "      <th>887</th>\n",
              "      <td>888</td>\n",
              "      <td>1</td>\n",
              "      <td>1</td>\n",
              "      <td>Graham, Miss. Margaret Edith</td>\n",
              "      <td>female</td>\n",
              "      <td>19.0</td>\n",
              "      <td>0</td>\n",
              "      <td>0</td>\n",
              "      <td>112053</td>\n",
              "      <td>30.00</td>\n",
              "      <td>B42</td>\n",
              "      <td>S</td>\n",
              "    </tr>\n",
              "    <tr>\n",
              "      <th>888</th>\n",
              "      <td>889</td>\n",
              "      <td>0</td>\n",
              "      <td>3</td>\n",
              "      <td>Johnston, Miss. Catherine Helen \"Carrie\"</td>\n",
              "      <td>female</td>\n",
              "      <td>NaN</td>\n",
              "      <td>1</td>\n",
              "      <td>2</td>\n",
              "      <td>W./C. 6607</td>\n",
              "      <td>23.45</td>\n",
              "      <td>NaN</td>\n",
              "      <td>S</td>\n",
              "    </tr>\n",
              "    <tr>\n",
              "      <th>889</th>\n",
              "      <td>890</td>\n",
              "      <td>1</td>\n",
              "      <td>1</td>\n",
              "      <td>Behr, Mr. Karl Howell</td>\n",
              "      <td>male</td>\n",
              "      <td>26.0</td>\n",
              "      <td>0</td>\n",
              "      <td>0</td>\n",
              "      <td>111369</td>\n",
              "      <td>30.00</td>\n",
              "      <td>C148</td>\n",
              "      <td>C</td>\n",
              "    </tr>\n",
              "    <tr>\n",
              "      <th>890</th>\n",
              "      <td>891</td>\n",
              "      <td>0</td>\n",
              "      <td>3</td>\n",
              "      <td>Dooley, Mr. Patrick</td>\n",
              "      <td>male</td>\n",
              "      <td>32.0</td>\n",
              "      <td>0</td>\n",
              "      <td>0</td>\n",
              "      <td>370376</td>\n",
              "      <td>7.75</td>\n",
              "      <td>NaN</td>\n",
              "      <td>Q</td>\n",
              "    </tr>\n",
              "  </tbody>\n",
              "</table>\n",
              "</div>"
            ],
            "text/plain": [
              "     PassengerId  Survived  Pclass                                      Name  \\\n",
              "886          887         0       2                     Montvila, Rev. Juozas   \n",
              "887          888         1       1              Graham, Miss. Margaret Edith   \n",
              "888          889         0       3  Johnston, Miss. Catherine Helen \"Carrie\"   \n",
              "889          890         1       1                     Behr, Mr. Karl Howell   \n",
              "890          891         0       3                       Dooley, Mr. Patrick   \n",
              "\n",
              "        Sex   Age  SibSp  Parch      Ticket   Fare Cabin Embarked  \n",
              "886    male  27.0      0      0      211536  13.00   NaN        S  \n",
              "887  female  19.0      0      0      112053  30.00   B42        S  \n",
              "888  female   NaN      1      2  W./C. 6607  23.45   NaN        S  \n",
              "889    male  26.0      0      0      111369  30.00  C148        C  \n",
              "890    male  32.0      0      0      370376   7.75   NaN        Q  "
            ]
          },
          "metadata": {
            "tags": []
          },
          "execution_count": 19
        }
      ]
    },
    {
      "cell_type": "markdown",
      "metadata": {
        "_uuid": "d82a56a6101247b89fc2fb58c6f7d6b92196f084",
        "id": "sdqrqbIBcWNv"
      },
      "source": [
        "<a id='Viewing data shape'></a>"
      ]
    },
    {
      "cell_type": "markdown",
      "metadata": {
        "_uuid": "c1b73a355d7c142d3d3e7dd614fc78c3118e5c0e",
        "id": "jLCrN12fcWNv"
      },
      "source": [
        "### Viewing data shape"
      ]
    },
    {
      "cell_type": "code",
      "metadata": {
        "_uuid": "b63c8e9f0981ade88cb1c09bb3eeb3ad373677f6",
        "id": "NS76ZkLAcWNw",
        "colab": {
          "base_uri": "https://localhost:8080/"
        },
        "outputId": "05754cd5-1689-4f47-e863-3b1a844e505d"
      },
      "source": [
        "df_train.shape"
      ],
      "execution_count": 4,
      "outputs": [
        {
          "output_type": "execute_result",
          "data": {
            "text/plain": [
              "(891, 12)"
            ]
          },
          "metadata": {},
          "execution_count": 4
        }
      ]
    },
    {
      "cell_type": "markdown",
      "metadata": {
        "_uuid": "95525d9a77d39258cf77e9c9b08fac40e78c0fb7",
        "id": "7xB2i68ecWNw"
      },
      "source": [
        "We can observe that the training dataset has 891 entries and 12 columns "
      ]
    },
    {
      "cell_type": "markdown",
      "metadata": {
        "_uuid": "25a0a67590345bf5fe7754c552c310db439040a5",
        "id": "BgDr4TrCcWNw"
      },
      "source": [
        "<a id='Describing features'></a>"
      ]
    },
    {
      "cell_type": "markdown",
      "metadata": {
        "_uuid": "54ddbc2e41adc79042cfc8f0175a3bd14bf9d1a8",
        "id": "2o-zbl7ycWNx"
      },
      "source": [
        "### Describing features\n",
        "Each column gives certain information about a Titanic passenger feature. The description about each feature is given in this [link](https://www.kaggle.com/c/titanic/data). "
      ]
    },
    {
      "cell_type": "code",
      "metadata": {
        "_uuid": "34f2bf3081e20fe9e66d04d2c14684aadeda46a1",
        "id": "aGgX64mbcWNx",
        "colab": {
          "base_uri": "https://localhost:8080/",
          "height": 574
        },
        "outputId": "7c5a1b1e-def1-42a8-cf3d-6ebdc687e192"
      },
      "source": [
        "feat_desc = pd.DataFrame({'Description': ['Passenger ID',\n",
        "                                          'Whether the passenger was survived or not',\n",
        "                                          'The ticket class that the passenger bought',\n",
        "                                          'The passenger name',\n",
        "                                          'The gender of the passenger',\n",
        "                                          'The age of the passenger',\n",
        "                                          'The number of siblings/spouses that the passenger has aboard the Titanic',\n",
        "                                          'The number of parents/children that the passenger has aboard the Titanic',\n",
        "                                          'The ticket number of the passenger',\n",
        "                                          'The ticket fare that the passenger paid',\n",
        "                                          'The cabin number that the passenger boarded',\n",
        "                                          'The passenger port of embarkation'], \n",
        "                          'Values': [df_train[i].unique() for i in df_train.columns],\n",
        "                          'Number of unique values': [len(df_train[i].unique()) for i in df_train.columns]}, \n",
        "                          index = df_train.columns)\n",
        "\n",
        "feat_desc"
      ],
      "execution_count": 5,
      "outputs": [
        {
          "output_type": "execute_result",
          "data": {
            "text/html": [
              "<div>\n",
              "<style scoped>\n",
              "    .dataframe tbody tr th:only-of-type {\n",
              "        vertical-align: middle;\n",
              "    }\n",
              "\n",
              "    .dataframe tbody tr th {\n",
              "        vertical-align: top;\n",
              "    }\n",
              "\n",
              "    .dataframe thead th {\n",
              "        text-align: right;\n",
              "    }\n",
              "</style>\n",
              "<table border=\"1\" class=\"dataframe\">\n",
              "  <thead>\n",
              "    <tr style=\"text-align: right;\">\n",
              "      <th></th>\n",
              "      <th>Description</th>\n",
              "      <th>Values</th>\n",
              "      <th>Number of unique values</th>\n",
              "    </tr>\n",
              "  </thead>\n",
              "  <tbody>\n",
              "    <tr>\n",
              "      <th>PassengerId</th>\n",
              "      <td>Passenger ID</td>\n",
              "      <td>[1, 2, 3, 4, 5, 6, 7, 8, 9, 10, 11, 12, 13, 14, 15, 16, 17, 18, 19, 20, 21, ...</td>\n",
              "      <td>891</td>\n",
              "    </tr>\n",
              "    <tr>\n",
              "      <th>Survived</th>\n",
              "      <td>Whether the passenger was survived or not</td>\n",
              "      <td>[0, 1]</td>\n",
              "      <td>2</td>\n",
              "    </tr>\n",
              "    <tr>\n",
              "      <th>Pclass</th>\n",
              "      <td>The ticket class that the passenger bought</td>\n",
              "      <td>[3, 1, 2]</td>\n",
              "      <td>3</td>\n",
              "    </tr>\n",
              "    <tr>\n",
              "      <th>Name</th>\n",
              "      <td>The passenger name</td>\n",
              "      <td>[Braund, Mr. Owen Harris, Cumings, Mrs. John Bradley (Florence Briggs Thayer...</td>\n",
              "      <td>891</td>\n",
              "    </tr>\n",
              "    <tr>\n",
              "      <th>Sex</th>\n",
              "      <td>The gender of the passenger</td>\n",
              "      <td>[male, female]</td>\n",
              "      <td>2</td>\n",
              "    </tr>\n",
              "    <tr>\n",
              "      <th>Age</th>\n",
              "      <td>The age of the passenger</td>\n",
              "      <td>[22.0, 38.0, 26.0, 35.0, nan, 54.0, 2.0, 27.0, 14.0, 4.0, 58.0, 20.0, 39.0, ...</td>\n",
              "      <td>89</td>\n",
              "    </tr>\n",
              "    <tr>\n",
              "      <th>SibSp</th>\n",
              "      <td>The number of siblings/spouses that the passenger has aboard the Titanic</td>\n",
              "      <td>[1, 0, 3, 4, 2, 5, 8]</td>\n",
              "      <td>7</td>\n",
              "    </tr>\n",
              "    <tr>\n",
              "      <th>Parch</th>\n",
              "      <td>The number of parents/children that the passenger has aboard the Titanic</td>\n",
              "      <td>[0, 1, 2, 5, 3, 4, 6]</td>\n",
              "      <td>7</td>\n",
              "    </tr>\n",
              "    <tr>\n",
              "      <th>Ticket</th>\n",
              "      <td>The ticket number of the passenger</td>\n",
              "      <td>[A/5 21171, PC 17599, STON/O2. 3101282, 113803, 373450, 330877, 17463, 34990...</td>\n",
              "      <td>681</td>\n",
              "    </tr>\n",
              "    <tr>\n",
              "      <th>Fare</th>\n",
              "      <td>The ticket fare that the passenger paid</td>\n",
              "      <td>[7.25, 71.2833, 7.925, 53.1, 8.05, 8.4583, 51.8625, 21.075, 11.1333, 30.0708...</td>\n",
              "      <td>248</td>\n",
              "    </tr>\n",
              "    <tr>\n",
              "      <th>Cabin</th>\n",
              "      <td>The cabin number that the passenger boarded</td>\n",
              "      <td>[nan, C85, C123, E46, G6, C103, D56, A6, C23 C25 C27, B78, D33, B30, C52, B2...</td>\n",
              "      <td>148</td>\n",
              "    </tr>\n",
              "    <tr>\n",
              "      <th>Embarked</th>\n",
              "      <td>The passenger port of embarkation</td>\n",
              "      <td>[S, C, Q, nan]</td>\n",
              "      <td>4</td>\n",
              "    </tr>\n",
              "  </tbody>\n",
              "</table>\n",
              "</div>"
            ],
            "text/plain": [
              "                                                                          Description  ... Number of unique values\n",
              "PassengerId                                                              Passenger ID  ...                     891\n",
              "Survived                                    Whether the passenger was survived or not  ...                       2\n",
              "Pclass                                     The ticket class that the passenger bought  ...                       3\n",
              "Name                                                               The passenger name  ...                     891\n",
              "Sex                                                       The gender of the passenger  ...                       2\n",
              "Age                                                          The age of the passenger  ...                      89\n",
              "SibSp        The number of siblings/spouses that the passenger has aboard the Titanic  ...                       7\n",
              "Parch        The number of parents/children that the passenger has aboard the Titanic  ...                       7\n",
              "Ticket                                             The ticket number of the passenger  ...                     681\n",
              "Fare                                          The ticket fare that the passenger paid  ...                     248\n",
              "Cabin                                     The cabin number that the passenger boarded  ...                     148\n",
              "Embarked                                            The passenger port of embarkation  ...                       4\n",
              "\n",
              "[12 rows x 3 columns]"
            ]
          },
          "metadata": {},
          "execution_count": 5
        }
      ]
    },
    {
      "cell_type": "markdown",
      "metadata": {
        "_uuid": "4b38e3e46454f6542d9b321079f0166be452556a",
        "id": "QHgjHzVecWNy"
      },
      "source": [
        "From the table above, we can observe the following:\n",
        "- These features can be divided into four categories:\n",
        "  * Nominal categorical feature: feature that has two or more categories, but there is no intrinsic ordering to the categories. In the dataset, this includes ***Survived***, ***Name***, ***Sex***, ***Ticket***, ***Cabin***. \n",
        "  * Ordinal categorical feature: this feature has similar characteristics with nominal categorical feature. The difference is it has a clear ordering of the categories. In the dataset, this includes ***Pclass*** and ***Embarked***. \n",
        "  * Integer numerical feature: feature that must take an integer value. In the dataset, this includes ***SibSp*** and ***Parch***.\n",
        "  * Continuous numerical feature: feature that can take on infinitely many, uncountable values. In the dataset, this includes ***Age*** and ***Fare***.\n",
        "- ***Survived*** is the dependent/outcome feature of this problem set. It contains binary data with value 0 (i.e., not survived) and 1 (i.e., survived). Other features are the potential independent/predictor features.\n",
        "- ***Pclass*** contains three values: *1*, *2*, and *3*. *1* indicates 1st class ticket, *2* indicates 2nd class ticket, and *3* indicates 3rd class ticket.\n",
        "- ***Embarked*** feature contains three values: *S*, *C*, and *Q*. *S* indicates Southampton, *C* indicates Cherbourg, and *Q* indicates Queenstown. ***Embarked*** is considered as a ordinal categorical feature because Titanic embarked these three ports in a sequence. It went to Southampton, then Cherbourg, and finally Queenstown. \n",
        "- ***PassengerId*** feature contains unique identifier for each passenger. This feature does not have an impact to the output feature. However, it will be very useful to give each passenger a unique identifier.   "
      ]
    },
    {
      "cell_type": "code",
      "metadata": {
        "_uuid": "75daad0d7ce96ad55eab6b58080a0a623dbd5397",
        "id": "RVizdM6QcWNy"
      },
      "source": [
        "# Setting 'PassengerId' as the index of training and test dataset\n",
        "df_train.set_index('PassengerId', inplace=True)\n"
      ],
      "execution_count": 6,
      "outputs": []
    },
    {
      "cell_type": "markdown",
      "metadata": {
        "_uuid": "b4de8f6a4aa9bc1b9b2213e7ab31a85fbaa8280a",
        "id": "PaMrflOucWNz"
      },
      "source": [
        "<a id='section 3.0.'></a>"
      ]
    },
    {
      "cell_type": "markdown",
      "metadata": {
        "_uuid": "c1e949b91239d527ced715e9bcf6de8022b32c79",
        "id": "E5ogt8TucWNz"
      },
      "source": [
        "# 3.0. Data Wrangling\n",
        "Data wrangling is the process of cleaning, structuring, and enriching raw data into another format with the intent of making it more appropriate and valuable for a variety of downstream purposes, such as analytics. To prepare the dataset, we use the 4C's framework, i.e., **Correcting**, **Completing**, **Creating**, and **Converting**:\n",
        "- Correcting includes:\n",
        "  * 3.1. Rectifying any abnormal, inaccurate, or non-acceptable values](#section 3.1.)\n",
        "\n",
        "- Completing includes:\n",
        "  * 3.2. Handling missing data\n",
        "- Creating includes:\n",
        "  * 3.3. Creating new features from existing features (feature engineering)\n",
        "- Converting includes:\n",
        "  * 3.4. Converting data types\n",
        "  * 3.5. Removing features that do not contribute to the analysis"
      ]
    },
    {
      "cell_type": "markdown",
      "metadata": {
        "_uuid": "31aea9bffd735c5025c96802d1416a91546fa5b4",
        "id": "iRC23YHRcWNz"
      },
      "source": [
        "<a id='section 3.1.'></a>"
      ]
    },
    {
      "cell_type": "markdown",
      "metadata": {
        "_uuid": "d73c3c5c3921acd5d1127b57261fb35c7975f0a4",
        "id": "qjf7ZAw9cWN3"
      },
      "source": [
        "## 3.1. Rectifying any abnormal, inaccurate, or non-acceptable values\n",
        "Abnormal, inaccurate, or non-acceptable values in our dataset can distort predictions and affect the accuracy if you don’t detect and handle them. An example of abnormal value is to find a passenger to be 1000 years old, which is not possible. We can use univariate distribution of each feature to identify any abnormal, inaccurate, or non-acceptable values. "
      ]
    },
    {
      "cell_type": "markdown",
      "metadata": {
        "_uuid": "40cf12763af410df5a7922d315d22c1c64fe6bd1",
        "id": "8rFNJzmrcWN3"
      },
      "source": [
        "### Univariate distributions of numerical features"
      ]
    },
    {
      "cell_type": "code",
      "metadata": {
        "_uuid": "a76f68392d626e40109947f3f847f102938f80a2",
        "id": "FRBoHJ5RcWN3",
        "colab": {
          "base_uri": "https://localhost:8080/",
          "height": 0
        },
        "outputId": "27a54ffd-e46a-4ffb-813b-ef7e91148da5"
      },
      "source": [
        "plt.figure(figsize=(12,10))\n",
        "\n",
        "# Creating univariate distribution of 'SibSp' feature\n",
        "plt.subplot(221)\n",
        "sns.countplot(df_train['SibSp'], color='lightcoral')\n",
        "plt.ylabel('Number of Passengers')\n",
        "plt.xlabel('Number of Siblings/Spouses (SibSp)')\n",
        "plt.title('Number of Passengers per\\nNumber of Siblings/Spouses (SibSp)', size=13)\n",
        "\n",
        "# Creating univariate distribution of 'Parch' feature\n",
        "plt.subplot(222)\n",
        "sns.countplot(df_train['Parch'], color='lightcoral')\n",
        "plt.ylabel('Number of Passengers')\n",
        "plt.xlabel('Number of Parents/Childrens (Parch)')\n",
        "plt.title('Number of Passengers per\\nNumber of Parents/Childrens (Parch)', size=13)\n",
        "\n",
        "# Creating univariate distribution of 'Age' feature\n",
        "plt.subplot(223)\n",
        "sns.distplot(df_train['Age'].dropna(), color='lightcoral', kde=False, norm_hist=False)\n",
        "plt.ylabel('Number of Passengers')\n",
        "plt.xlabel('Age')\n",
        "plt.title('Distribution of Passengers\\' Age', size=13)\n",
        "\n",
        "# Creating univariate distribution of 'Fare' feature\n",
        "plt.subplot(224)\n",
        "sns.distplot(df_train['Fare'].dropna(), color='lightcoral', kde=False, norm_hist=False)\n",
        "plt.ylabel('Number of Passengers')\n",
        "plt.xlabel('Fare')\n",
        "plt.title('Distribution of Fare', size=13)\n",
        "\n",
        "plt.subplots_adjust(hspace = 0.3, wspace = 0.3)\n",
        "\n",
        "plt.show()"
      ],
      "execution_count": 7,
      "outputs": [
        {
          "output_type": "display_data",
          "data": {
            "image/png": "[encoded data removed]",
            "text/plain": [
              "<Figure size 864x720 with 4 Axes>"
            ]
          },
          "metadata": {
            "needs_background": "light"
          }
        }
      ]
    },
    {
      "cell_type": "markdown",
      "metadata": {
        "_uuid": "e2d9b93261b9c6409a25035b5a2c426becf95c4f",
        "id": "JEvYS49rcWN4"
      },
      "source": [
        "Based on the charts above, we can observe the following:\n",
        "- The distribution of ***SibSp*** feature is skewed with most passengers did not have any siblings or spouses aboard the Titanic. Only a few passengers had siblings/spouses more than one. The value range is still acceptable and there seemes to be no abnormal, inaccurate, or non-acceptable values. \n",
        "- The distribution of ***Parch*** feature is skewed with most passengers did not have any parents or childrens aboard the Titanic. Only a few passengers had parents/children more than one. The value range is still acceptable and there seemes to be no abnormal, inaccurate, or non-acceptable values. \n",
        "- The distribution of ***Age*** resembles a normal distribution. Most passengers were between 20 and 40 years old. The maximum age of a passenger is 80 years old. The value range is still acceptable and there seemes to be no abnormal, inaccurate, or non-acceptable values. \n",
        "- The distribution of ***Fare*** feature is skewed with most passengers paid fare between £0 to £100. The maximum fare paid by a passenger was £512. It is stated in this [article](https://www.quora.com/What-were-the-ticket-prices-to-board-the-Titanic) that the cost of tickets to board the Titanic were:\n",
        "    - First Class (parlor suite) — £870\n",
        "    - First Class (berth)— £30\n",
        "    - Second Class — £12\n",
        "    - Third Class — £3 to £8\n",
        "- Based on the above information, the value range of ***Fare*** feature is still acceptable.\n",
        "\n",
        "Based on these observations, there seems to be no abnormal values from these numerical features. Therefore, no value correction is necessary."
      ]
    },
    {
      "cell_type": "markdown",
      "metadata": {
        "_uuid": "01f9503982eb3cf845c3eabffaf87b3cd2eb35b8",
        "id": "cET0fGf7cWN4"
      },
      "source": [
        "<a id='section 3.2.'></a>"
      ]
    },
    {
      "cell_type": "markdown",
      "metadata": {
        "_uuid": "0db3c4e03903a4c5ba0a2d595a91d15e16608065",
        "id": "PaIsJ9m3cWN5"
      },
      "source": [
        "<a id='section 3.3.'></a>"
      ]
    },
    {
      "cell_type": "markdown",
      "metadata": {
        "_uuid": "cfea44084994dfb72c378baae72b1bb145405ba4",
        "id": "3HritkdvcWN5"
      },
      "source": [
        "## 3.2. Handling missing data\n",
        "Most machine learning algorithms cannot handle missing values. Therefore, it is important to identify feature(s) that contain missing values in order for us to fix them before performing data modelling. "
      ]
    },
    {
      "cell_type": "markdown",
      "metadata": {
        "_uuid": "8f843a5c3d60654c111af970f92af46a9f62e60b",
        "id": "26OEjmaucWN5"
      },
      "source": [
        "### Identifying missing data in the training dataset\n",
        "\n",
        "We call the following to identify missing data in the training dataset:"
      ]
    },
    {
      "cell_type": "code",
      "metadata": {
        "_uuid": "d2879227a132c4cef77ca5fa7b48372478b28b50",
        "id": "Hme_dNsYcWN5",
        "colab": {
          "base_uri": "https://localhost:8080/",
          "height": 0
        },
        "outputId": "1292099e-5e55-4fbd-9ede-e60e669a3e5f"
      },
      "source": [
        "# Identifying missing data in the training and test dataset\n",
        "pd.DataFrame({'Number of Missing Values (Training)': df_train.isna().sum(), \n",
        "              '% of Missing Values (Training)': (df_train.isna().sum()/df_train.shape[0] * 100).round(2)})"
      ],
      "execution_count": 8,
      "outputs": [
        {
          "output_type": "execute_result",
          "data": {
            "text/html": [
              "<div>\n",
              "<style scoped>\n",
              "    .dataframe tbody tr th:only-of-type {\n",
              "        vertical-align: middle;\n",
              "    }\n",
              "\n",
              "    .dataframe tbody tr th {\n",
              "        vertical-align: top;\n",
              "    }\n",
              "\n",
              "    .dataframe thead th {\n",
              "        text-align: right;\n",
              "    }\n",
              "</style>\n",
              "<table border=\"1\" class=\"dataframe\">\n",
              "  <thead>\n",
              "    <tr style=\"text-align: right;\">\n",
              "      <th></th>\n",
              "      <th>Number of Missing Values (Training)</th>\n",
              "      <th>% of Missing Values (Training)</th>\n",
              "    </tr>\n",
              "  </thead>\n",
              "  <tbody>\n",
              "    <tr>\n",
              "      <th>Survived</th>\n",
              "      <td>0</td>\n",
              "      <td>0.00</td>\n",
              "    </tr>\n",
              "    <tr>\n",
              "      <th>Pclass</th>\n",
              "      <td>0</td>\n",
              "      <td>0.00</td>\n",
              "    </tr>\n",
              "    <tr>\n",
              "      <th>Name</th>\n",
              "      <td>0</td>\n",
              "      <td>0.00</td>\n",
              "    </tr>\n",
              "    <tr>\n",
              "      <th>Sex</th>\n",
              "      <td>0</td>\n",
              "      <td>0.00</td>\n",
              "    </tr>\n",
              "    <tr>\n",
              "      <th>Age</th>\n",
              "      <td>177</td>\n",
              "      <td>19.87</td>\n",
              "    </tr>\n",
              "    <tr>\n",
              "      <th>SibSp</th>\n",
              "      <td>0</td>\n",
              "      <td>0.00</td>\n",
              "    </tr>\n",
              "    <tr>\n",
              "      <th>Parch</th>\n",
              "      <td>0</td>\n",
              "      <td>0.00</td>\n",
              "    </tr>\n",
              "    <tr>\n",
              "      <th>Ticket</th>\n",
              "      <td>0</td>\n",
              "      <td>0.00</td>\n",
              "    </tr>\n",
              "    <tr>\n",
              "      <th>Fare</th>\n",
              "      <td>0</td>\n",
              "      <td>0.00</td>\n",
              "    </tr>\n",
              "    <tr>\n",
              "      <th>Cabin</th>\n",
              "      <td>687</td>\n",
              "      <td>77.10</td>\n",
              "    </tr>\n",
              "    <tr>\n",
              "      <th>Embarked</th>\n",
              "      <td>2</td>\n",
              "      <td>0.22</td>\n",
              "    </tr>\n",
              "  </tbody>\n",
              "</table>\n",
              "</div>"
            ],
            "text/plain": [
              "          Number of Missing Values (Training)  % of Missing Values (Training)\n",
              "Survived                                    0                            0.00\n",
              "Pclass                                      0                            0.00\n",
              "Name                                        0                            0.00\n",
              "Sex                                         0                            0.00\n",
              "Age                                       177                           19.87\n",
              "SibSp                                       0                            0.00\n",
              "Parch                                       0                            0.00\n",
              "Ticket                                      0                            0.00\n",
              "Fare                                        0                            0.00\n",
              "Cabin                                     687                           77.10\n",
              "Embarked                                    2                            0.22"
            ]
          },
          "metadata": {},
          "execution_count": 8
        }
      ]
    },
    {
      "cell_type": "markdown",
      "metadata": {
        "_uuid": "cc9e76909a73f67b89a01052104672531649ca56",
        "id": "PhcVF8zMcWN6"
      },
      "source": [
        "Based on the observation, ***Age***, ***Cabin***, ***Embarked***, and ***Fare*** contain some missing values.\n",
        "\n",
        "After we identfy features with missing values, we need to do something to handle these missing values. Alvira Swalin writes a comprehensive post about how to handle missing data in this [link](https://towardsdatascience.com/how-to-handle-missing-data-8646b18db0d4). "
      ]
    },
    {
      "cell_type": "markdown",
      "metadata": {
        "_uuid": "52f6c4e44ea017980b2b9f5880a96e85e8e881b1",
        "id": "94I5FeF7cWN6"
      },
      "source": [
        "We decide to impute missing entries in ***Age*** feature. "
      ]
    },
    {
      "cell_type": "markdown",
      "metadata": {
        "_uuid": "a0d49d4f55995eed8217c134a43016b5f3e2bf98",
        "id": "Q7piR7yBcWN6"
      },
      "source": [
        "<a id='Imputing missing values in Cabin feature'></a>"
      ]
    },
    {
      "cell_type": "markdown",
      "metadata": {
        "_uuid": "30c0b3aad78681e6684ed218b3cd15bc29a27a72",
        "id": "jVPr4zoccWN6"
      },
      "source": [
        "### Imputing missing values in *Age* feature\n",
        "We decide to impute the mean age wherever NaN value exists. Passengers who have missing values in ***Age*** feature will take on the mean age.  "
      ]
    },
    {
      "cell_type": "code",
      "metadata": {
        "id": "qKvb7ekWcWN6"
      },
      "source": [
        "df_train['Age'].fillna(df_train['Age'].median(),inplace=True)"
      ],
      "execution_count": 9,
      "outputs": []
    },
    {
      "cell_type": "markdown",
      "metadata": {
        "_uuid": "92a59f7a469512f454d63608303cac7e38fe7d1b",
        "id": "jaYuTCkgcWN6"
      },
      "source": [
        "\n",
        "We leave the resolution of remaining variables with missing values as an exercise"
      ]
    },
    {
      "cell_type": "markdown",
      "metadata": {
        "_uuid": "c85749bb5b2c8368138b2b38dfcadfa2f0fe0a1f",
        "id": "7dJH-2x1cWN7"
      },
      "source": [
        "## 3.3. Creating new features from existing features\n",
        "\n",
        "We can use existing features to create new features to determine if they contribute to predict our outcome. For this dataset, we will create a new isAlone variable from existing data. "
      ]
    },
    {
      "cell_type": "markdown",
      "metadata": {
        "_uuid": "c7320c56374630b3d1c49e7931e85ea5de26c71f",
        "id": "42hyTfXqcWN7"
      },
      "source": [
        "<a id='Title'></a>"
      ]
    },
    {
      "cell_type": "markdown",
      "metadata": {
        "_uuid": "ea1613d440221be231ed5e9d7dc09ab0fc321d32",
        "id": "Y7XChSHqcWN7"
      },
      "source": [
        "### Creating *SibSp+Parch* feature\n",
        "An individual is alone if they have no siblings/spouses (SibSp) and they have no parents or children on the ship with them. So we add the number of siblings/spouses (***SibSp***) and the number of parents/children (***Parch***) and make it a feature named ***SibSp+Parch***.  "
      ]
    },
    {
      "cell_type": "code",
      "metadata": {
        "_uuid": "464e7cfbb3406fc44ca02bf0605cea183cd5b215",
        "id": "wzj_WAL2cWN7"
      },
      "source": [
        "# Creating 'SibSp+Parch' feature\n",
        "df_train['SibSp+Parch'] = df_train['SibSp'] + df_train['Parch'] \n"
      ],
      "execution_count": 10,
      "outputs": []
    },
    {
      "cell_type": "markdown",
      "metadata": {
        "_uuid": "30a527a23e9d59c43545db7f7754df570c016e11",
        "id": "b5Vc9g3gcWN7"
      },
      "source": [
        "<a id='IsAlone'></a>"
      ]
    },
    {
      "cell_type": "markdown",
      "metadata": {
        "_uuid": "849649575d2b8b5eaeadcb84678ebfe60684cd6e",
        "id": "LUN0tMH2cWN7"
      },
      "source": [
        "### Creating *IsAlone* feature\n",
        "***IsAlone*** feature determines whether a passenger had siblings/spouses and/or parents/children. If a passenger did not have any siblings/spouses and/or parents/children, ***IsAlone*** = 1. And if a passenger had any siblings/spouses and/or parents/children, ***IsAlone*** = 0. "
      ]
    },
    {
      "cell_type": "code",
      "metadata": {
        "_uuid": "bb2d69cd1eaf80a826cb799bd284c9ccc2faa2ab",
        "id": "IRtgEKVucWN7"
      },
      "source": [
        "# Creating 'IsAlone' feature\n",
        "df_train['IsAlone'] = df_train['SibSp+Parch'].map(lambda x: 1 if x == 0 else 0)\n"
      ],
      "execution_count": 11,
      "outputs": []
    },
    {
      "cell_type": "markdown",
      "metadata": {
        "_uuid": "7122d7275d58c2a3a61d3d311ad0ab33c8b942c4",
        "id": "a8H65cTlcWN8"
      },
      "source": [
        "<a id='FamilySurvival'></a>"
      ]
    },
    {
      "cell_type": "markdown",
      "metadata": {
        "_uuid": "f49716090f4d6e8bcbb99eff67ac637d14b96fb5",
        "id": "UUaK0dwtcWN8"
      },
      "source": [
        "<a id='section 3.5.'></a>"
      ]
    },
    {
      "cell_type": "markdown",
      "metadata": {
        "_uuid": "e0bf6775f83931d82cde237ba05d7836990aa7b7",
        "id": "-ce7j7okcWN8"
      },
      "source": [
        "## 3.4. Converting data types\n",
        "Most machine learning algorithms require all features to be converted into some numeric representations that can be understood by these algorithms. Categorical features cannot be processed directly by the algorithms and conversions on these features shall be done before subsequent data processing. Therefore, knowing the data type of all features helps us in deciding which feature(s) need conversion to other data type. We call the following to see the data type pf each feature in the dataset:"
      ]
    },
    {
      "cell_type": "code",
      "metadata": {
        "_uuid": "0d0ef00528025bdc42ce08b9ac4804efec53e28f",
        "id": "psFwUhjVcWN8",
        "colab": {
          "base_uri": "https://localhost:8080/",
          "height": 0
        },
        "outputId": "1627ea9f-3006-4797-d713-4bd6739cb0bb"
      },
      "source": [
        "# Viewing data type of each feature in the dataset\n",
        "df_train.dtypes.to_frame(name='Data type')"
      ],
      "execution_count": 12,
      "outputs": [
        {
          "output_type": "execute_result",
          "data": {
            "text/html": [
              "<div>\n",
              "<style scoped>\n",
              "    .dataframe tbody tr th:only-of-type {\n",
              "        vertical-align: middle;\n",
              "    }\n",
              "\n",
              "    .dataframe tbody tr th {\n",
              "        vertical-align: top;\n",
              "    }\n",
              "\n",
              "    .dataframe thead th {\n",
              "        text-align: right;\n",
              "    }\n",
              "</style>\n",
              "<table border=\"1\" class=\"dataframe\">\n",
              "  <thead>\n",
              "    <tr style=\"text-align: right;\">\n",
              "      <th></th>\n",
              "      <th>Data type</th>\n",
              "    </tr>\n",
              "  </thead>\n",
              "  <tbody>\n",
              "    <tr>\n",
              "      <th>Survived</th>\n",
              "      <td>int64</td>\n",
              "    </tr>\n",
              "    <tr>\n",
              "      <th>Pclass</th>\n",
              "      <td>int64</td>\n",
              "    </tr>\n",
              "    <tr>\n",
              "      <th>Name</th>\n",
              "      <td>object</td>\n",
              "    </tr>\n",
              "    <tr>\n",
              "      <th>Sex</th>\n",
              "      <td>object</td>\n",
              "    </tr>\n",
              "    <tr>\n",
              "      <th>Age</th>\n",
              "      <td>float64</td>\n",
              "    </tr>\n",
              "    <tr>\n",
              "      <th>SibSp</th>\n",
              "      <td>int64</td>\n",
              "    </tr>\n",
              "    <tr>\n",
              "      <th>Parch</th>\n",
              "      <td>int64</td>\n",
              "    </tr>\n",
              "    <tr>\n",
              "      <th>Ticket</th>\n",
              "      <td>object</td>\n",
              "    </tr>\n",
              "    <tr>\n",
              "      <th>Fare</th>\n",
              "      <td>float64</td>\n",
              "    </tr>\n",
              "    <tr>\n",
              "      <th>Cabin</th>\n",
              "      <td>object</td>\n",
              "    </tr>\n",
              "    <tr>\n",
              "      <th>Embarked</th>\n",
              "      <td>object</td>\n",
              "    </tr>\n",
              "    <tr>\n",
              "      <th>SibSp+Parch</th>\n",
              "      <td>int64</td>\n",
              "    </tr>\n",
              "    <tr>\n",
              "      <th>IsAlone</th>\n",
              "      <td>int64</td>\n",
              "    </tr>\n",
              "  </tbody>\n",
              "</table>\n",
              "</div>"
            ],
            "text/plain": [
              "            Data type\n",
              "Survived        int64\n",
              "Pclass          int64\n",
              "Name           object\n",
              "Sex            object\n",
              "Age           float64\n",
              "SibSp           int64\n",
              "Parch           int64\n",
              "Ticket         object\n",
              "Fare          float64\n",
              "Cabin          object\n",
              "Embarked       object\n",
              "SibSp+Parch     int64\n",
              "IsAlone         int64"
            ]
          },
          "metadata": {},
          "execution_count": 12
        }
      ]
    },
    {
      "cell_type": "markdown",
      "metadata": {
        "_uuid": "71ac268e0472b0f299cfac7488dd286ebdc27416",
        "id": "AQa7M2tYcWN9"
      },
      "source": [
        "We can observe that seven features have integer data type, i.e., ***Survived***, ***Pclass***, ***Age***, ***SibSp***, ***Parch***, ***SibSp+Parch***, and ***IsAlone***. Two features have float data type, i.e., ***FamilySurvival*** and ***Fare***. And six features have object (string) data type, i.e., ***Name***, ***Sex***, ***Ticket***, ***Cabin***, ***Embarked***, and ***Title***.\n",
        "\n",
        "Based on these observations, we need to convert features that have object (string) data type into numerical data type. \n",
        "- ***Name*** and ***Ticket*** feature will be removed because they will not be used anymore in the subsequent analysis.\n",
        "- For ***Sex*** feature, we will replace the values with binary numbers. *male* is replaced by 1 and *female* by 0. \n",
        "- ***Embarked*** feature is considered as a ordinal categorical feature because Titanic embarked these three ports in a sequence. It went to Southampton, then Cherbourg, and finally Queenstown. Thus, *S* (representing Southampton) is replaced by 0, *C* (representing Cherbourg) by 1, and *Q* (representing Queenstown) by 2. \n",
        "- For ***Title*** and ***Cabin*** feature, the conversion is a bit complex because they comprise of several categories and have no clear ordering of categories. We will think about how to convert these features after performing [exploratory data analysis](#section 4.0.)."
      ]
    },
    {
      "cell_type": "markdown",
      "metadata": {
        "_uuid": "d804483372a00860d16198ae06b816d85c07ff6a",
        "id": "Fhl8lKaTcWN9"
      },
      "source": [
        "**Converting *Sex* feature data type**"
      ]
    },
    {
      "cell_type": "code",
      "metadata": {
        "_uuid": "b7fbc6583eabcac1c3b66cf9675e2ea302a5931d",
        "id": "sKdtisoXcWN9"
      },
      "source": [
        "# Converting 'Sex' feature data type\n",
        "df_train.replace({'male': 1, 'female': 0}, inplace=True)"
      ],
      "execution_count": 13,
      "outputs": []
    },
    {
      "cell_type": "markdown",
      "metadata": {
        "_uuid": "2575948e082d224d0db12b76b610cda9c9d0c20f",
        "id": "BLjT9eXHcWN-"
      },
      "source": [
        "<a id='section 3.6.'></a>"
      ]
    },
    {
      "cell_type": "markdown",
      "metadata": {
        "_uuid": "712183f69ff682fe86330d9697cd9a5ac3702122",
        "id": "t5X-FH6IcWN-"
      },
      "source": [
        "## 3.5. Removing features that do not contribute to the analysis\n",
        "***Name*** and ***Ticket*** feature will be removed because they will not be used anymore in the subsequent analysis. Thus, we drop them for our datasets by calling the following:"
      ]
    },
    {
      "cell_type": "code",
      "metadata": {
        "_uuid": "da7268e25145d51bc1ef4836f27423b1ee1aa207",
        "id": "-DiMh-uJcWN-"
      },
      "source": [
        "# Dropping only 'Name' and 'Ticket' feature when I convert the other ordinal values \n",
        "# df_train.drop(columns=['Name', 'Ticket'], inplace=True)\n",
        "\n",
        "# For now, I drop all ordinal columns except for Sex\n",
        "df_train.drop(columns=['Name', 'Ticket','Fare', 'Embarked', 'Cabin'], inplace=True)\n"
      ],
      "execution_count": 14,
      "outputs": []
    },
    {
      "cell_type": "code",
      "metadata": {
        "id": "zOmKjkTrcWN-",
        "colab": {
          "base_uri": "https://localhost:8080/",
          "height": 0
        },
        "outputId": "255b1e15-7622-47a9-89b6-d4e8f631dd8f"
      },
      "source": [
        "df_train.head()"
      ],
      "execution_count": 15,
      "outputs": [
        {
          "output_type": "execute_result",
          "data": {
            "text/html": [
              "<div>\n",
              "<style scoped>\n",
              "    .dataframe tbody tr th:only-of-type {\n",
              "        vertical-align: middle;\n",
              "    }\n",
              "\n",
              "    .dataframe tbody tr th {\n",
              "        vertical-align: top;\n",
              "    }\n",
              "\n",
              "    .dataframe thead th {\n",
              "        text-align: right;\n",
              "    }\n",
              "</style>\n",
              "<table border=\"1\" class=\"dataframe\">\n",
              "  <thead>\n",
              "    <tr style=\"text-align: right;\">\n",
              "      <th></th>\n",
              "      <th>Survived</th>\n",
              "      <th>Pclass</th>\n",
              "      <th>Sex</th>\n",
              "      <th>Age</th>\n",
              "      <th>SibSp</th>\n",
              "      <th>Parch</th>\n",
              "      <th>SibSp+Parch</th>\n",
              "      <th>IsAlone</th>\n",
              "    </tr>\n",
              "    <tr>\n",
              "      <th>PassengerId</th>\n",
              "      <th></th>\n",
              "      <th></th>\n",
              "      <th></th>\n",
              "      <th></th>\n",
              "      <th></th>\n",
              "      <th></th>\n",
              "      <th></th>\n",
              "      <th></th>\n",
              "    </tr>\n",
              "  </thead>\n",
              "  <tbody>\n",
              "    <tr>\n",
              "      <th>1</th>\n",
              "      <td>0</td>\n",
              "      <td>3</td>\n",
              "      <td>1</td>\n",
              "      <td>22.0</td>\n",
              "      <td>1</td>\n",
              "      <td>0</td>\n",
              "      <td>1</td>\n",
              "      <td>0</td>\n",
              "    </tr>\n",
              "    <tr>\n",
              "      <th>2</th>\n",
              "      <td>1</td>\n",
              "      <td>1</td>\n",
              "      <td>0</td>\n",
              "      <td>38.0</td>\n",
              "      <td>1</td>\n",
              "      <td>0</td>\n",
              "      <td>1</td>\n",
              "      <td>0</td>\n",
              "    </tr>\n",
              "    <tr>\n",
              "      <th>3</th>\n",
              "      <td>1</td>\n",
              "      <td>3</td>\n",
              "      <td>0</td>\n",
              "      <td>26.0</td>\n",
              "      <td>0</td>\n",
              "      <td>0</td>\n",
              "      <td>0</td>\n",
              "      <td>1</td>\n",
              "    </tr>\n",
              "    <tr>\n",
              "      <th>4</th>\n",
              "      <td>1</td>\n",
              "      <td>1</td>\n",
              "      <td>0</td>\n",
              "      <td>35.0</td>\n",
              "      <td>1</td>\n",
              "      <td>0</td>\n",
              "      <td>1</td>\n",
              "      <td>0</td>\n",
              "    </tr>\n",
              "    <tr>\n",
              "      <th>5</th>\n",
              "      <td>0</td>\n",
              "      <td>3</td>\n",
              "      <td>1</td>\n",
              "      <td>35.0</td>\n",
              "      <td>0</td>\n",
              "      <td>0</td>\n",
              "      <td>0</td>\n",
              "      <td>1</td>\n",
              "    </tr>\n",
              "  </tbody>\n",
              "</table>\n",
              "</div>"
            ],
            "text/plain": [
              "             Survived  Pclass  Sex   Age  SibSp  Parch  SibSp+Parch  IsAlone\n",
              "PassengerId                                                                 \n",
              "1                   0       3    1  22.0      1      0            1        0\n",
              "2                   1       1    0  38.0      1      0            1        0\n",
              "3                   1       3    0  26.0      0      0            0        1\n",
              "4                   1       1    0  35.0      1      0            1        0\n",
              "5                   0       3    1  35.0      0      0            0        1"
            ]
          },
          "metadata": {},
          "execution_count": 15
        }
      ]
    },
    {
      "cell_type": "markdown",
      "metadata": {
        "_uuid": "31c089452e3a4435e94e3a3b377c0d6370bbc244",
        "id": "QdwHf7E_cWN-"
      },
      "source": [
        "<a id='section 4.0.'></a>"
      ]
    },
    {
      "cell_type": "markdown",
      "metadata": {
        "_uuid": "677ab391e3ac51ee2a1f70f7d01b4917803a077f",
        "id": "0y74nT5JcWN_"
      },
      "source": [
        "# 4.0. Exploratory Data Analysis\n",
        "Exploratory data analysis (EDA) is an approach of performing initial investigations on our data. EDA normally has descriptive nature and uses graphical statistics to discover patterns, to identify anomalies, to test hypothesis, and to check assumptions regarding our data. In this section, we will perform EDA for each feature in our dataset. The focus is to find patterns and correlations between the independent features and the output feature (i.e., ***Survived***). Some feature engineering are performed based on EDA. \n",
        "- [4.1. Ticket Class (***Pclass***) EDA](#section 4.1.)\n",
        "- [4.2. Gender (***Sex***) EDA](#section 4.2.)\n",
        "- [4.4. Passenger Is Alone (***IsAlone***) EDA](#section 4.4.)\n",
        "- [4.6. Passenger's Age (***Age***) EDA](#section 4.6.)\n",
        "- [4.9. Number of  Siblings/Spouses/Parents/Children (***SibSp+Parch***) EDA](#section 4.9.)\n",
        "- [4.12.Correlation Among Features](#section 4.12.)"
      ]
    },
    {
      "cell_type": "markdown",
      "metadata": {
        "_uuid": "8e2ab1368b70af4d7ef2db6e896cf9e6d0e75414",
        "id": "eaCGeyIHcWN_"
      },
      "source": [
        "<a id='section 4.1.'></a>"
      ]
    },
    {
      "cell_type": "markdown",
      "metadata": {
        "_uuid": "567ef6cbe95e226e2d047b7e823f3056b66a1271",
        "id": "9kkbKVgPcWN_"
      },
      "source": [
        "## 4.1. Ticket Class (*Pclass*) EDA\n",
        "For ticket class feature, let's visualize the following:\n",
        "- Ticket class vs probability of survival (***Survived***)\n",
        "- Ticket class and gender (***Sex***) vs probability of survival"
      ]
    },
    {
      "cell_type": "code",
      "metadata": {
        "_uuid": "6f746d25556c9d12ef8e4c18a39c592271a3ba99",
        "id": "5N-rfAPrcWN_",
        "colab": {
          "base_uri": "https://localhost:8080/",
          "height": 0
        },
        "outputId": "de9ec4bd-82e7-4e13-8d25-bc9011b0b4f8"
      },
      "source": [
        "plt.figure(figsize=(13,10))\n",
        "\n",
        "# Creating a bar chart of ticket class (Pclass) vs probability of survival (Survived)\n",
        "ax1 = plt.subplot(221)\n",
        "g1 = sns.barplot(x='Pclass', y='Survived', data=df_train, color='seagreen')\n",
        "plt.ylabel('Probability of Survival')\n",
        "plt.xlabel('Ticket Class (Pclass)')\n",
        "ax1.set_xticklabels(['1st Class', '2nd Class', '3rd Class'])\n",
        "plt.title('Ticket Class (Pclass) Survival Comparison', size=13)\n",
        "\n",
        "# Creating a bar chart of ticket class (Pclass) and gender (Sex) vs probability of survival (Survived)\n",
        "ax2 = plt.subplot(222)\n",
        "g2 = sns.barplot(x='Pclass', y='Survived', hue='Sex', data=df_train, palette='BuGn_r')\n",
        "plt.ylabel('Probability of Survival')\n",
        "plt.xlabel('Ticket Class (Pclass)')\n",
        "ax2.set_xticklabels(['1st Class', '2nd Class', '3rd Class'])\n",
        "handles, _ = g2.get_legend_handles_labels()\n",
        "ax2.legend(handles, ['Female', 'Male'], title='Gender')\n",
        "plt.title('Ticket Class (Pclass) | Gender (Sex) Survival Comparison', size=13)\n",
        "\n",
        "\n",
        "plt.subplots_adjust(hspace = 0.4, wspace = 0.3)\n",
        "\n",
        "plt.show()"
      ],
      "execution_count": 16,
      "outputs": [
        {
          "output_type": "display_data",
          "data": {
            "image/png": "[encoded data removed]",
            "text/plain": [
              "<Figure size 936x720 with 2 Axes>"
            ]
          },
          "metadata": {
            "needs_background": "light"
          }
        }
      ]
    },
    {
      "cell_type": "markdown",
      "metadata": {
        "_uuid": "a5441f52e48b1cfff1d2ea865ec87988900d18ef",
        "id": "k5gpd6YqcWN_"
      },
      "source": [
        "From the charts above, we can observe the following:\n",
        "- Passengers with higher ticket class had higher probability of survival than passengers with lower ticket class. \n",
        "- Female passengers in the 1st and 2nd class had a considerably higher chance of survival (more than 85%) than female passengers in the 3rd class (only about 50%). \n",
        "- Male passengers in the 1st and 2nd class had a considerably higher chance of survival (~35%) than male passengers in the 2nd and 3rd class. Male passengers in the 2nd and 3rd class had only probability of survival less than 20%. \n",
        "\n",
        "Based on these observations, it seems that the rescue was prioritized for passengers who had higher ticket class. We can infer that ***Pclass*** is an important feature to predict survival of passengers. "
      ]
    },
    {
      "cell_type": "markdown",
      "metadata": {
        "_uuid": "0f797f2ac7e6a732ec978ad66a898bef450444a5",
        "id": "H0l8pCbqcWN_"
      },
      "source": [
        "<a id='section 4.2.'></a>"
      ]
    },
    {
      "cell_type": "markdown",
      "metadata": {
        "_uuid": "829024cb99f6196b7982f3190bb4122bdfcee1b7",
        "id": "H8zaFy8EcWOA"
      },
      "source": [
        "## 4.2. Gender (*Sex*) EDA\n",
        "For gender feature, let's visualize the following:\n",
        "- Gender vs probability of survival (***Survived***)\n",
        "- Gender and ticket class (***Pclass***) vs probability of survival"
      ]
    },
    {
      "cell_type": "code",
      "metadata": {
        "_uuid": "53b0c8f4d993a4af49e2ea526a194f65f2a2b8d6",
        "id": "ag3h8rpscWOA",
        "colab": {
          "base_uri": "https://localhost:8080/",
          "height": 0
        },
        "outputId": "9e923dac-d95f-4d87-e5ff-4167b85662a9"
      },
      "source": [
        "plt.figure(figsize=(13,10))\n",
        "\n",
        "# Creating a bar chart of gender (Sex) vs probability of survival (Survived)\n",
        "ax1 = plt.subplot(221)\n",
        "g1 = sns.barplot(x='Sex', y='Survived', data=df_train, color='dodgerblue')\n",
        "plt.ylabel('Probability of Survival')\n",
        "plt.xlabel('Gender (Sex)')\n",
        "ax1.set_xticklabels(['Female', 'Male'])\n",
        "plt.title('Gender (Sex) Survival Comparison', size=13)\n",
        "\n",
        "# Creating a bar chart of gender (Sex) and ticket class (Pclass) vs probability of survival (Survived)\n",
        "ax2 = plt.subplot(222)\n",
        "g2 = sns.barplot(x='Sex', y='Survived', hue='Pclass', data=df_train, palette='GnBu_d')\n",
        "plt.ylabel('Probability of Survival')\n",
        "plt.xlabel('Gender (Sex)')\n",
        "ax2.set_xticklabels(['Female', 'Male'])\n",
        "handles, _ = g2.get_legend_handles_labels()\n",
        "ax2.legend(handles, ['1st Class', '2nd Class', '3rd Class'], title='Ticket Class')\n",
        "plt.title('Gender (Sex) | Ticket Class (Pclass) Survival Comparison', size=13)\n",
        "\n",
        "\n",
        "plt.subplots_adjust(hspace = 0.4, wspace = 0.3)\n",
        "\n",
        "plt.show()"
      ],
      "execution_count": 17,
      "outputs": [
        {
          "output_type": "display_data",
          "data": {
            "image/png": "[encoded data removed]",
            "text/plain": [
              "<Figure size 936x720 with 2 Axes>"
            ]
          },
          "metadata": {
            "needs_background": "light"
          }
        }
      ]
    },
    {
      "cell_type": "markdown",
      "metadata": {
        "_uuid": "b6a9a4afb165373653da8a8a8709ca1d363bb840",
        "id": "uuI8LLWrcWOA"
      },
      "source": [
        "From the charts above, we can observe the following:\n",
        "- Female passengers had significantly higher chance of survival (more than 70%) than male passengers (~20%). \n",
        "- Female passengers in the 1st and 2nd class had a considerably higher chance of survival (more than 85%) than female passengers in the 3rd class (only about 50%). Meanwhile, male passengers in the 1st class had considerably higher chance of survival (about 36%) than male passengers in the 2nd and 3rd class. \n",
        "\n",
        "Based on these observations, it seems that the rescue was prioritized for female passengers. We can infer that ***Sex*** is an important feature to predict survival of passengers."
      ]
    },
    {
      "cell_type": "markdown",
      "metadata": {
        "_uuid": "fed400ca734932be2a149920f48aac411b78e37c",
        "id": "8gdF9HVTcWOA"
      },
      "source": [
        "<a id='section 4.3.'></a>"
      ]
    },
    {
      "cell_type": "markdown",
      "metadata": {
        "_uuid": "20a76bf078ffc34c5ac8d578f45a9ed5e1877cc8",
        "id": "O08ZqTNdcWOA"
      },
      "source": [
        "<a id='section 4.4.'></a>"
      ]
    },
    {
      "cell_type": "markdown",
      "metadata": {
        "_uuid": "779ebfe1f3cd714fabe5ebe829286b45c4dccd90",
        "id": "3EYTXDtqcWOA"
      },
      "source": [
        "## 4.3. Passenger Is Alone (*IsAlone*) EDA\n",
        "For passenger is alone feature, let's visualize the following:\n",
        "- Passenger is alone vs probability of survival (***Survived***)\n",
        "- Passenger is alone and ticket class (***Pclass***) vs probability of survival\n",
        "- Passenger is alone and gender (***Sex***) vs probability of survival\n",
        "- Passenger is alone and port of embarkation (***Embarked***) vs probability of survival"
      ]
    },
    {
      "cell_type": "code",
      "metadata": {
        "_uuid": "2b9a79bbbe5860f5958763329d406548515fc5e7",
        "id": "O2N8ymH6cWOB",
        "colab": {
          "base_uri": "https://localhost:8080/",
          "height": 0
        },
        "outputId": "fbf0dfb5-2195-451f-c61f-0c642d66e45a"
      },
      "source": [
        "plt.figure(figsize=(13,10))\n",
        "\n",
        "# Creating a bar chart of passenger is alone (IsAlone) vs probability of survival (Survived)\n",
        "ax1 = plt.subplot(221)\n",
        "g1 = sns.barplot(x='IsAlone', y='Survived', data=df_train, color='steelblue', ci = None)\n",
        "plt.ylabel('Probability of Survival')\n",
        "plt.xlabel('Passenger Is Alone (IsAlone)')\n",
        "ax1.set_xticklabels(['No', 'Yes'])\n",
        "plt.title('Passenger Is Alone (IsAlone) \\n Survival Comparison', size=13)\n",
        "\n",
        "# Creating a bar chart of passenger is alone (IsAlone) and ticket class (Pclass) \n",
        "# vs probability of survival (Survived)\n",
        "ax2 = plt.subplot(222)\n",
        "g2 = sns.barplot(x='IsAlone', y='Survived', hue='Pclass', data=df_train, palette='ocean_r', ci = None)\n",
        "plt.ylabel('Probability of Survival')\n",
        "plt.xlabel('Passenger Is Alone (IsAlone)')\n",
        "ax2.set_xticklabels(['No', 'Yes'])\n",
        "handles, _ = g2.get_legend_handles_labels()\n",
        "ax2.legend(handles, ['1st Class', '2nd Class', '3rd Class'], title='Ticket Class')\n",
        "plt.title('Passenger Is Alone (IsAlone) | Ticket Class (Pclass) \\n Survival Comparison', size=13)\n",
        "\n",
        "plt.subplots_adjust(hspace = 0.4, wspace = 0.3)\n",
        "\n",
        "plt.show()"
      ],
      "execution_count": 18,
      "outputs": [
        {
          "output_type": "display_data",
          "data": {
            "image/png": "[encoded data removed]",
            "text/plain": [
              "<Figure size 936x720 with 2 Axes>"
            ]
          },
          "metadata": {
            "needs_background": "light"
          }
        }
      ]
    },
    {
      "cell_type": "markdown",
      "metadata": {
        "_uuid": "4aa75dd8fd576714548c2928b3944e487379c002",
        "id": "qjzj5FBTcWOB"
      },
      "source": [
        "From the charts above, we can observe the following:\n",
        "- Passengers who were travelling alone were less likely to survive than passengers who were travelling with someone else. \n",
        "- 1st class passengers were more likely to survive than 2nd class passengers, and 2nd class passengers were more likely to survive than 3rd class passengers. This applies for both passengers who were travelling alone and with someone else. \n",
        "- Female passengers were more likely to survive than male passengers. This applies for both passengers who were travelling alone and with someone else. \n",
        "- Passengers embarked from Southampton had higher survival chance than passengers embarked from Cherbourg and Queenstown. This applies for both passengers who were travelling alone and with someone else. "
      ]
    },
    {
      "cell_type": "markdown",
      "metadata": {
        "_uuid": "ffe27bcfcd8a5ef37d54827d7c3be677b0711898",
        "id": "lo8JbF64cWOB"
      },
      "source": [
        "<a id='section 4.5.'></a>"
      ]
    },
    {
      "cell_type": "markdown",
      "metadata": {
        "_uuid": "10fcd8da2a4b1eb0539c7db0b7aa8ecfadde51a3",
        "id": "K2uCQlaGcWOB"
      },
      "source": [
        "<a id='section 4.7.'></a>"
      ]
    },
    {
      "cell_type": "markdown",
      "metadata": {
        "_uuid": "8dfd226c2cfd1663673f086d4a6895298d23faa1",
        "id": "ZPw7JpvucWOB"
      },
      "source": [
        "## 4.12. Correlation Among Features\n",
        "Let's visualize the correlation among features by using a heatmap."
      ]
    },
    {
      "cell_type": "code",
      "metadata": {
        "_uuid": "8a8e291baecdca8bb99ab7e9125ac9e42c3214fe",
        "id": "i5Hia6JhcWOB",
        "colab": {
          "base_uri": "https://localhost:8080/",
          "height": 0
        },
        "outputId": "0966a071-abd6-459a-8845-49acfd5aa8d8"
      },
      "source": [
        "plt.figure(figsize=(14,10))\n",
        "\n",
        "# Creating a heatmap of correlation among features\n",
        "sns.heatmap(df_train.corr(), cmap='RdYlGn', annot=True)\n",
        "plt.title('Correlation Among Features', size=15)\n",
        "\n",
        "plt.show()"
      ],
      "execution_count": 19,
      "outputs": [
        {
          "output_type": "display_data",
          "data": {
            "image/png": "[encoded data removed]",
            "text/plain": [
              "<Figure size 1008x720 with 2 Axes>"
            ]
          },
          "metadata": {
            "needs_background": "light"
          }
        }
      ]
    },
    {
      "cell_type": "markdown",
      "metadata": {
        "_uuid": "5378386d228dad7bede1144b3b24915885b791ec",
        "id": "AxINROSGcWOC"
      },
      "source": [
        "We can observe that ***Pclass***, ***Sex***, and ***isAlone*** are some features that have a pretty high correlation with ***Survived***. Some multicollinearities (i.e., collinearity among independent features) are detected, such as ***isAlone*** and ***Sex***. Multicollinear features cause redundancies as they contain almost the same information. This increase training time. We should try to eliminate redundant features as it reduces training time. But for now, we will permit multicollinearities in our dataset. "
      ]
    },
    {
      "cell_type": "markdown",
      "metadata": {
        "_uuid": "9544adfa4f1d4696d4be638fbc6c796ecbe58e16",
        "id": "j1m2qEtFcWOC"
      },
      "source": [
        "<a id='section 5.0.'></a>"
      ]
    },
    {
      "cell_type": "markdown",
      "metadata": {
        "_uuid": "bb016e1459ab83c427f814585b0215139dde5a15",
        "id": "D0U56OF_cWOC"
      },
      "source": [
        "# 5.0. Data Modelling\n",
        "There is no machine learning algorithm that works best in all situations. So, the best approach is to generate a high performance model is by trying multiple algorithms, optimizing them, and comparing them for your specific scenario. In this section, we perform the following:\n",
        "\n",
        "- [**5.1. Simple Modelling**](#section 5.1.): We develop a decision rule based on a few of the characteristics of an individual. \n",
        "- [**5.2. Logistic Regression**](#section 5.2.): We use a logistic regression algorithm to predict outcome based on the characteritics of an individual.  \n",
        "\n",
        "In this problem, we use **accuracy** as the measure of model's performance. Accuracy is the fraction of predictions our model got right. "
      ]
    },
    {
      "cell_type": "markdown",
      "metadata": {
        "_uuid": "2cd2079eab18e3f7bff6f01084310a3f600b8fd4",
        "id": "Z5XD2u72cWOC"
      },
      "source": [
        "<a id='section 5.1.'></a>"
      ]
    },
    {
      "cell_type": "markdown",
      "metadata": {
        "_uuid": "ef7a9f439033b215992607bb898374a816144f9c",
        "id": "50lqBj-9cWOC"
      },
      "source": [
        "## 5.1. Simple Modelling\n",
        "We try two modeling techniques. One very simple approach predict survival if the individual is female or if they are a male in first class. s based on them and the dataset we have. Then, cross-validation is performed to estimate the accuracy of the machine learning models. You can read more about cross-validation in this [article](https://towardsdatascience.com/cross-validation-in-machine-learning-72924a69872f)."
      ]
    },
    {
      "cell_type": "markdown",
      "metadata": {
        "id": "zr9lIOtxcWOD"
      },
      "source": [
        "We seperate the dependent (y) and independent variables(X). In addition, we create a validation set to experiment with different algorithms"
      ]
    },
    {
      "cell_type": "code",
      "metadata": {
        "id": "0mZr_YrJcWOD"
      },
      "source": [
        "y=df_train['Survived']\n",
        "X=df_train.drop('Survived',axis=1)\n",
        "from sklearn.model_selection import train_test_split\n",
        "X_train, X_validation, y_train, y_validation = train_test_split(X, y, test_size=0.20, random_state=42)"
      ],
      "execution_count": 37,
      "outputs": []
    },
    {
      "cell_type": "code",
      "metadata": {
        "id": "1eLz3xGHcWOD"
      },
      "source": [
        "def predSurvival(Sex, Pclass, isAlone):\n",
        "    if Sex == 0:\n",
        "        survive = 1\n",
        "    elif Sex == 1 and Pclass == 1:\n",
        "        survive = 1\n",
        "    else:\n",
        "        survive = 0\n",
        "    return survive\n",
        "       "
      ],
      "execution_count": 21,
      "outputs": []
    },
    {
      "cell_type": "code",
      "metadata": {
        "id": "11hrA6bWcWOD"
      },
      "source": [
        "prediction = X_validation.apply(lambda x: predSurvival(x['Sex'], x['Pclass'], x['IsAlone']), axis=1)"
      ],
      "execution_count": 22,
      "outputs": []
    },
    {
      "cell_type": "code",
      "metadata": {
        "id": "kv9gX4gmcWOD",
        "colab": {
          "base_uri": "https://localhost:8080/"
        },
        "outputId": "34ec72dd-7747-4d8d-95f7-fa523ce64d9e"
      },
      "source": [
        "1 - sum(abs(prediction-y_validation)/X_validation.shape[0])"
      ],
      "execution_count": 23,
      "outputs": [
        {
          "output_type": "execute_result",
          "data": {
            "text/plain": [
              "0.7653631284916202"
            ]
          },
          "metadata": {},
          "execution_count": 23
        }
      ]
    },
    {
      "cell_type": "markdown",
      "metadata": {
        "id": "oKY0QtlycWOD"
      },
      "source": [
        "With our simple decision rule (predict survival if female or first class), we can get approximately 76% accuracy. Experimenting with different validation sets (cross-validation) would improve our understanding of how robust this measure is. "
      ]
    },
    {
      "cell_type": "markdown",
      "metadata": {
        "_uuid": "922bb03ec4b0bda130d3c8793802e369c5e88d15",
        "id": "SLMW_cq8cWOD"
      },
      "source": [
        "<a id='section 5.2.'></a>"
      ]
    },
    {
      "cell_type": "markdown",
      "metadata": {
        "_uuid": "e19671dc3f69a085cb9c4d3bee033e6a58cef20b",
        "id": "-QwatFVLcWOE"
      },
      "source": [
        "## Logistic Regression\n",
        "Logistic regression is used to explain the relationship between one dependent binary variable and one or more independent variables. We use cross-validation is performed to estimate the accuracy of the machine learning models. You can read more about cross-validation in this [article](https://towardsdatascience.com/cross-validation-in-machine-learning-72924a69872f).\n"
      ]
    },
    {
      "cell_type": "code",
      "metadata": {
        "id": "QPjUEdHCxj-d",
        "outputId": "086d2352-3053-4deb-c793-858e4722ba86",
        "colab": {
          "base_uri": "https://localhost:8080/",
          "height": 235
        }
      },
      "source": [
        "df_train.head()\n"
      ],
      "execution_count": 38,
      "outputs": [
        {
          "output_type": "execute_result",
          "data": {
            "text/html": [
              "<div>\n",
              "<style scoped>\n",
              "    .dataframe tbody tr th:only-of-type {\n",
              "        vertical-align: middle;\n",
              "    }\n",
              "\n",
              "    .dataframe tbody tr th {\n",
              "        vertical-align: top;\n",
              "    }\n",
              "\n",
              "    .dataframe thead th {\n",
              "        text-align: right;\n",
              "    }\n",
              "</style>\n",
              "<table border=\"1\" class=\"dataframe\">\n",
              "  <thead>\n",
              "    <tr style=\"text-align: right;\">\n",
              "      <th></th>\n",
              "      <th>Survived</th>\n",
              "      <th>Pclass</th>\n",
              "      <th>Sex</th>\n",
              "      <th>Age</th>\n",
              "      <th>SibSp</th>\n",
              "      <th>Parch</th>\n",
              "      <th>SibSp+Parch</th>\n",
              "      <th>IsAlone</th>\n",
              "    </tr>\n",
              "    <tr>\n",
              "      <th>PassengerId</th>\n",
              "      <th></th>\n",
              "      <th></th>\n",
              "      <th></th>\n",
              "      <th></th>\n",
              "      <th></th>\n",
              "      <th></th>\n",
              "      <th></th>\n",
              "      <th></th>\n",
              "    </tr>\n",
              "  </thead>\n",
              "  <tbody>\n",
              "    <tr>\n",
              "      <th>1</th>\n",
              "      <td>0</td>\n",
              "      <td>3</td>\n",
              "      <td>1</td>\n",
              "      <td>22.0</td>\n",
              "      <td>1</td>\n",
              "      <td>0</td>\n",
              "      <td>1</td>\n",
              "      <td>0</td>\n",
              "    </tr>\n",
              "    <tr>\n",
              "      <th>2</th>\n",
              "      <td>1</td>\n",
              "      <td>1</td>\n",
              "      <td>0</td>\n",
              "      <td>38.0</td>\n",
              "      <td>1</td>\n",
              "      <td>0</td>\n",
              "      <td>1</td>\n",
              "      <td>0</td>\n",
              "    </tr>\n",
              "    <tr>\n",
              "      <th>3</th>\n",
              "      <td>1</td>\n",
              "      <td>3</td>\n",
              "      <td>0</td>\n",
              "      <td>26.0</td>\n",
              "      <td>0</td>\n",
              "      <td>0</td>\n",
              "      <td>0</td>\n",
              "      <td>1</td>\n",
              "    </tr>\n",
              "    <tr>\n",
              "      <th>4</th>\n",
              "      <td>1</td>\n",
              "      <td>1</td>\n",
              "      <td>0</td>\n",
              "      <td>35.0</td>\n",
              "      <td>1</td>\n",
              "      <td>0</td>\n",
              "      <td>1</td>\n",
              "      <td>0</td>\n",
              "    </tr>\n",
              "    <tr>\n",
              "      <th>5</th>\n",
              "      <td>0</td>\n",
              "      <td>3</td>\n",
              "      <td>1</td>\n",
              "      <td>35.0</td>\n",
              "      <td>0</td>\n",
              "      <td>0</td>\n",
              "      <td>0</td>\n",
              "      <td>1</td>\n",
              "    </tr>\n",
              "  </tbody>\n",
              "</table>\n",
              "</div>"
            ],
            "text/plain": [
              "             Survived  Pclass  Sex   Age  SibSp  Parch  SibSp+Parch  IsAlone\n",
              "PassengerId                                                                 \n",
              "1                   0       3    1  22.0      1      0            1        0\n",
              "2                   1       1    0  38.0      1      0            1        0\n",
              "3                   1       3    0  26.0      0      0            0        1\n",
              "4                   1       1    0  35.0      1      0            1        0\n",
              "5                   0       3    1  35.0      0      0            0        1"
            ]
          },
          "metadata": {},
          "execution_count": 38
        }
      ]
    },
    {
      "cell_type": "code",
      "metadata": {
        "id": "83VCORclcWOE",
        "colab": {
          "base_uri": "https://localhost:8080/"
        },
        "outputId": "60dd989a-d37a-473f-b20c-dd83b1e3ad27"
      },
      "source": [
        "logReg=LogisticRegression(solver='liblinear')\n",
        "logReg.fit(X_train,y_train)\n",
        "#pred_train=logReg.predict(train_y)\n",
        "score=cross_val_score(logReg,X_train,y_train,cv=5)\n",
        "print(\"Score:\",score)\n",
        "#print(\"Confusion_matrix:\",confusion_matrix(train_y,pred_train))\n",
        "acc_log = round(logReg.score(X_train,y_train) * 100, 2)\n",
        "acc_log"
      ],
      "execution_count": 28,
      "outputs": [
        {
          "output_type": "stream",
          "name": "stdout",
          "text": [
            "Score: [0.81818182 0.81818182 0.78873239 0.76056338 0.81690141]\n"
          ]
        },
        {
          "output_type": "execute_result",
          "data": {
            "text/plain": [
              "80.2"
            ]
          },
          "metadata": {},
          "execution_count": 28
        }
      ]
    },
    {
      "cell_type": "markdown",
      "metadata": {
        "id": "UfakwJqccWOE"
      },
      "source": [
        "Now let's test out the model on the validation set. "
      ]
    },
    {
      "cell_type": "code",
      "metadata": {
        "id": "sxgj9p4LcWOE"
      },
      "source": [
        "prediction=logReg.predict(X_validation)"
      ],
      "execution_count": 29,
      "outputs": []
    },
    {
      "cell_type": "code",
      "metadata": {
        "id": "82aHpUWCcWOE",
        "colab": {
          "base_uri": "https://localhost:8080/"
        },
        "outputId": "43653840-6bed-4521-cd8e-c73032fd55b9"
      },
      "source": [
        "1 - sum(abs(prediction-y_validation)/X_validation.shape[0])"
      ],
      "execution_count": 30,
      "outputs": [
        {
          "output_type": "execute_result",
          "data": {
            "text/plain": [
              "0.8044692737430169"
            ]
          },
          "metadata": {},
          "execution_count": 30
        }
      ]
    },
    {
      "cell_type": "markdown",
      "metadata": {
        "_uuid": "5929191d86e8edc2ae97996b58e5533a880e388e",
        "id": "Q52g1cdhcWOF"
      },
      "source": [
        "<a id='section 6.0.'></a>"
      ]
    },
    {
      "cell_type": "markdown",
      "metadata": {
        "_uuid": "83630c745b1f3abc6892291cabd8ba3784fa989f",
        "id": "FHbuXCxMcWOF"
      },
      "source": [
        "# 6.0. Prediction\n",
        "We now make our predictions on the test dataset. We do not know the survival status of these individuals, but we use our modeling results from the training set to predict the survival of passengers."
      ]
    },
    {
      "cell_type": "code",
      "metadata": {
        "id": "hnWQIyq1cWOF"
      },
      "source": [
        "# Load the test data \n",
        "url = 'https://raw.githubusercontent.com/wesm/pydata-book/2nd-edition/datasets/titanic/test.csv'\n",
        "df_test = pd.read_csv(url, error_bad_lines=False)"
      ],
      "execution_count": 81,
      "outputs": []
    },
    {
      "cell_type": "code",
      "metadata": {
        "id": "7dKUhUzfcWOF"
      },
      "source": [
        "df_test.replace({'male': 1, 'female': 0}, inplace=True)\n",
        "df_test['Age'].fillna(df_test['Age'].median(),inplace=True)\n",
        "df_test['SibSp+Parch'] = df_test['SibSp'] + df_test['Parch'] \n",
        "df_test['IsAlone'] = df_test['SibSp+Parch'].map(lambda x: 1 if x == 0 else 0)"
      ],
      "execution_count": 82,
      "outputs": []
    },
    {
      "cell_type": "code",
      "metadata": {
        "id": "OaL_RICQzPxv"
      },
      "source": [
        "df_test.set_index('PassengerId', inplace=True)"
      ],
      "execution_count": 83,
      "outputs": []
    },
    {
      "cell_type": "code",
      "metadata": {
        "id": "RqLkysbqcWOF"
      },
      "source": [
        "df_test.drop(columns=['Name', 'Ticket','Fare', 'Embarked', 'Cabin'], inplace=True)"
      ],
      "execution_count": 84,
      "outputs": []
    },
    {
      "cell_type": "code",
      "metadata": {
        "_uuid": "2dbe18785dad7f347c5a9395bffd068398705748",
        "id": "Uvs7787lcWOG"
      },
      "source": [
        "\n",
        "# Creating a submission file\n",
        "test_Survived = pd.DataFrame(logReg.predict(df_test), columns=['Survived'],index=np.arange(892,1310,1))\n",
        "test_Survived = test_Survived.reset_index()\n",
        "test_Survived.rename(columns={'index': 'PassengerId'}, inplace=True)\n",
        "test_Survived.to_csv(\"submission.csv\")"
      ],
      "execution_count": 85,
      "outputs": []
    },
    {
      "cell_type": "markdown",
      "metadata": {
        "_uuid": "3f74c4d5f0524cfc5c80dc3dcc35d6624d96de2c",
        "id": "cgxWmV99cWOG"
      },
      "source": [
        "<a id='References'></a>"
      ]
    },
    {
      "cell_type": "markdown",
      "metadata": {
        "_uuid": "a654d098b5502c6a91bcfe1f9df23a23064c1cef",
        "id": "k68H3pcUcWOG"
      },
      "source": [
        "# References"
      ]
    },
    {
      "cell_type": "markdown",
      "metadata": {
        "id": "zNwoWglDcWOG"
      },
      "source": [
        "<a id='section 7.0.'></a>"
      ]
    },
    {
      "cell_type": "markdown",
      "metadata": {
        "_uuid": "6ddeb033f44aaae0fc866890c73aaa9eba71fae3",
        "id": "et6l1RpFcWOG"
      },
      "source": [
        "The following kernels are my main references in creating this notebook:\n",
        "- [A Data Science Framework: To Achieve 99% Accuracy](https://www.kaggle.com/ldfreeman3/a-data-science-framework-to-achieve-99-accuracy)\n",
        "- [Titanic end to end Machine learning workflow](https://www.kaggle.com/ar2017/titanic-end-to-end-ml-workflow-top-7)\n",
        "- [Titanic Classification Cross validation](https://www.kaggle.com/sushmitapandit184/titanic-dataset-classification-cross-validation)\n",
        "[Titanic Data Science Solutions](https://www.kaggle.com/startupsci/titanic-data-science-solutions)\n"
      ]
    }
  ]
}