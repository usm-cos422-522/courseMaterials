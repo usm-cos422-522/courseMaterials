{
 "cells": [
  {
   "cell_type": "markdown",
   "metadata": {
    "colab_type": "text",
    "id": "view-in-github"
   },
   "source": [
    "<a href=\"https://colab.research.google.com/github/usm-cos422-522/Working/blob/main/TimeSeriesLab.ipynb\" target=\"_parent\"><img src=\"https://colab.research.google.com/assets/colab-badge.svg\" alt=\"Open In Colab\"/></a>"
   ]
  },
  {
   "cell_type": "markdown",
   "metadata": {
    "id": "zqiUpFNAs07i"
   },
   "source": [
    "## Time Series Lab\n",
    "### Investigating NYC Bike Share data\n",
    "\n",
    "Note : Kaggle has a great competition (https://www.kaggle.com/c/bike-sharing-demand) that looks at this in more depth"
   ]
  },
  {
   "cell_type": "code",
   "execution_count": 2,
   "metadata": {
    "id": "MsT3jdEuZDX4"
   },
   "outputs": [],
   "source": [
    "#Place imports here\n",
    "import pandas as pd\n",
    "import numpy as np\n",
    "import datetime\n",
    "from datetime import timedelta\n",
    "# Import Matplotlib\n",
    "import matplotlib.pyplot as plt\n",
    "\n",
    "%matplotlib inline"
   ]
  },
  {
   "cell_type": "code",
   "execution_count": null,
   "metadata": {
    "id": "59SXPB7yZFZi"
   },
   "outputs": [],
   "source": [
    "# if you are doing this on a local machine, then you will need to install wget or download manually from https://ride.citibikenyc.com/system-data\n",
    "!mkdir data\n",
    "!wget https://s3.amazonaws.com/tripdata/JC-202110-citibike-tripdata.csv.zip\n",
    "!unzip JC-202110-citibike-tripdata.csv.zip -d data\n",
    "!rm JC-202110-citibike-tripdata.csv.zip\n",
    "!ls data"
   ]
  },
  {
   "cell_type": "code",
   "execution_count": null,
   "metadata": {
    "id": "Y5tFqy2WbZ2h"
   },
   "outputs": [],
   "source": [
    "!ls data"
   ]
  },
  {
   "cell_type": "markdown",
   "metadata": {
    "id": "Rj0bhmEWZDX7"
   },
   "source": [
    "### Exercise : \n",
    "Read in the bike share data from October, 2011 (file you downloaed above).  The columns \"starttime\" and \"stoptime\" should be read in as dates using the parse_dates option in read_csv. Display the top 5 records"
   ]
  },
  {
   "cell_type": "code",
   "execution_count": 1,
   "metadata": {
    "id": "do4bxlpNZDX8"
   },
   "outputs": [],
   "source": [
    "#Write your code here \n"
   ]
  },
  {
   "cell_type": "markdown",
   "metadata": {
    "id": "H3aa7DAVvhtC"
   },
   "source": [
    "### Exercise \n",
    "We will not need the following columns so remove them : \n",
    "'ride_id', 'rideable_type','start_station_name', 'end_station_name', \n",
    "                                      'member_casual','start_lat', 'start_lng', 'end_lat', 'end_lng'"
   ]
  },
  {
   "cell_type": "code",
   "execution_count": null,
   "metadata": {
    "id": "aHztrpdYZDX-"
   },
   "outputs": [],
   "source": [
    "# Write your code here\n"
   ]
  },
  {
   "cell_type": "markdown",
   "metadata": {
    "id": "EeRZNFVTZDX-"
   },
   "source": [
    "### Exercise : \n",
    "Create columns : \n",
    "\n",
    "\n",
    "*   \"start_hour\", \"end_hour\" which gives the hour of the day that the bike was checked out and returned. \n",
    "\n",
    "*    day which is the day of the month\n",
    "*    day name which is the name of the day (ie, Monday, Tuesday, ..)\n",
    "*    duration which has the ride duration in seconds.\n",
    "\n",
    "\n",
    "What is the data type of the hour ? duration ? (Put answer as a comment in code)\n",
    "\n",
    "Some of the following links may help if you get stuck: https://pandas.pydata.org/docs/reference/series.html#datetimelike-properties https://pandas.pydata.org/docs/reference/api/pandas.Series.dt.hour.html \n",
    "https://pandas.pydata.org/pandas-docs/stable/reference/api/pandas.Timedelta.total_seconds.html \n",
    "\n"
   ]
  },
  {
   "cell_type": "code",
   "execution_count": null,
   "metadata": {
    "id": "_TtonuSrZDX-"
   },
   "outputs": [],
   "source": [
    "#Write your code here\n",
    "\n",
    "df_bikes_share[\"start_hour\"] = df_bikes_share.started_at.dt.hour\n"
   ]
  },
  {
   "cell_type": "markdown",
   "metadata": {
    "id": "Wp73p3tJy-wX"
   },
   "source": [
    "### Exercise\n",
    "Construct a histogram of the # of rides for each day of the month. Do you notice any patterns ? (Put answer as a comment)"
   ]
  },
  {
   "cell_type": "code",
   "execution_count": null,
   "metadata": {
    "id": "bh2rkgj5ZDYE"
   },
   "outputs": [],
   "source": [
    "# Write your code here\n",
    "\n"
   ]
  },
  {
   "cell_type": "markdown",
   "metadata": {
    "id": "0tTOYzis1h0R"
   },
   "source": [
    "### Exercise\n",
    "Construct a histogram of the number of rides by hour of the day. Do you notice any patterns ? (Put answer as a comment)"
   ]
  },
  {
   "cell_type": "code",
   "execution_count": null,
   "metadata": {
    "id": "-DcEdcOfZDYF"
   },
   "outputs": [],
   "source": [
    "# Write your code here \n",
    "\n"
   ]
  },
  {
   "cell_type": "markdown",
   "metadata": {
    "id": "G_jx0BnW2pJa"
   },
   "source": [
    "### Exercise\n",
    "Construct a histogram of the ride duration with about 10 bins. Is the plot informative ? Why ?"
   ]
  },
  {
   "cell_type": "code",
   "execution_count": null,
   "metadata": {
    "id": "oOIztcJD3CoY"
   },
   "outputs": [],
   "source": [
    "# Write code here \n"
   ]
  },
  {
   "cell_type": "markdown",
   "metadata": {
    "id": "Xu5yHzU83HsS"
   },
   "source": [
    "### Exercise\n",
    "The above plot had a large number of short rides. Construct a new dataframe that only has rides with duration less than 30 minutes. You will need to create a timedelta object of 30 minutes to do the boolean selection. Now construct a histogram of the short duration rides with about 10-15 bins. What is the most common short ride duration ? "
   ]
  },
  {
   "cell_type": "code",
   "execution_count": null,
   "metadata": {
    "id": "50duDB6IZDYF"
   },
   "outputs": [],
   "source": [
    "# Write your code here \n",
    "\n"
   ]
  },
  {
   "cell_type": "markdown",
   "metadata": {
    "id": "ASesllrQ4ihz"
   },
   "source": [
    "### Graduate Students/Extra credit \n",
    "\n",
    "One of the primary tasks for a bike share organization is make sure that the bikes are in the right location. One-way travel can create imbalances at different locations. In this section, we begin looking at the imbalance problem. \n",
    "\n",
    "\n",
    "\n",
    "1.   Start by creating two groups : (start_station_id, hour) and (end_station_id, hour)\n",
    "2.   call the size method on each group to get the total number of arrivals and departures during the hour. Save the results. \n",
    "3.   Construct two data frames from step 2 (it is a series) and name the size column in the start station df to checkouts and name the size column to checkins in the end station. \n",
    "4.    Reset the index to move the index columns into the dataframe. In the start station data frame, rename start_station_id to station_id and in the end station dataframe rename end_station_id to station_id.\n",
    "5.    Merge the two dataframes using an outer join on station, hour\n",
    "6.    Set all nan to 0\n",
    "7.    Construct a new column, delta, which is checkins-checkouts. \n",
    "8.    Report the station and hour with the largest number of additional bikes in an hour and the largest deficient in bikes in an hour (you may find the idxmax and idxmin functions helpful). \n",
    "\n"
   ]
  },
  {
   "cell_type": "code",
   "execution_count": null,
   "metadata": {
    "id": "1691HY6oZDYG"
   },
   "outputs": [],
   "source": [
    "# Write your code in the cells below \n",
    "\n"
   ]
  },
  {
   "cell_type": "code",
   "execution_count": null,
   "metadata": {
    "id": "sR-qMG7wZDYH"
   },
   "outputs": [],
   "source": []
  },
  {
   "cell_type": "code",
   "execution_count": null,
   "metadata": {
    "id": "ae64ZsRlZDYH"
   },
   "outputs": [],
   "source": []
  },
  {
   "cell_type": "markdown",
   "metadata": {
    "id": "tM31rXfu-37c"
   },
   "source": [
    "### Submit completed notebook to Brightspace"
   ]
  }
 ],
 "metadata": {
  "colab": {
   "collapsed_sections": [],
   "include_colab_link": true,
   "name": "TimeSeriesLab.ipynb",
   "provenance": []
  },
  "kernelspec": {
   "display_name": "Python 3",
   "language": "python",
   "name": "python3"
  },
  "language_info": {
   "codemirror_mode": {
    "name": "ipython",
    "version": 3
   },
   "file_extension": ".py",
   "mimetype": "text/x-python",
   "name": "python",
   "nbconvert_exporter": "python",
   "pygments_lexer": "ipython3",
   "version": "3.8.3"
  },
  "toc": {
   "colors": {
    "hover_highlight": "#DAA520",
    "navigate_num": "#000000",
    "navigate_text": "#333333",
    "running_highlight": "#FF0000",
    "selected_highlight": "#FFD700",
    "sidebar_border": "#EEEEEE",
    "wrapper_background": "#FFFFFF"
   },
   "moveMenuLeft": true,
   "nav_menu": {
    "height": "12px",
    "width": "252px"
   },
   "navigate_menu": true,
   "number_sections": true,
   "sideBar": true,
   "threshold": 4,
   "toc_cell": false,
   "toc_section_display": "block",
   "toc_window_display": false,
   "widenNotebook": false
  }
 },
 "nbformat": 4,
 "nbformat_minor": 1
}
