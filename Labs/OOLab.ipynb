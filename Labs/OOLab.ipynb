{
  "nbformat": 4,
  "nbformat_minor": 0,
  "metadata": {
    "colab": {
      "name": "OOLab.ipynb",
      "provenance": [],
      "authorship_tag": "ABX9TyOHtfF/HO22e++jZv+neQz0",
      "include_colab_link": true
    },
    "kernelspec": {
      "name": "python3",
      "display_name": "Python 3"
    },
    "language_info": {
      "name": "python"
    }
  },
  "cells": [
    {
      "cell_type": "markdown",
      "metadata": {
        "id": "view-in-github",
        "colab_type": "text"
      },
      "source": [
        "<a href=\"https://colab.research.google.com/github/usm-cos422-522/Working/blob/main/OOLab.ipynb\" target=\"_parent\"><img src=\"https://colab.research.google.com/assets/colab-badge.svg\" alt=\"Open In Colab\"/></a>"
      ]
    },
    {
      "cell_type": "markdown",
      "metadata": {
        "id": "o8U1St-i4dmj"
      },
      "source": [
        "### Object Oriented Lab\n",
        "\n",
        "Creating classes to pull data from a Recreation API\n"
      ]
    },
    {
      "cell_type": "markdown",
      "metadata": {
        "id": "YFfWT5uD5YMb"
      },
      "source": [
        "### Exercise (Setting the stage)\n",
        "\n",
        "*   Sign up for an account at https://ridb.recreation.gov/landing\n",
        "*   Select profile in upper right hand corner and get an api key (https://ridb.recreation.gov/profile). Copy it somewhere accessible (we will need it)\n",
        "*   Experiment with a few of the api's at : https://ridb.recreation.gov/docs\n",
        "\n"
      ]
    },
    {
      "cell_type": "code",
      "metadata": {
        "id": "flBwvyEn4cr3"
      },
      "source": [
        "# this makes sure files are reloaded (so latest version is used)\n",
        "%load_ext autoreload\n",
        "%autoreload 2\n"
      ],
      "execution_count": 2,
      "outputs": []
    },
    {
      "cell_type": "code",
      "metadata": {
        "colab": {
          "base_uri": "https://localhost:8080/"
        },
        "id": "C8mfYfDn9M8Y",
        "outputId": "37c487d4-da3f-4d6d-97e1-bce3bee910a8"
      },
      "source": [
        "!pip install config      # not available by default"
      ],
      "execution_count": 4,
      "outputs": [
        {
          "output_type": "stream",
          "name": "stdout",
          "text": [
            "Collecting config\n",
            "  Downloading config-0.5.1-py2.py3-none-any.whl (20 kB)\n",
            "Installing collected packages: config\n",
            "Successfully installed config-0.5.1\n"
          ]
        }
      ]
    },
    {
      "cell_type": "code",
      "metadata": {
        "id": "l0S5F-D97r54"
      },
      "source": [
        "# Bring in some libraries \n",
        "import pandas as pd\n",
        "import requests\n",
        "import json\n",
        "import numpy as np\n",
        "import config\n"
      ],
      "execution_count": 15,
      "outputs": []
    },
    {
      "cell_type": "markdown",
      "metadata": {
        "id": "WBjCQT4A8CVS"
      },
      "source": [
        "### Exercise\n",
        "\n",
        "We do not want to put our api key in the source code of our notebook (private information). The process is to put the api key in a file and then read it in.  If you did not do this, then you would have to substitute your api directly into the code. \n",
        "*   Create a file on your local machine called config.cfg and put one line in the file  API_KEY:'your-key'\n",
        "*   upload the file to Google colab :  \n",
        "Access local files through the file-explorer. Click on the three dots visible when you hover above the directory. Select the “upload” option.\n",
        "Select the file(s) you wish to upload from the “File Upload” dialog window.\n",
        "\n",
        "*   run the code below and verify that the correct key is displayed\n",
        "*   When you verify it works, then you can delete the cell\n",
        "\n"
      ]
    },
    {
      "cell_type": "code",
      "metadata": {
        "id": "6S3LMOkB71cR"
      },
      "source": [
        "cfg = config.Config('config.cfg')\n",
        "cfg['API_KEY']"
      ],
      "execution_count": null,
      "outputs": []
    },
    {
      "cell_type": "code",
      "metadata": {
        "id": "0OyLRHowBRpB"
      },
      "source": [
        "# When we start out, we are often in experiment mode ... just get something to work\n",
        "# Verify that the following code runs : \n",
        "ridb_params = {'limit': 50, 'state' : 'ME, NH','apikey': cfg['API_KEY']}\n",
        "ridb_facilities_endpoint = 'https://ridb.recreation.gov/api/v1/facilities'\n",
        "response = requests.get(ridb_facilities_endpoint, params=ridb_params)\n",
        "data = json.loads(response.text)\n",
        "df = pd.json_normalize(data['RECDATA'])\n",
        "df.head()"
      ],
      "execution_count": null,
      "outputs": []
    },
    {
      "cell_type": "code",
      "metadata": {
        "id": "IYe_jy5ZCv-j"
      },
      "source": [
        "# let's clean up some of the data\n",
        "df = df.replace('', np.nan)\n",
        "df.columns = df.columns.str.replace('.*Latitude', 'Latitude')\n",
        "df.columns = df.columns.str.replace('.*Longitude', 'Longitude')\n",
        "df = df.dropna(subset=['Latitude','Longitude'])"
      ],
      "execution_count": 16,
      "outputs": []
    },
    {
      "cell_type": "code",
      "metadata": {
        "id": "lbFKZ_EuBf1Z"
      },
      "source": [
        "# There are a lot of APIs and we may want to access them, so let's have a convienent \n",
        "# function to load and clean up data \n",
        "def load_clean_ridb_data(endpoint,url_params):\n",
        "   response = requests.get(url = endpoint, params = url_params)\n",
        "   data = json.loads(response.text)\n",
        "   df = pd.json_normalize(data['RECDATA'])\n",
        "   df = df.replace('', np.nan)\n",
        "   df.columns = df.columns.str.replace('.*Latitude', 'Latitude')\n",
        "   df.columns = df.columns.str.replace('.*Longitude', 'Longitude')\n",
        "   df = df.dropna(subset=['Latitude','Longitude'])\n",
        "\n",
        "   return df\n"
      ],
      "execution_count": 17,
      "outputs": []
    },
    {
      "cell_type": "code",
      "metadata": {
        "id": "pAvsVWLkDP0g"
      },
      "source": [
        "# we check that it works and is the same as above\n",
        "ridb_df = get_ridb_data(ridb_facilities_endpoint, ridb_params)\n",
        "ridb_df.head()"
      ],
      "execution_count": null,
      "outputs": []
    },
    {
      "cell_type": "markdown",
      "metadata": {
        "id": "PHwxeUBZEY6F"
      },
      "source": [
        "### Exercise \n",
        "Data loading and transformation is often done by a class in Data Science projects.  We will use our simple example to practice this. The code in the above method should be organized into a class with the following structure \n",
        "\n",
        "RidbData : Name of class \n",
        "\n",
        "*   has an attribute named df that is a dataframe to hold the loaded data\n",
        "*   initialization method with parameters for name for df, url endpoint, url_params\n",
        "*   clean method to do data transformations\n",
        "*   load data method to pull the data from the url with parameters and puts in the df attribute\n",
        "\n",
        "Verify that the class works on the facilities by creating an object instance, loading the data, then print the shape of the df attribute. Next display the head rows, then clean the data, re-display head\n",
        "\n",
        "Finally, verify it works on the campsite data"
      ]
    },
    {
      "cell_type": "code",
      "metadata": {
        "id": "hx_tsIDnDWZm"
      },
      "source": [
        ""
      ],
      "execution_count": null,
      "outputs": []
    },
    {
      "cell_type": "markdown",
      "metadata": {
        "id": "vkJRmuAsPCLS"
      },
      "source": [
        "### Exercise \n",
        "We extend and override the clean method to accommodate the media api\n",
        "\n",
        "The RIDB Media Endpoint is per facility, so we have to provide the facility ID in the endpoint URL:\n",
        "https://ridb.recreation.gov/api/v1/facilities/{facilityID}/media/\n",
        "\n",
        "*   Use your class to attempt to get the media for facility 10118160  verify it works and the head\n",
        "*   Now try to clean the class. What happened and why ? \n",
        "*   Create a new class RidbMedia that has all the characteristics of the previous class except the clean method only selects MediaType = 'Image' (note that you should first check to make sure the dataframe is not empty).  \n",
        "\n",
        "Verify that it works for a few facilities \n"
      ]
    },
    {
      "cell_type": "code",
      "metadata": {
        "id": "dY6bPVgMRSF6"
      },
      "source": [
        ""
      ],
      "execution_count": null,
      "outputs": []
    },
    {
      "cell_type": "markdown",
      "metadata": {
        "id": "VgXRgRFQRSyj"
      },
      "source": [
        "### Exercise (Graduate Students or Extra Credit)\n",
        "\n",
        "Passing in the FacilityID as part of the URL was a bit clunky for the user. Support the ability to pass in a list of facilities and collect all the media entries for those facilities (up to the limit).  \n"
      ]
    },
    {
      "cell_type": "markdown",
      "metadata": {
        "id": "DWgrgtJMULNr"
      },
      "source": [
        "### Handin \n",
        "Completed notebook to Brightspace"
      ]
    }
  ]
}