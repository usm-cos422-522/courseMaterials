{
  "nbformat": 4,
  "nbformat_minor": 0,
  "metadata": {
    "colab": {
      "provenance": [],
      "collapsed_sections": [],
      "authorship_tag": "ABX9TyPwHf2Z27KRHQJM7ZlGl2gP",
      "include_colab_link": true
    },
    "kernelspec": {
      "name": "python3",
      "display_name": "Python 3"
    },
    "language_info": {
      "name": "python"
    }
  },
  "cells": [
    {
      "cell_type": "markdown",
      "metadata": {
        "id": "view-in-github",
        "colab_type": "text"
      },
      "source": [
        "<a href=\"https://colab.research.google.com/github/usm-cos422-522/courseMaterials/blob/main/DictionaryComprehension.ipynb\" target=\"_parent\"><img src=\"https://colab.research.google.com/assets/colab-badge.svg\" alt=\"Open In Colab\"/></a>"
      ]
    },
    {
      "cell_type": "code",
      "source": [
        "course={'title': 'Computing for Data Science',\n",
        "   'instructor': {'name':'Bruce', 'mail': 'macleod@maine.edu'},\n",
        "   'students': {'1': {'name': 'John', 'age': '21'},\n",
        "                '2': {'name': 'James', 'age': '32'},\n",
        "                '3': {'name': 'Mary', 'age': '20'}},\n",
        "   'modality': 'zoom meet every Monday, Wednesday from 11 to 12:15'}"
      ],
      "metadata": {
        "id": "vugcjj3K1ZZa"
      },
      "execution_count": 62,
      "outputs": []
    },
    {
      "cell_type": "code",
      "source": [
        "print(type(course))\n",
        "print(type(course['instructor']))\n",
        "print(type(course['students']))\n",
        "print(type(course['students']['1']))"
      ],
      "metadata": {
        "colab": {
          "base_uri": "https://localhost:8080/"
        },
        "id": "W7REVYq19O2L",
        "outputId": "4d792eac-a800-44d9-e1f9-dc1540ca7b2b"
      },
      "execution_count": 64,
      "outputs": [
        {
          "output_type": "stream",
          "name": "stdout",
          "text": [
            "<class 'dict'>\n",
            "<class 'dict'>\n",
            "<class 'dict'>\n",
            "<class 'dict'>\n"
          ]
        }
      ]
    },
    {
      "cell_type": "code",
      "source": [
        "for id, a_student in course['students'].items():\n",
        "     print(a_student)\n",
        "[a_student for id, a_student in course['students'].items()]"
      ],
      "metadata": {
        "colab": {
          "base_uri": "https://localhost:8080/"
        },
        "id": "xwPbdvhc60yU",
        "outputId": "e934f070-2e03-4469-e230-f104b5934dae"
      },
      "execution_count": 61,
      "outputs": [
        {
          "output_type": "stream",
          "name": "stdout",
          "text": [
            "{'name': 'John', 'age': '21'}\n",
            "{'name': 'James', 'age': '32'}\n",
            "{'name': 'Mary', 'age': '20'}\n"
          ]
        },
        {
          "output_type": "execute_result",
          "data": {
            "text/plain": [
              "[{'name': 'John', 'age': '21'},\n",
              " {'name': 'James', 'age': '32'},\n",
              " {'name': 'Mary', 'age': '20'}]"
            ]
          },
          "metadata": {},
          "execution_count": 61
        }
      ]
    },
    {
      "cell_type": "code",
      "source": [
        "for id, a_student in course['students'].items():\n",
        "     for k,v in a_student.items():\n",
        "         print(k,v)\n",
        "[(k,v) for id, a_student in course['students'].items() for k,v in a_student.items()]"
      ],
      "metadata": {
        "colab": {
          "base_uri": "https://localhost:8080/"
        },
        "id": "NFCsm2YV7U20",
        "outputId": "731544b4-9a18-494d-eb1e-e6052352ccf9"
      },
      "execution_count": 77,
      "outputs": [
        {
          "output_type": "stream",
          "name": "stdout",
          "text": [
            "name John\n",
            "age 21\n",
            "name James\n",
            "age 32\n",
            "name Mary\n",
            "age 20\n"
          ]
        },
        {
          "output_type": "execute_result",
          "data": {
            "text/plain": [
              "[('name', 'John'),\n",
              " ('age', '21'),\n",
              " ('name', 'James'),\n",
              " ('age', '32'),\n",
              " ('name', 'Mary'),\n",
              " ('age', '20')]"
            ]
          },
          "metadata": {},
          "execution_count": 77
        }
      ]
    },
    {
      "cell_type": "code",
      "source": [
        "# print all attributes of students > 21\n",
        "for id, a_student in course['students'].items():\n",
        "      if int(a_student['age']) > 21:\n",
        "         for k,v in a_student.items():\n",
        "             print(k,v)\n",
        "[(k,v) for id, a_student in course['students'].items() if int(a_student['age']) > 21 for k,v in a_student.items()]\n"
      ],
      "metadata": {
        "colab": {
          "base_uri": "https://localhost:8080/"
        },
        "id": "UjagVPi49B-j",
        "outputId": "12c34881-376f-474d-e8a3-2b7c0c7377e5"
      },
      "execution_count": 78,
      "outputs": [
        {
          "output_type": "stream",
          "name": "stdout",
          "text": [
            "name James\n",
            "age 32\n"
          ]
        },
        {
          "output_type": "execute_result",
          "data": {
            "text/plain": [
              "[('name', 'James'), ('age', '32')]"
            ]
          },
          "metadata": {},
          "execution_count": 78
        }
      ]
    },
    {
      "cell_type": "code",
      "source": [
        "# Computer science trivia \n",
        "import requests\n",
        "url = 'https://opentdb.com/api.php?amount=20&category=18'\n",
        "response = requests.get(url)\n",
        "storage = response.json()\n",
        "print('Json response is ', type(storage))\n",
        "storage\n",
        "#questions = storage['results']\n",
        "#print('questions are ',type(questions))\n",
        "#a_question = questions[1]\n",
        "#print('a single question is ', type(a_question))\n",
        "#print('incorrect answers are ', type(a_question['incorrect_answers']))\n",
        "#print('Here is an example question')\n",
        "#print(a_question)"
      ],
      "metadata": {
        "colab": {
          "base_uri": "https://localhost:8080/"
        },
        "id": "EJvNThdaADaV",
        "outputId": "ba911488-4f8d-4bdb-94d5-c7b0e12f27fe"
      },
      "execution_count": 79,
      "outputs": [
        {
          "output_type": "stream",
          "name": "stdout",
          "text": [
            "Json response is  <class 'dict'>\n"
          ]
        },
        {
          "output_type": "execute_result",
          "data": {
            "text/plain": [
              "{'response_code': 0,\n",
              " 'results': [{'category': 'Science: Computers',\n",
              "   'type': 'boolean',\n",
              "   'difficulty': 'medium',\n",
              "   'question': 'The common software-programming acronym &quot;I18N&quot; comes from the term &quot;Interlocalization&quot;.',\n",
              "   'correct_answer': 'False',\n",
              "   'incorrect_answers': ['True']},\n",
              "  {'category': 'Science: Computers',\n",
              "   'type': 'multiple',\n",
              "   'difficulty': 'medium',\n",
              "   'question': 'Moore&#039;s law originally stated that the number of transistors on a microprocessor chip would double every...',\n",
              "   'correct_answer': 'Year',\n",
              "   'incorrect_answers': ['Four Years', 'Two Years', 'Eight Years']},\n",
              "  {'category': 'Science: Computers',\n",
              "   'type': 'multiple',\n",
              "   'difficulty': 'medium',\n",
              "   'question': 'When was the programming language &quot;C#&quot; released?',\n",
              "   'correct_answer': '2000',\n",
              "   'incorrect_answers': ['1998', '1999', '2001']},\n",
              "  {'category': 'Science: Computers',\n",
              "   'type': 'multiple',\n",
              "   'difficulty': 'hard',\n",
              "   'question': 'How many Hz does the video standard PAL support?',\n",
              "   'correct_answer': '50',\n",
              "   'incorrect_answers': ['59', '60', '25']},\n",
              "  {'category': 'Science: Computers',\n",
              "   'type': 'multiple',\n",
              "   'difficulty': 'medium',\n",
              "   'question': 'The computer OEM manufacturer Clevo, known for its Sager notebook line, is based in which country?',\n",
              "   'correct_answer': 'Taiwan',\n",
              "   'incorrect_answers': ['United States',\n",
              "    'Germany',\n",
              "    'China (People&#039;s Republic of)']},\n",
              "  {'category': 'Science: Computers',\n",
              "   'type': 'multiple',\n",
              "   'difficulty': 'medium',\n",
              "   'question': 'What was the first commerically available computer processor?',\n",
              "   'correct_answer': 'Intel 4004',\n",
              "   'incorrect_answers': ['Intel 486SX', 'TMS 1000', 'AMD AM386']},\n",
              "  {'category': 'Science: Computers',\n",
              "   'type': 'multiple',\n",
              "   'difficulty': 'easy',\n",
              "   'question': 'How many kilobytes in one gigabyte (in decimal)?',\n",
              "   'correct_answer': '1000000',\n",
              "   'incorrect_answers': ['1024', '1000', '1048576']},\n",
              "  {'category': 'Science: Computers',\n",
              "   'type': 'multiple',\n",
              "   'difficulty': 'medium',\n",
              "   'question': 'Generally, which component of a computer draws the most power?',\n",
              "   'correct_answer': 'Video Card',\n",
              "   'incorrect_answers': ['Hard Drive', 'Processor', 'Power Supply']},\n",
              "  {'category': 'Science: Computers',\n",
              "   'type': 'multiple',\n",
              "   'difficulty': 'medium',\n",
              "   'question': 'Which one of these is not an official development name for a Ubuntu release?',\n",
              "   'correct_answer': 'Mystic Mansion',\n",
              "   'incorrect_answers': ['Trusty Tahr', 'Utopic Unicorn', 'Wily Werewolf']},\n",
              "  {'category': 'Science: Computers',\n",
              "   'type': 'multiple',\n",
              "   'difficulty': 'medium',\n",
              "   'question': 'What is the name of the default theme that is installed with Windows XP?',\n",
              "   'correct_answer': 'Luna',\n",
              "   'incorrect_answers': ['Neptune', 'Whistler', 'Bliss']},\n",
              "  {'category': 'Science: Computers',\n",
              "   'type': 'multiple',\n",
              "   'difficulty': 'hard',\n",
              "   'question': 'What port does HTTP run on?',\n",
              "   'correct_answer': '80',\n",
              "   'incorrect_answers': ['53', '443', '23']},\n",
              "  {'category': 'Science: Computers',\n",
              "   'type': 'boolean',\n",
              "   'difficulty': 'easy',\n",
              "   'question': 'The NVidia GTX 1080 gets its name because it can only render at a 1920x1080 screen resolution.',\n",
              "   'correct_answer': 'False',\n",
              "   'incorrect_answers': ['True']},\n",
              "  {'category': 'Science: Computers',\n",
              "   'type': 'multiple',\n",
              "   'difficulty': 'medium',\n",
              "   'question': 'What is the main CPU is the Sega Mega Drive / Sega Genesis?',\n",
              "   'correct_answer': 'Motorola 68000',\n",
              "   'incorrect_answers': ['Zilog Z80', 'Yamaha YM2612', 'Intel 8088']},\n",
              "  {'category': 'Science: Computers',\n",
              "   'type': 'multiple',\n",
              "   'difficulty': 'medium',\n",
              "   'question': 'Which of these people was NOT a founder of Apple Inc?',\n",
              "   'correct_answer': 'Jonathan Ive',\n",
              "   'incorrect_answers': ['Steve Jobs', 'Ronald Wayne', 'Steve Wozniak']},\n",
              "  {'category': 'Science: Computers',\n",
              "   'type': 'multiple',\n",
              "   'difficulty': 'hard',\n",
              "   'question': 'Released in 2001, the first edition of Apple&#039;s Mac OS X operating system (version 10.0) was given what animal code name?',\n",
              "   'correct_answer': 'Cheetah',\n",
              "   'incorrect_answers': ['Puma', 'Tiger', 'Leopard']},\n",
              "  {'category': 'Science: Computers',\n",
              "   'type': 'multiple',\n",
              "   'difficulty': 'medium',\n",
              "   'question': 'Approximately how many Apple I personal computers were created?',\n",
              "   'correct_answer': '200',\n",
              "   'incorrect_answers': ['100', '500', '1000']},\n",
              "  {'category': 'Science: Computers',\n",
              "   'type': 'multiple',\n",
              "   'difficulty': 'medium',\n",
              "   'question': 'What does RAID stand for?',\n",
              "   'correct_answer': 'Redundant Array of Independent Disks',\n",
              "   'incorrect_answers': ['Rapid Access for Indexed Devices',\n",
              "    'Range of Applications with Identical Designs',\n",
              "    'Randomized Abstract Identification Description']},\n",
              "  {'category': 'Science: Computers',\n",
              "   'type': 'multiple',\n",
              "   'difficulty': 'medium',\n",
              "   'question': 'How many bits make up the significand portion of a single precision floating point number?',\n",
              "   'correct_answer': '23',\n",
              "   'incorrect_answers': ['8', '53', '15']},\n",
              "  {'category': 'Science: Computers',\n",
              "   'type': 'multiple',\n",
              "   'difficulty': 'hard',\n",
              "   'question': 'Which of these Cherry MX mechanical keyboard switches is both tactile and clicky?',\n",
              "   'correct_answer': 'Cherry MX Blue',\n",
              "   'incorrect_answers': ['Cherry MX Black',\n",
              "    'Cherry MX Red',\n",
              "    'Cherry MX Brown']},\n",
              "  {'category': 'Science: Computers',\n",
              "   'type': 'multiple',\n",
              "   'difficulty': 'hard',\n",
              "   'question': 'Which kind of algorithm is Ron Rivest not famous for creating?',\n",
              "   'correct_answer': 'Secret sharing scheme',\n",
              "   'incorrect_answers': ['Hashing algorithm',\n",
              "    'Asymmetric encryption',\n",
              "    'Stream cipher']}]}"
            ]
          },
          "metadata": {},
          "execution_count": 79
        }
      ]
    },
    {
      "cell_type": "code",
      "source": [
        "question_statements = [a_question['question'] for a_question in questions]\n",
        "question_statements"
      ],
      "metadata": {
        "colab": {
          "base_uri": "https://localhost:8080/"
        },
        "id": "ElA4yECtDCgz",
        "outputId": "a3e2333b-66ac-4316-a6a1-63ae929ad7f5"
      },
      "execution_count": 80,
      "outputs": [
        {
          "output_type": "execute_result",
          "data": {
            "text/plain": [
              "['Which company was established on April 1st, 1976 by Steve Jobs, Steve Wozniak and Ronald Wayne?',\n",
              " 'Which internet company began life as an online bookstore called &#039;Cadabra&#039;?',\n",
              " 'Pointers were not used in the original C programming language; they were added later on in C++.',\n",
              " 'The series of the Intel HD graphics generation succeeding that of the 5000 and 6000 series (Broadwell) is called:',\n",
              " 'What was the name given to Android 4.3?',\n",
              " '&quot;Windows NT&quot; is a monolithic kernel.',\n",
              " 'How many kilobytes in one gigabyte (in decimal)?',\n",
              " 'On Twitter, what was the original character limit for a Tweet?',\n",
              " 'The first dual-core CPU was the Intel Pentium D.',\n",
              " 'Which of the following is a personal computer made by the Japanese company Fujitsu?',\n",
              " 'Which data structure does FILO apply to?',\n",
              " 'This mobile OS held the largest market share in 2012.',\n",
              " 'Laserjet and inkjet printers are both examples of what type of printer?',\n",
              " 'What does the term MIME stand for, in regards to computing?',\n",
              " 'Released in 2001, the first edition of Apple&#039;s Mac OS X operating system (version 10.0) was given what animal code name?',\n",
              " 'The name of technology company HP stands for what?',\n",
              " 'Approximately how many Apple I personal computers were created?',\n",
              " 'According to DeMorgan&#039;s Theorem, the Boolean expression (AB)&#039; is equivalent to:',\n",
              " 'The acronym &quot;RIP&quot; stands for which of these?',\n",
              " 'Which of these Cherry MX mechanical keyboard switches is both tactile and clicky?']"
            ]
          },
          "metadata": {},
          "execution_count": 80
        }
      ]
    },
    {
      "cell_type": "code",
      "source": [
        "def dict_walk(d,indent):\n",
        "    for k, v in d.items():\n",
        "        if type(v) == dict: \n",
        "            yield (k,'Dictionary')\n",
        "#            yield from dict_walk(v,indent+'  ')\n",
        "        else:\n",
        "            yield (k, v)        \n",
        "for k, v in dict_walk(course,''):\n",
        "      print(k, ': ', v) "
      ],
      "metadata": {
        "colab": {
          "base_uri": "https://localhost:8080/"
        },
        "id": "iXghLF3bFnnu",
        "outputId": "69a11fda-599b-42a5-a976-ebc992814a3e"
      },
      "execution_count": 86,
      "outputs": [
        {
          "output_type": "stream",
          "name": "stdout",
          "text": [
            "title :  Computing for Data Science\n",
            "instructor :  Dictionary\n",
            "students :  Dictionary\n",
            "modality :  zoom meet every monday, wednesday from 11 to 12:15\n"
          ]
        }
      ]
    },
    {
      "cell_type": "code",
      "source": [],
      "metadata": {
        "id": "UYl55LOzFyaQ"
      },
      "execution_count": 86,
      "outputs": []
    }
  ]
}